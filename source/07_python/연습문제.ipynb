{
 "cells": [
  {
   "cell_type": "markdown",
   "id": "80868524",
   "metadata": {},
   "source": [
    "# 연습문제"
   ]
  },
  {
   "cell_type": "code",
   "execution_count": 2,
   "id": "37a2e5bd",
   "metadata": {},
   "outputs": [
    {
     "name": "stdout",
     "output_type": "stream",
     "text": [
      "홍길동님의 나이는 23살 입니다.\n"
     ]
    }
   ],
   "source": [
    "# 1.이름과 나이 변수를 다음 형식으로 출력하도록 format() 함수를 이용해 형식화 하세요\n",
    "# '홍길동'님의 나이는 23살 입니다.\n",
    "name = '홍길동'\n",
    "age = 23\n",
    "print('{}님의 나이는 {}살 입니다.'.format(name, age))"
   ]
  },
  {
   "cell_type": "code",
   "execution_count": 15,
   "id": "2fc7d64f",
   "metadata": {},
   "outputs": [
    {
     "name": "stdout",
     "output_type": "stream",
     "text": [
      "첫번째 정수 를 입력해주세요 :8\n",
      "두번째 정수 를 입력해주세요 :2\n",
      "더하기 =  10\n",
      "뺄셈 =  6\n",
      "곱셈 =  64\n",
      "나눗셈 =  4.0\n",
      "몫 =  4\n",
      "나머지 값 = 0\n",
      "8정수와 2정수의 몫은 = 4 입니다\n"
     ]
    }
   ],
   "source": [
    "# 2.두 정수를 입력받아 두 수의 덧셈, 뺄셈, 곱셈, 나눗셈, 몫, 나머지 값을 출력하시오\n",
    "num1 = int(input(\"첫번째 정수 를 입력해주세요 :\"))\n",
    "num2 = int(input(\"두번째 정수 를 입력해주세요 :\"))\n",
    "\n",
    "print(\"더하기 = \", num1+num2)\n",
    "print(\"뺄셈 = \", num1-num2)\n",
    "print(\"곱셈 = \", num1**num2)\n",
    "print(\"나눗셈 = \", num1/num2)\n",
    "print(\"몫 = \", num1//num2)\n",
    "print(\"나머지 값 =\", num1%num2)\n",
    "print(\"{}정수와 {}정수의 몫은 = {} 입니다\".format(num1, num2, num1//num2))"
   ]
  },
  {
   "cell_type": "code",
   "execution_count": 8,
   "id": "b8567196",
   "metadata": {},
   "outputs": [
    {
     "name": "stdout",
     "output_type": "stream",
     "text": [
      "['World', 'Hello']\n"
     ]
    }
   ],
   "source": [
    "# 3.문자열의 분리하기와 합치기 기능을 이용하여 'Hello World'를 'World Hello'를 출력하시오\n",
    "str = \"Hello World\"\n",
    "splited_str = str.split()\n",
    "print(splited_str[::-1])"
   ]
  },
  {
   "cell_type": "code",
   "execution_count": 10,
   "id": "db18f8e2",
   "metadata": {},
   "outputs": [
    {
     "name": "stdout",
     "output_type": "stream",
     "text": [
      "bcdefa\n"
     ]
    }
   ],
   "source": [
    "# 4.x = 'abcdef'를 이용하여 'bcdefa'로 출력하시오\n",
    "x = 'abcdef'\n",
    "print(x[1:]+x[0])"
   ]
  },
  {
   "cell_type": "code",
   "execution_count": 11,
   "id": "dde6a902",
   "metadata": {},
   "outputs": [
    {
     "name": "stdout",
     "output_type": "stream",
     "text": [
      "fedcba\n"
     ]
    }
   ],
   "source": [
    "# 5.x = 'abcdef'를 이용하여 'fedcba'로 출력하시오\n",
    "print(x[::-1])"
   ]
  },
  {
   "cell_type": "code",
   "execution_count": 12,
   "id": "52434333",
   "metadata": {},
   "outputs": [
    {
     "name": "stdout",
     "output_type": "stream",
     "text": [
      "섭씨 온도를 입력해주세요24\n",
      "섭씨 24도는 화씨 75.20입니다\n"
     ]
    }
   ],
   "source": [
    "# 6.섭씨온도로 입력받아 화씨 온도로 변환\n",
    "c = int(input('섭씨 온도를 입력해주세요'))\n",
    "f = (c*1.8)+32\n",
    "print(\"섭씨 {}도는 화씨 {:.2f}도 입니다\".format(c, f))"
   ]
  },
  {
   "cell_type": "code",
   "execution_count": null,
   "id": "8b9e53e3",
   "metadata": {},
   "outputs": [],
   "source": [
    "# 7.다음중 변수 선언으로 잘못된 것을 모두 고르시오\n",
    "# ① for - 예약어로 변수 이름으로 사용 할수 없다 for는 반복문 의 예약어 이다\n",
    "# ② 10th - 숫자로 시작하는 변수 이름은 사용할수 없다 반드시 문자나 _ 로 시작해야한다\n",
    "# ③ Student.name - 객체나 클래스 속성에 접근할때 사용하는 형식으로 단독 변수 이름으로 사용할수없다\n",
    "# ④ _1234 - 변수 사용 가능"
   ]
  },
  {
   "cell_type": "code",
   "execution_count": 17,
   "id": "4b344118",
   "metadata": {},
   "outputs": [
    {
     "name": "stdout",
     "output_type": "stream",
     "text": [
      "SeounSeoul\n",
      "Seou n Seoul\n"
     ]
    }
   ],
   "source": [
    "# 8. 다음 출력 결과는\n",
    "text = \"Seoul A001 - programming wiht python\"\n",
    "print(text[:4]+text[-1]+text.split()[0])\n",
    "print(text[:4], text[-1], text.split()[0])\n",
    "\n",
    "# text[:4] = Seou / [:4] 슬라이싱 을 이용한 문자열 일부 추출 \n",
    "# text[-1] = n\n",
    "# text.split()[0] Seoul"
   ]
  },
  {
   "cell_type": "code",
   "execution_count": null,
   "id": "e6f50ff6",
   "metadata": {},
   "outputs": [],
   "source": [
    "# 9. 파이썬 연산식과 그 결과의 출력이 잘못 된 것은?\n",
    "# ① 수식 8//2 결과 4\n",
    "# ② 수식 8/2 결과 4\n",
    "# ③ 수식 8**2 결과 64\n",
    "\n",
    "# 정답 2번 결과는 4.0 이다 "
   ]
  },
  {
   "cell_type": "code",
   "execution_count": null,
   "id": "879fffd6",
   "metadata": {},
   "outputs": [],
   "source": [
    "# 10. 해당 결과는 int와 str 으로 나눠져 있어서 하나의 값을 안바꾸면 에러가 난다\n",
    "x = 5\n",
    "y = \"John\"\n",
    "print(x, y)"
   ]
  },
  {
   "cell_type": "code",
   "execution_count": 13,
   "id": "964fbf5b",
   "metadata": {},
   "outputs": [
    {
     "data": {
      "text/plain": [
       "'나라'"
      ]
     },
     "execution_count": 13,
     "metadata": {},
     "output_type": "execute_result"
    }
   ],
   "source": [
    "# 11.split()함수를 이용하여 str_갑 중 \"나라\" 를 출력하는 프로그램을 완성하시오\n",
    "str_ = \"우리 나라 대한 민국\"\n",
    "str_.split()[1]"
   ]
  },
  {
   "cell_type": "code",
   "execution_count": 20,
   "id": "d3f10a92",
   "metadata": {},
   "outputs": [
    {
     "name": "stdout",
     "output_type": "stream",
     "text": [
      "1번 결과 : [1, 2, 3, 4, 5, 6, 7, 8, 9, 10, 100]\n",
      "2번 결과 : [1, 2, 3, 4, 5, 6, 7, 8, 9, 10, 100, 200, 300, 400, 500]\n",
      "3번 결과 : [1, 2, 3, 4, 5]\n",
      "4번 결과 : [1, 3, 5, 7, 9, 100, 300, 500]\n",
      "5번 결과 : [0, 2, 0, 4, 0, 6, 0, 8, 0, 10, 0, 200, 0, 400, 0]\n",
      "6번 결과 : [0, 400, 0, 200, 0, 10, 0, 8, 0, 6, 0, 4, 0, 2, 0]\n"
     ]
    }
   ],
   "source": [
    "numbers = [1, 2, 3, 4, 5, 6, 7, 8, 9, 10]\n",
    "# 1.숫자 100을 맨뒤에 추가\n",
    "numbers.append(100)\n",
    "print(\"1번 결과 :\", numbers)\n",
    "# 2.다음 리스트를 numbers 리스트 맨뒤에 추가 [200, 300, 400, 500]\n",
    "data = [200, 300, 400, 500]\n",
    "numbers.extend(data)\n",
    "print(\"2번 결과 :\", numbers)\n",
    "# 3.처음 다섯개 숫자만 출력\n",
    "print(\"3번 결과 :\", numbers[:5])\n",
    "# 4.짝수번째 데이터만 출력\n",
    "print(\"4번 결과 :\", numbers[::2])\n",
    "# 5.짝수번째 데이터를 모두 0으로 바꾸기\n",
    "numbers[::2] = [0] * len(numbers[::2])\n",
    "print(\"5번 결과 :\", numbers)\n",
    "# 6.데이터를 역순으로 나열\n",
    "print(\"6번 결과 :\", numbers[::-1])"
   ]
  },
  {
   "cell_type": "code",
   "execution_count": 23,
   "id": "bb25ecce",
   "metadata": {},
   "outputs": [
    {
     "name": "stdout",
     "output_type": "stream",
     "text": [
      "7번 결과 : 서울시 마포구\n",
      "score : 90\n",
      "8번 결과 : {'name': '홍길동', 'age': 20, 'address': '서울시 마포구'}\n",
      "9번 결과 : {'name': '홍길동', 'age': 20, 'address': '서울시 관악구'}\n",
      "10번 결과 : ['홍길동', 20, '서울시 관악구']\n"
     ]
    }
   ],
   "source": [
    "member = {'name':'홍길동',\"age\":20,\"address\":\"서울시 마포구\",\"score\":90}\n",
    "# 7. address값 출력\n",
    "print(\"7번 결과 :\", member.get('address'))\n",
    "# 8.score를 출력 하고 딕셔너리에서 삭제 \n",
    "print(\"score :\", member.pop('score'))\n",
    "print(\"8번 결과 :\", member)\n",
    "# 9.address 변경\n",
    "member['address'] = \"서울시 관악구\"\n",
    "print(\"9번 결과 :\", member)\n",
    "# 10.데이터 값만 리스트로 출력\n",
    "print(\"10번 결과 :\", list(member.values()))"
   ]
  },
  {
   "cell_type": "markdown",
   "id": "26bade98",
   "metadata": {},
   "source": [
    "# 서술형 문제"
   ]
  },
  {
   "cell_type": "code",
   "execution_count": null,
   "id": "10f165d5",
   "metadata": {},
   "outputs": [],
   "source": [
    "# 다음 코드 실행시 출력되는 결과물\n",
    "L1 = (\"orange\",\"apple\",\"banana\",\"kiwi\")\n",
    "new_list = [i for i in L1 if len(i)>5]\n",
    "print(new_list)\n",
    "# 실행시 len(i)>5 이므로 orange, banana 만 출력된다"
   ]
  },
  {
   "cell_type": "code",
   "execution_count": null,
   "id": "a0b0d718",
   "metadata": {},
   "outputs": [],
   "source": [
    "# 실행결과가 잘못 짝지어진것 3번 10번부터 0번까지 -1 으로 [10,9,8,7,6,5,4,3,2,1,0] 이 정답\n",
    "# print(list(range(10))) -> [0,1,2,3,4,5,6,7,8,9]\n",
    "# print(list(range(5,10))) -> [5,6,7,8,9]\n",
    "# print(list(range(10,0,-1))) -> [9,8,7,6,5,4,3,2,1,0]\n",
    "# print(list(range(10,20,2))) -> [10,12,14,16,18]"
   ]
  },
  {
   "cell_type": "code",
   "execution_count": null,
   "id": "e3cfc47b",
   "metadata": {},
   "outputs": [],
   "source": []
  },
  {
   "cell_type": "code",
   "execution_count": null,
   "id": "783eeff2",
   "metadata": {},
   "outputs": [],
   "source": []
  },
  {
   "cell_type": "code",
   "execution_count": null,
   "id": "93aee758",
   "metadata": {},
   "outputs": [],
   "source": []
  },
  {
   "cell_type": "code",
   "execution_count": null,
   "id": "62fec28b",
   "metadata": {},
   "outputs": [],
   "source": []
  }
 ],
 "metadata": {
  "kernelspec": {
   "display_name": "Python 3 (ipykernel)",
   "language": "python",
   "name": "python3"
  },
  "language_info": {
   "codemirror_mode": {
    "name": "ipython",
    "version": 3
   },
   "file_extension": ".py",
   "mimetype": "text/x-python",
   "name": "python",
   "nbconvert_exporter": "python",
   "pygments_lexer": "ipython3",
   "version": "3.10.9"
  },
  "toc": {
   "base_numbering": 1,
   "nav_menu": {},
   "number_sections": true,
   "sideBar": true,
   "skip_h1_title": false,
   "title_cell": "Table of Contents",
   "title_sidebar": "Contents",
   "toc_cell": false,
   "toc_position": {},
   "toc_section_display": true,
   "toc_window_display": false
  }
 },
 "nbformat": 4,
 "nbformat_minor": 5
}
