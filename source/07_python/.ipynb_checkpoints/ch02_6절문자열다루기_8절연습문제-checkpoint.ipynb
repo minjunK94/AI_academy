{
 "cells": [
  {
   "cell_type": "markdown",
   "id": "b65f8bfb",
   "metadata": {},
   "source": [
    "   <b><font size=\"6\" color=\"red\">ch02. 자료형과 연산자</font></b>"
   ]
  },
  {
   "cell_type": "markdown",
   "id": "b49fc972",
   "metadata": {},
   "source": [
    "# 6절.문자열 다루기\n",
    "- 문자열슬라이싱변수[from:to:by]\n",
    "- len(문자열변수)\n",
    "- upper() : 대문자\n",
    "- lower() : 소문자\n",
    "- title() : 각 음절의 앞글자만 대문자로 변경\n",
    "- capitalize() : 첫문자만 대문자로\n",
    "- count('찾을문자열') : '찾을문자열' 이 몇개 들어있는지 갯수 반환\n",
    "- find('찾을문자열') : '찾을문자열' 이 왼쪽부터 시작하여 몇번째에 있는지 index를 반환                                (찾을 문자열이 없으면 -1을 반환)\n",
    "- rfind('찾을문자열') : '찾을문자열' 이 맨 오른쪽부터 시작하여 몇번째에 있는지 index를 반환                           (찾을 문자열이 없으면 -1을 반환)\n",
    "- cf.index('찾을문자열') : '찾을문자열' 이 왼쪽부터 시작하여 몇번째 있는지 index를 반환                                 (찾을 문자열이 없으면 오류가 발생함)\n",
    "- startswith('특정문자열') : '특정문자열' 로 시작하는지 여부 를 반환\n",
    "- endswith('특정문자열') : '특정문자열' 로 끝나는지 여부 를 반환\n",
    "- strip() : 좌우 공백 제거(trim)\n",
    "- rstrip() : 오른쪽 공백 제거\n",
    "- lstrip() : 왼쪽 공백 제거\n",
    "- split() : 문자열을 공백이나 다른 문자 기준으로 나누어 리스트로 반환\n",
    "- isdigit() : 문자열이 숫자 문자열인지 여부 반환\n",
    "- islower() : 문자열이 소문자인지 여부 반환\n",
    "- isupper() : 문자열이 대문자인지 여부 반환\n",
    "- replace(oldStr, newStr) : oldStr을 newStr을 변경"
   ]
  },
  {
   "cell_type": "code",
   "execution_count": 3,
   "id": "705cb107",
   "metadata": {},
   "outputs": [
    {
     "data": {
      "text/plain": [
       "('python is easy. python is smart', 31)"
      ]
     },
     "execution_count": 3,
     "metadata": {},
     "output_type": "execute_result"
    }
   ],
   "source": [
    "temp = \"python is easy. python is smart\"\n",
    "temp, len(temp)"
   ]
  },
  {
   "cell_type": "code",
   "execution_count": 4,
   "id": "91dc1a73",
   "metadata": {},
   "outputs": [
    {
     "name": "stdout",
     "output_type": "stream",
     "text": [
      "첫번째 글자는 p이고, 마지막 글자는 t입니다.\n"
     ]
    }
   ],
   "source": [
    "print('첫번째 글자는 {}이고, 마지막 글자는 {}입니다.'.format(temp[0], temp[-1]))"
   ]
  },
  {
   "cell_type": "code",
   "execution_count": 5,
   "id": "0ea98d4f",
   "metadata": {},
   "outputs": [
    {
     "name": "stdout",
     "output_type": "stream",
     "text": [
      "전화번호 끝자리 : 2132\n"
     ]
    }
   ],
   "source": [
    "tel = \"010-7894-2132\"\n",
    "print('전화번호 끝자리 :', tel[-4:])"
   ]
  },
  {
   "cell_type": "code",
   "execution_count": 27,
   "id": "063f5194",
   "metadata": {},
   "outputs": [
    {
     "name": "stdout",
     "output_type": "stream",
     "text": [
      "대문자로 : PYTHON IS EASY. PYTHON IS SMART. PYTHON\n",
      "소문자로 : python is easy. python is smart. python\n",
      "앞에문자만 :  Python Is Easy. Python Is Smart. Python\n",
      "맨앞에문자만 : Python is easy. python is smart. python\n",
      "python 찾기 : 2 번\n",
      "대소문자 구분없이 python이 몇번 나오는지 : 3\n",
      "대소문자 구분없이 python이 몇번 나오는지 : 3\n",
      "대소문자 구분없이 python이 몇번 나오는지 : 3\n",
      "python이 나오는 첫 index 위치 : 0\n",
      "python이 나오는 마지막 index 위치 : 33\n",
      "Java가 나오는 첫 index 위치 : -1\n",
      "python이 나오는 첫 index 위치 : 0\n",
      "python으로 시작하는 문자열인지 : True\n",
      "python으로 끝나는 문자열인지 : True\n",
      "python대신 R로 변경 : R is easy. pyThon is Smart. R\n"
     ]
    }
   ],
   "source": [
    "temp = \"python is easy. pyThon is Smart. python\"\n",
    "print('대문자로 :', temp.upper())\n",
    "print('소문자로 :', temp.lower())\n",
    "print('앞에문자만 : ', temp.title())\n",
    "print('맨앞에문자만 :', temp.capitalize())\n",
    "print('python 찾기 :', temp.count('python'), '번')\n",
    "print('대소문자 구분없이 python이 몇번 나오는지 :', temp.lower().count('python'))\n",
    "print('대소문자 구분없이 python이 몇번 나오는지 :', temp.upper().count('PYTHON'))\n",
    "print('대소문자 구분없이 python이 몇번 나오는지 :', temp.title().count('Python'))\n",
    "print('python이 나오는 첫 index 위치 :', temp.find('python'))\n",
    "print('python이 나오는 마지막 index 위치 :', temp.rfind('python'))\n",
    "print('Java가 나오는 첫 index 위치 :', temp.find('Java'))\n",
    "print('python이 나오는 첫 index 위치 :', temp.index('python'))\n",
    "print('python으로 시작하는 문자열인지 :', temp.startswith('python'))\n",
    "print('python으로 끝나는 문자열인지 :', temp.endswith('python'))\n",
    "print('python대신 R로 변경 :', temp.replace('python', 'R'))"
   ]
  },
  {
   "cell_type": "code",
   "execution_count": 45,
   "id": "c5038af9",
   "metadata": {},
   "outputs": [
    {
     "name": "stdout",
     "output_type": "stream",
     "text": [
      "strip() : [python is easy]\n",
      "lstrip() : [python is easy      ]\n",
      "rstrip() : [       python is easy]\n",
      "isdigit() : True\n",
      "대문자인지 : False\n",
      "소문자인지 : True\n"
     ]
    }
   ],
   "source": [
    "temp = '       python is easy      '\n",
    "notdisit = '1,234'\n",
    "print('strip() : [{}]'.format(temp.strip()))\n",
    "print('lstrip() : [{}]'.format(temp.lstrip()))\n",
    "print('rstrip() : [{}]'.format(temp.rstrip()))\n",
    "print('isdigit() : {}'.format(notdisit.replace(',','').isdigit()))\n",
    "print('대문자인지 : {}'.format(temp.isupper()))\n",
    "print('소문자인지 : {}'.format(temp.islower()))"
   ]
  },
  {
   "cell_type": "code",
   "execution_count": 48,
   "id": "7e6f53e2",
   "metadata": {},
   "outputs": [
    {
     "name": "stdout",
     "output_type": "stream",
     "text": [
      "space 단위로 temp를 분리(list로 반환) : ['홍길동', '김길동', '신길동', '유길동']\n",
      "   \n"
     ]
    }
   ],
   "source": [
    "temp = '     홍길동          김길동 신길동 유길동'\n",
    "print('space 단위로 temp를 분리(list로 반환) :', temp.split())"
   ]
  },
  {
   "cell_type": "code",
   "execution_count": 56,
   "id": "5b9afa69",
   "metadata": {},
   "outputs": [
    {
     "name": "stdout",
     "output_type": "stream",
     "text": [
      "- 단위로 date를 분리(list로 반환)합니다\n",
      "date_list 0번방 : 2024 년\n",
      "date_list 1번방 : 11 월\n",
      "date_list 2번방 : 05 일\n"
     ]
    }
   ],
   "source": [
    "date = '2024-11-05'\n",
    "print('- 단위로 date를 분리(list로 반환)합니다')\n",
    "date_list = date.split('-')\n",
    "date_list\n",
    "print('date_list 0번방 :', date_list[0], '년')\n",
    "print('date_list 1번방 :', date_list[1], '월')\n",
    "print('date_list 2번방 :', date_list[2], '일')"
   ]
  },
  {
   "cell_type": "code",
   "execution_count": 61,
   "id": "55d7cedb",
   "metadata": {},
   "outputs": [
    {
     "name": "stdout",
     "output_type": "stream",
     "text": [
      "분리된 temp : ['Java', 'Oracle', '웹표준', 'JSP', 'PYTHON']\n",
      "Java / Oracle / 웹표준 / JSP / PYTHON\n"
     ]
    }
   ],
   "source": [
    "# ' - ' 을 ' / ' 로 바꾸기\n",
    "temp = 'Java - Oracle - 웹표준 - JSP - PYTHON'\n",
    "splited_temp =temp.split(' - ')\n",
    "print('분리된 temp :', splited_temp)\n",
    "joined_temp = ' / '.join(splited_temp) # join은 분리된 걸 연결하는 역활\n",
    "print(joined_temp)"
   ]
  },
  {
   "cell_type": "code",
   "execution_count": 62,
   "id": "f0ab82e3",
   "metadata": {},
   "outputs": [
    {
     "name": "stdout",
     "output_type": "stream",
     "text": [
      "A\n",
      "B\n",
      "C\n"
     ]
    }
   ],
   "source": [
    "str_ = 'ABC'\n",
    "for s in str_:\n",
    "    print(s)"
   ]
  },
  {
   "cell_type": "code",
   "execution_count": 63,
   "id": "fdbcf33e",
   "metadata": {},
   "outputs": [
    {
     "name": "stdout",
     "output_type": "stream",
     "text": [
      "A\n",
      "B\n",
      "C\n"
     ]
    }
   ],
   "source": [
    "str_list = ['A', 'B', 'C']\n",
    "for s in str_list:\n",
    "    print(s)"
   ]
  },
  {
   "cell_type": "code",
   "execution_count": 65,
   "id": "9b48f56e",
   "metadata": {},
   "outputs": [
    {
     "data": {
      "text/plain": [
       "['__add__',\n",
       " '__class__',\n",
       " '__contains__',\n",
       " '__delattr__',\n",
       " '__dir__',\n",
       " '__doc__',\n",
       " '__eq__',\n",
       " '__format__',\n",
       " '__ge__',\n",
       " '__getattribute__',\n",
       " '__getitem__',\n",
       " '__getnewargs__',\n",
       " '__gt__',\n",
       " '__hash__',\n",
       " '__init__',\n",
       " '__init_subclass__',\n",
       " '__iter__',\n",
       " '__le__',\n",
       " '__len__',\n",
       " '__lt__',\n",
       " '__mod__',\n",
       " '__mul__',\n",
       " '__ne__',\n",
       " '__new__',\n",
       " '__reduce__',\n",
       " '__reduce_ex__',\n",
       " '__repr__',\n",
       " '__rmod__',\n",
       " '__rmul__',\n",
       " '__setattr__',\n",
       " '__sizeof__',\n",
       " '__str__',\n",
       " '__subclasshook__',\n",
       " 'capitalize',\n",
       " 'casefold',\n",
       " 'center',\n",
       " 'count',\n",
       " 'encode',\n",
       " 'endswith',\n",
       " 'expandtabs',\n",
       " 'find',\n",
       " 'format',\n",
       " 'format_map',\n",
       " 'index',\n",
       " 'isalnum',\n",
       " 'isalpha',\n",
       " 'isascii',\n",
       " 'isdecimal',\n",
       " 'isdigit',\n",
       " 'isidentifier',\n",
       " 'islower',\n",
       " 'isnumeric',\n",
       " 'isprintable',\n",
       " 'isspace',\n",
       " 'istitle',\n",
       " 'isupper',\n",
       " 'join',\n",
       " 'ljust',\n",
       " 'lower',\n",
       " 'lstrip',\n",
       " 'maketrans',\n",
       " 'partition',\n",
       " 'removeprefix',\n",
       " 'removesuffix',\n",
       " 'replace',\n",
       " 'rfind',\n",
       " 'rindex',\n",
       " 'rjust',\n",
       " 'rpartition',\n",
       " 'rsplit',\n",
       " 'rstrip',\n",
       " 'split',\n",
       " 'splitlines',\n",
       " 'startswith',\n",
       " 'strip',\n",
       " 'swapcase',\n",
       " 'title',\n",
       " 'translate',\n",
       " 'upper',\n",
       " 'zfill']"
      ]
     },
     "execution_count": 65,
     "metadata": {},
     "output_type": "execute_result"
    }
   ],
   "source": [
    "dir(str)"
   ]
  },
  {
   "cell_type": "code",
   "execution_count": 5,
   "id": "54e0130d",
   "metadata": {},
   "outputs": [
    {
     "ename": "TypeError",
     "evalue": "unsupported operand type(s) for +: 'int' and 'str'",
     "output_type": "error",
     "traceback": [
      "\u001b[1;31m---------------------------------------------------------------------------\u001b[0m",
      "\u001b[1;31mTypeError\u001b[0m                                 Traceback (most recent call last)",
      "Cell \u001b[1;32mIn[5], line 3\u001b[0m\n\u001b[0;32m      1\u001b[0m x \u001b[38;5;241m=\u001b[39m \u001b[38;5;241m5\u001b[39m\n\u001b[0;32m      2\u001b[0m y \u001b[38;5;241m=\u001b[39m \u001b[38;5;124m\"\u001b[39m\u001b[38;5;124mJohn\u001b[39m\u001b[38;5;124m\"\u001b[39m\n\u001b[1;32m----> 3\u001b[0m \u001b[38;5;28mprint\u001b[39m(\u001b[43mx\u001b[49m\u001b[43m \u001b[49m\u001b[38;5;241;43m+\u001b[39;49m\u001b[43m \u001b[49m\u001b[43my\u001b[49m)\n",
      "\u001b[1;31mTypeError\u001b[0m: unsupported operand type(s) for +: 'int' and 'str'"
     ]
    }
   ],
   "source": [
    "x = 5\n",
    "y = \"John\"\n",
    "print(x + y)"
   ]
  },
  {
   "cell_type": "code",
   "execution_count": 10,
   "id": "325a9489",
   "metadata": {},
   "outputs": [
    {
     "name": "stdout",
     "output_type": "stream",
     "text": [
      "민국\n"
     ]
    }
   ],
   "source": [
    "str_ = \"우리 나라 대한 민국\"\n",
    "print(str_[4:6])"
   ]
  },
  {
   "cell_type": "code",
   "execution_count": null,
   "id": "33fb2348",
   "metadata": {},
   "outputs": [],
   "source": []
  },
  {
   "cell_type": "code",
   "execution_count": null,
   "id": "7d328079",
   "metadata": {},
   "outputs": [],
   "source": []
  },
  {
   "cell_type": "code",
   "execution_count": null,
   "id": "de4b5b0a",
   "metadata": {},
   "outputs": [],
   "source": []
  },
  {
   "cell_type": "code",
   "execution_count": null,
   "id": "c804b1ca",
   "metadata": {},
   "outputs": [],
   "source": []
  },
  {
   "cell_type": "markdown",
   "id": "dbb8aa49",
   "metadata": {},
   "source": [
    "# 7절. 시간,날짜 다루기"
   ]
  },
  {
   "cell_type": "code",
   "execution_count": 17,
   "id": "18b66233",
   "metadata": {},
   "outputs": [],
   "source": [
    "#datetime 모듈(~.py) 안에 datetime, date, time 을 import\n",
    "from datetime import datetime, date, time "
   ]
  },
  {
   "cell_type": "markdown",
   "id": "ce72df9a",
   "metadata": {},
   "source": [
    "### 7-1시간과 날짜"
   ]
  },
  {
   "cell_type": "code",
   "execution_count": 11,
   "id": "15f3455c",
   "metadata": {},
   "outputs": [
    {
     "data": {
      "text/plain": [
       "datetime.datetime(2025, 3, 7, 18, 0)"
      ]
     },
     "execution_count": 11,
     "metadata": {},
     "output_type": "execute_result"
    }
   ],
   "source": [
    "# 특정 시점을 갖는 datetime 객체 생성\n",
    "thatday = datetime(2025, 3, 7, 18, 0)\n",
    "thatday"
   ]
  },
  {
   "cell_type": "code",
   "execution_count": 15,
   "id": "f4be55ae",
   "metadata": {},
   "outputs": [
    {
     "name": "stdout",
     "output_type": "stream",
     "text": [
      "2025-03-07 18:00:00\n",
      "2025년 03월 07일 PM 06시 00분\n",
      "25년03월07일 18시00분00초\n"
     ]
    }
   ],
   "source": [
    "print(thatday)\n",
    "print(thatday.strftime(\"%Y년 %m월 %d일 %p %I시 %M분\"))\n",
    "print(\"{:%y년%m월%d일 %H시%M분%S초}\".format(thatday))"
   ]
  },
  {
   "cell_type": "code",
   "execution_count": 16,
   "id": "b27f5916",
   "metadata": {},
   "outputs": [
    {
     "name": "stdout",
     "output_type": "stream",
     "text": [
      "Wed Nov  6 09:54:20 2024\n",
      "2024-11-06 09:54:20.027445\n",
      "2024년 11월 06일 AM 09시 54분\n",
      "25년03월07일 18시00분00초\n"
     ]
    }
   ],
   "source": [
    "# 지금을 저장하는 datetime 객체 생성\n",
    "now = datetime.now()\n",
    "print(now.ctime()) # 사람이 읽기 쉬운 형태로\n",
    "print(now)\n",
    "print(now.strftime(\"%Y년 %m월 %d일 %p %I시 %M분\"))\n",
    "print(\"{:%y년%m월%d일 %H시%M분%S초}\".format(thatday))"
   ]
  },
  {
   "cell_type": "markdown",
   "id": "b474c154",
   "metadata": {},
   "source": [
    "### 7-2 날짜"
   ]
  },
  {
   "cell_type": "code",
   "execution_count": 18,
   "id": "04f2165b",
   "metadata": {},
   "outputs": [
    {
     "data": {
      "text/plain": [
       "datetime.date(2025, 3, 7)"
      ]
     },
     "execution_count": 18,
     "metadata": {},
     "output_type": "execute_result"
    }
   ],
   "source": [
    "# 특정한 날짜를 갖는 date 객체 생성\n",
    "someday = date(2025, 3, 7)\n",
    "someday"
   ]
  },
  {
   "cell_type": "code",
   "execution_count": 20,
   "id": "f93dbb5d",
   "metadata": {},
   "outputs": [
    {
     "name": "stdout",
     "output_type": "stream",
     "text": [
      "2025-03-07\n",
      "2025년03월07일 00시00분\n",
      "2025년03월07일 00시00분\n"
     ]
    }
   ],
   "source": [
    "print(someday)\n",
    "print(someday.strftime(\"%Y년%m월%d일 %H시%M분\"))\n",
    "print(\"{:%Y년%m월%d일 %H시%M분}\".format(someday))"
   ]
  },
  {
   "cell_type": "code",
   "execution_count": 27,
   "id": "c661e9f2",
   "metadata": {},
   "outputs": [
    {
     "data": {
      "text/plain": [
       "datetime.date(2024, 11, 6)"
      ]
     },
     "execution_count": 27,
     "metadata": {},
     "output_type": "execute_result"
    }
   ],
   "source": [
    "# 오늘을 갖는 date 객체 생성\n",
    "today = date.today()\n",
    "today"
   ]
  },
  {
   "cell_type": "code",
   "execution_count": 29,
   "id": "8f91a599",
   "metadata": {},
   "outputs": [
    {
     "name": "stdout",
     "output_type": "stream",
     "text": [
      "2024-11-06\n",
      "2024년11월06일 AM 12시00분00초\n"
     ]
    }
   ],
   "source": [
    "print(today)\n",
    "print(today.strftime(\"%Y년%m월%d일 %p %I시%M분%S초\"))"
   ]
  },
  {
   "cell_type": "code",
   "execution_count": null,
   "id": "c5840d70",
   "metadata": {},
   "outputs": [],
   "source": []
  },
  {
   "cell_type": "markdown",
   "id": "520d6ac3",
   "metadata": {},
   "source": [
    "### 7-3 시간"
   ]
  },
  {
   "cell_type": "code",
   "execution_count": 21,
   "id": "3b1c1a32",
   "metadata": {},
   "outputs": [
    {
     "data": {
      "text/plain": [
       "datetime.time(13, 12)"
      ]
     },
     "execution_count": 21,
     "metadata": {},
     "output_type": "execute_result"
    }
   ],
   "source": [
    "#특정한 시간을 저장하는 time 객체 생성\n",
    "t = time(13, 12)\n",
    "t"
   ]
  },
  {
   "cell_type": "code",
   "execution_count": 22,
   "id": "9e025826",
   "metadata": {},
   "outputs": [
    {
     "name": "stdout",
     "output_type": "stream",
     "text": [
      "13:12:00\n"
     ]
    }
   ],
   "source": [
    "print(t)"
   ]
  },
  {
   "cell_type": "code",
   "execution_count": 25,
   "id": "f7c706ef",
   "metadata": {},
   "outputs": [
    {
     "name": "stdout",
     "output_type": "stream",
     "text": [
      "1900년01월01일 PM 01시12분00초\n",
      "00년01월01일 Jan시12분00초\n"
     ]
    }
   ],
   "source": [
    "print(t.strftime(\"%Y년%m월%d일 %p %I시%M분%S초\"))\n",
    "print(\"{:%y년%m월%d일 %h시%M분%S초}\".format(t))"
   ]
  },
  {
   "cell_type": "code",
   "execution_count": 79,
   "id": "b34bd062",
   "metadata": {},
   "outputs": [
    {
     "data": {
      "text/plain": [
       "(2024, 11, 6, 10, 9, 47, 26635)"
      ]
     },
     "execution_count": 79,
     "metadata": {},
     "output_type": "execute_result"
    }
   ],
   "source": [
    "# 현재 시간을 저장하는 time 객체 생성\n",
    "now = datetime.now() # 현재 날짜와 시간이 저장된다\n",
    "now.year, now.month, now.day, now.hour, now.minute, now.second, now.microsecond"
   ]
  },
  {
   "cell_type": "code",
   "execution_count": 127,
   "id": "2caa915a",
   "metadata": {},
   "outputs": [
    {
     "name": "stdout",
     "output_type": "stream",
     "text": [
      "10:11:38.020327\n",
      "1900년01월01일 AM 10시11분38초\n",
      "00년01월01일 10시11분38초\n"
     ]
    }
   ],
   "source": [
    "now = datetime.now()\n",
    "now_time = time(now.hour, now.minute, now.second, now.microsecond)\n",
    "print(now_time)\n",
    "print(now_time.strftime(\"%Y년%m월%d일 %p %I시%M분%S초\"))\n",
    "print(\"{:%y년%m월%d일 %H시%M분%S초}\".format(now_time))"
   ]
  },
  {
   "cell_type": "markdown",
   "id": "a908978e",
   "metadata": {},
   "source": [
    "# 8절 연습문제"
   ]
  },
  {
   "cell_type": "code",
   "execution_count": 131,
   "id": "55997e0c",
   "metadata": {},
   "outputs": [
    {
     "name": "stdout",
     "output_type": "stream",
     "text": [
      "홍길동님의 나이는 23살입니다\n"
     ]
    }
   ],
   "source": [
    "# 1.이름과 나이 변수를 다음 형식으로 출력하도록 format() 함수를 이용해 형식화하세요\n",
    "# [출력형식 : 홍길동님의 나이는 23 살입니다]\n",
    "name = '홍길동'\n",
    "age = 23\n",
    "print(\"{}님의 나이는 {}살입니다\".format(name, age))"
   ]
  },
  {
   "cell_type": "code",
   "execution_count": 175,
   "id": "946a71f2",
   "metadata": {},
   "outputs": [
    {
     "name": "stdout",
     "output_type": "stream",
     "text": [
      "첫번째 숫자는?8\n",
      "두번째 숫자는?2\n",
      "덧셈 : 10\n",
      "뺄셈 : 6\n",
      "곱셈 : 16\n",
      "나눗셈 : 4.0\n",
      "몫 : 4\n",
      "나머지 : 0\n"
     ]
    }
   ],
   "source": [
    "# 2.두 정수를 입력받아 두 수의 덧셈 , 뺄셈 , 곱셈 , 나눗셈 , 몫 , 나머지를 출력하세요\n",
    "first = input('첫번째 숫자는?')\n",
    "second = input('두번째 숫자는?')\n",
    "print('덧셈 :', int(first) + int(second))\n",
    "print('뺄셈 :', int(first) - int(second))\n",
    "print('곱셈 :', int(first) * int(second))\n",
    "print('나눗셈 :', int(first) / int(second))\n",
    "print('몫 :', int(first) // int(second))\n",
    "print('나머지 :', int(first) % int(second))"
   ]
  },
  {
   "cell_type": "code",
   "execution_count": null,
   "id": "6b4a6b91",
   "metadata": {},
   "outputs": [],
   "source": []
  },
  {
   "cell_type": "code",
   "execution_count": 142,
   "id": "04114717",
   "metadata": {},
   "outputs": [
    {
     "name": "stdout",
     "output_type": "stream",
     "text": [
      "World Hello\n"
     ]
    }
   ],
   "source": [
    "# 3.문자열의 분리하기와 합치기 기능을 이용하여 ‘Hello World’ 가 할당된 변수를 이용하여\n",
    "# World Hello’ 로 출력하세요\n",
    "who1 = \"Hello\"\n",
    "who2 = \"World\"\n",
    "print(who2, who1)"
   ]
  },
  {
   "cell_type": "code",
   "execution_count": 170,
   "id": "5b366f78",
   "metadata": {},
   "outputs": [
    {
     "name": "stdout",
     "output_type": "stream",
     "text": [
      "bcdefa\n"
     ]
    }
   ],
   "source": [
    "# 4. x = ' abcdef ＇를 이용하여 bcdefa 로 출력하세요 문자 슬라이싱이용\n",
    "x = 'abcdef'\n",
    "print(x[1:]+x[:1])"
   ]
  },
  {
   "cell_type": "code",
   "execution_count": 171,
   "id": "4ed6cc71",
   "metadata": {},
   "outputs": [
    {
     "name": "stdout",
     "output_type": "stream",
     "text": [
      "fedcba\n"
     ]
    }
   ],
   "source": [
    "# 5.x = ‘ abcdef 를 이용하여 fedcba 로 출력하세요\n",
    "print(x[::-1])"
   ]
  },
  {
   "cell_type": "code",
   "execution_count": 182,
   "id": "f8684722",
   "metadata": {},
   "outputs": [
    {
     "name": "stdout",
     "output_type": "stream",
     "text": [
      "섭씨 온도를 입력하세요: 32\n",
      "화씨 온도: 89.6\n"
     ]
    }
   ],
   "source": [
    "# 6.오늘의 온도를 섭씨온도로 입력받아 화씨 온도로 변환하는 프로그램을 작성하세요 . 화\n",
    "# 씨 온도는 소수점이 있을 경우만 두번째 자리까지 출력되고 , 소수점이하 값이 없는 \n",
    "# 경우 소수점을 출력하지 않도록 합니다 다음은 섭씨와 화씨의 변환 공식입니다 \n",
    "# C 는 섭씨 ,F 는 화씨\n",
    "# C = (F32) / 1.8\n",
    "# F = (C1.8) + 32\n",
    "C = float(input(\"섭씨 온도를 입력하세요: \"))\n",
    "F = (C * 1.8) + 32\n",
    "print(f\"화씨 온도: {F:.2f}\".rstrip('0').rstrip('.'))"
   ]
  },
  {
   "cell_type": "code",
   "execution_count": null,
   "id": "67b9ab05",
   "metadata": {},
   "outputs": [],
   "source": [
    "# 7번 2번 4번 이용"
   ]
  },
  {
   "cell_type": "code",
   "execution_count": 174,
   "id": "ff61ed02",
   "metadata": {},
   "outputs": [
    {
     "name": "stdout",
     "output_type": "stream",
     "text": [
      "SeounSeoul\n",
      "Seoul n Seoul\n"
     ]
    }
   ],
   "source": [
    "# 다음 코드 실행 결과는\n",
    "text = \"Seoul A001 - programmint with python\"\n",
    "print(text[:4]+text[-1]+text.split()[0])\n",
    "print(text[:5], text[-1], text.split()[0])\n",
    "\n",
    "# SeounSeoul\n",
    "# Seoul n Seoul"
   ]
  },
  {
   "cell_type": "code",
   "execution_count": null,
   "id": "e7f9f697",
   "metadata": {},
   "outputs": [],
   "source": [
    "# 9. 다음 중 파이썬 3.x 버전에서 연산식과 그 결과의 출력이 잘못된 것은\n",
    "# ① 수식 8//2 결과 4\n",
    "# ② 수식 8/2 결과 4\n",
    "# ③ 수식 8 **2 결과 64\n",
    "\n",
    "# 2번이요 "
   ]
  },
  {
   "cell_type": "code",
   "execution_count": 179,
   "id": "ee6ea0ef",
   "metadata": {},
   "outputs": [
    {
     "name": "stdout",
     "output_type": "stream",
     "text": [
      "5John\n"
     ]
    }
   ],
   "source": [
    "# 10번 아래프로그램 결과는\n",
    "x = 5\n",
    "y = \"John\"\n",
    "print(x + y)\n",
    "\n",
    "x = 5\n",
    "y = \"John\"\n",
    "print(str(x) + y)"
   ]
  },
  {
   "cell_type": "code",
   "execution_count": 181,
   "id": "b780256f",
   "metadata": {},
   "outputs": [
    {
     "name": "stdout",
     "output_type": "stream",
     "text": [
      "민국\n"
     ]
    }
   ],
   "source": [
    "# 11번 split() 함수를 이용하여 str_ 의 값 중 나라 를 출력하는 프로그램을 완성하시오\n",
    "str_ = \"우리 나라 대한 민국\"\n",
    "print(str_[-2:])"
   ]
  },
  {
   "cell_type": "code",
   "execution_count": null,
   "id": "ac31d5ca",
   "metadata": {},
   "outputs": [],
   "source": []
  },
  {
   "cell_type": "code",
   "execution_count": null,
   "id": "ef80a532",
   "metadata": {},
   "outputs": [],
   "source": []
  },
  {
   "cell_type": "code",
   "execution_count": null,
   "id": "6e3f010f",
   "metadata": {},
   "outputs": [],
   "source": []
  },
  {
   "cell_type": "code",
   "execution_count": null,
   "id": "997dd537",
   "metadata": {},
   "outputs": [],
   "source": []
  },
  {
   "cell_type": "code",
   "execution_count": null,
   "id": "994ad451",
   "metadata": {},
   "outputs": [],
   "source": []
  },
  {
   "cell_type": "code",
   "execution_count": null,
   "id": "ae3059c7",
   "metadata": {},
   "outputs": [],
   "source": []
  },
  {
   "cell_type": "code",
   "execution_count": null,
   "id": "b0fc654a",
   "metadata": {},
   "outputs": [],
   "source": []
  },
  {
   "cell_type": "code",
   "execution_count": null,
   "id": "d56079d2",
   "metadata": {},
   "outputs": [],
   "source": []
  },
  {
   "cell_type": "code",
   "execution_count": null,
   "id": "d50dfa90",
   "metadata": {},
   "outputs": [],
   "source": []
  },
  {
   "cell_type": "code",
   "execution_count": null,
   "id": "a8342e96",
   "metadata": {},
   "outputs": [],
   "source": []
  },
  {
   "cell_type": "code",
   "execution_count": null,
   "id": "7ff44797",
   "metadata": {},
   "outputs": [],
   "source": []
  },
  {
   "cell_type": "code",
   "execution_count": null,
   "id": "df4d1b32",
   "metadata": {},
   "outputs": [],
   "source": []
  },
  {
   "cell_type": "code",
   "execution_count": null,
   "id": "939c0047",
   "metadata": {},
   "outputs": [],
   "source": []
  },
  {
   "cell_type": "code",
   "execution_count": null,
   "id": "d97395f9",
   "metadata": {},
   "outputs": [],
   "source": []
  },
  {
   "cell_type": "code",
   "execution_count": null,
   "id": "ffdc4b99",
   "metadata": {},
   "outputs": [],
   "source": []
  },
  {
   "cell_type": "code",
   "execution_count": null,
   "id": "66a4e7e9",
   "metadata": {},
   "outputs": [],
   "source": []
  },
  {
   "cell_type": "code",
   "execution_count": null,
   "id": "113fe2b4",
   "metadata": {},
   "outputs": [],
   "source": []
  },
  {
   "cell_type": "code",
   "execution_count": null,
   "id": "f60de983",
   "metadata": {},
   "outputs": [],
   "source": []
  },
  {
   "cell_type": "code",
   "execution_count": null,
   "id": "75954989",
   "metadata": {},
   "outputs": [],
   "source": []
  },
  {
   "cell_type": "code",
   "execution_count": null,
   "id": "8f640fb8",
   "metadata": {},
   "outputs": [],
   "source": []
  },
  {
   "cell_type": "code",
   "execution_count": null,
   "id": "ce4c196d",
   "metadata": {},
   "outputs": [],
   "source": []
  },
  {
   "cell_type": "code",
   "execution_count": null,
   "id": "70215173",
   "metadata": {},
   "outputs": [],
   "source": []
  },
  {
   "cell_type": "code",
   "execution_count": null,
   "id": "91430097",
   "metadata": {},
   "outputs": [],
   "source": []
  },
  {
   "cell_type": "code",
   "execution_count": null,
   "id": "467c6608",
   "metadata": {},
   "outputs": [],
   "source": []
  },
  {
   "cell_type": "code",
   "execution_count": null,
   "id": "4cfcdcba",
   "metadata": {},
   "outputs": [],
   "source": []
  },
  {
   "cell_type": "code",
   "execution_count": null,
   "id": "30b14060",
   "metadata": {},
   "outputs": [],
   "source": []
  },
  {
   "cell_type": "code",
   "execution_count": null,
   "id": "b66aa6af",
   "metadata": {},
   "outputs": [],
   "source": []
  },
  {
   "cell_type": "code",
   "execution_count": null,
   "id": "cc14e636",
   "metadata": {},
   "outputs": [],
   "source": []
  },
  {
   "cell_type": "code",
   "execution_count": null,
   "id": "6e7c2f76",
   "metadata": {},
   "outputs": [],
   "source": []
  },
  {
   "cell_type": "code",
   "execution_count": null,
   "id": "f4a2b8b1",
   "metadata": {},
   "outputs": [],
   "source": []
  },
  {
   "cell_type": "code",
   "execution_count": null,
   "id": "164ae7d3",
   "metadata": {},
   "outputs": [],
   "source": []
  },
  {
   "cell_type": "code",
   "execution_count": null,
   "id": "e18b7afc",
   "metadata": {},
   "outputs": [],
   "source": []
  },
  {
   "cell_type": "code",
   "execution_count": null,
   "id": "c92696f6",
   "metadata": {},
   "outputs": [],
   "source": []
  },
  {
   "cell_type": "code",
   "execution_count": null,
   "id": "ca1859dc",
   "metadata": {},
   "outputs": [],
   "source": []
  },
  {
   "cell_type": "code",
   "execution_count": null,
   "id": "1314dca3",
   "metadata": {},
   "outputs": [],
   "source": []
  },
  {
   "cell_type": "code",
   "execution_count": null,
   "id": "f9ef5a5e",
   "metadata": {},
   "outputs": [],
   "source": []
  },
  {
   "cell_type": "code",
   "execution_count": null,
   "id": "2ad45e19",
   "metadata": {},
   "outputs": [],
   "source": []
  },
  {
   "cell_type": "code",
   "execution_count": null,
   "id": "266f66a7",
   "metadata": {},
   "outputs": [],
   "source": []
  },
  {
   "cell_type": "code",
   "execution_count": null,
   "id": "46f013ae",
   "metadata": {},
   "outputs": [],
   "source": []
  },
  {
   "cell_type": "code",
   "execution_count": null,
   "id": "f2751b8f",
   "metadata": {},
   "outputs": [],
   "source": []
  },
  {
   "cell_type": "code",
   "execution_count": null,
   "id": "73bd19d0",
   "metadata": {},
   "outputs": [],
   "source": []
  },
  {
   "cell_type": "code",
   "execution_count": null,
   "id": "0e98efdc",
   "metadata": {},
   "outputs": [],
   "source": []
  },
  {
   "cell_type": "code",
   "execution_count": null,
   "id": "be3b0743",
   "metadata": {},
   "outputs": [],
   "source": []
  },
  {
   "cell_type": "code",
   "execution_count": null,
   "id": "e1ff037a",
   "metadata": {},
   "outputs": [],
   "source": []
  },
  {
   "cell_type": "code",
   "execution_count": null,
   "id": "35fe09cd",
   "metadata": {},
   "outputs": [],
   "source": []
  },
  {
   "cell_type": "code",
   "execution_count": null,
   "id": "a67ac325",
   "metadata": {},
   "outputs": [],
   "source": []
  },
  {
   "cell_type": "code",
   "execution_count": null,
   "id": "8991e4fe",
   "metadata": {},
   "outputs": [],
   "source": []
  },
  {
   "cell_type": "code",
   "execution_count": null,
   "id": "ef1a70aa",
   "metadata": {},
   "outputs": [],
   "source": []
  },
  {
   "cell_type": "code",
   "execution_count": null,
   "id": "878b9ff5",
   "metadata": {},
   "outputs": [],
   "source": []
  },
  {
   "cell_type": "code",
   "execution_count": null,
   "id": "cc8b7c09",
   "metadata": {},
   "outputs": [],
   "source": []
  },
  {
   "cell_type": "code",
   "execution_count": null,
   "id": "8c414eb4",
   "metadata": {},
   "outputs": [],
   "source": []
  },
  {
   "cell_type": "code",
   "execution_count": null,
   "id": "55a2b7a5",
   "metadata": {},
   "outputs": [],
   "source": []
  },
  {
   "cell_type": "code",
   "execution_count": null,
   "id": "ec348389",
   "metadata": {},
   "outputs": [],
   "source": []
  },
  {
   "cell_type": "code",
   "execution_count": null,
   "id": "3f867523",
   "metadata": {},
   "outputs": [],
   "source": []
  },
  {
   "cell_type": "code",
   "execution_count": null,
   "id": "8005d83b",
   "metadata": {},
   "outputs": [],
   "source": []
  },
  {
   "cell_type": "code",
   "execution_count": null,
   "id": "45c7f12c",
   "metadata": {},
   "outputs": [],
   "source": []
  },
  {
   "cell_type": "code",
   "execution_count": null,
   "id": "0648efbd",
   "metadata": {},
   "outputs": [],
   "source": []
  },
  {
   "cell_type": "code",
   "execution_count": null,
   "id": "aeaa0906",
   "metadata": {},
   "outputs": [],
   "source": []
  },
  {
   "cell_type": "code",
   "execution_count": null,
   "id": "7de69e4b",
   "metadata": {},
   "outputs": [],
   "source": []
  },
  {
   "cell_type": "code",
   "execution_count": null,
   "id": "ada46fdc",
   "metadata": {},
   "outputs": [],
   "source": []
  },
  {
   "cell_type": "code",
   "execution_count": null,
   "id": "4c5b5a1d",
   "metadata": {},
   "outputs": [],
   "source": []
  },
  {
   "cell_type": "code",
   "execution_count": null,
   "id": "18fcefed",
   "metadata": {},
   "outputs": [],
   "source": []
  },
  {
   "cell_type": "code",
   "execution_count": null,
   "id": "451a966f",
   "metadata": {},
   "outputs": [],
   "source": []
  },
  {
   "cell_type": "code",
   "execution_count": null,
   "id": "a9fe4506",
   "metadata": {},
   "outputs": [],
   "source": []
  },
  {
   "cell_type": "code",
   "execution_count": null,
   "id": "7dbef3cd",
   "metadata": {},
   "outputs": [],
   "source": []
  },
  {
   "cell_type": "code",
   "execution_count": null,
   "id": "e6fbfab4",
   "metadata": {},
   "outputs": [],
   "source": []
  },
  {
   "cell_type": "code",
   "execution_count": null,
   "id": "9142dff8",
   "metadata": {},
   "outputs": [],
   "source": []
  },
  {
   "cell_type": "code",
   "execution_count": null,
   "id": "11dcb9fe",
   "metadata": {},
   "outputs": [],
   "source": []
  },
  {
   "cell_type": "code",
   "execution_count": null,
   "id": "78658a16",
   "metadata": {},
   "outputs": [],
   "source": []
  },
  {
   "cell_type": "code",
   "execution_count": null,
   "id": "bb01ca6e",
   "metadata": {},
   "outputs": [],
   "source": []
  },
  {
   "cell_type": "code",
   "execution_count": null,
   "id": "64083c42",
   "metadata": {},
   "outputs": [],
   "source": []
  },
  {
   "cell_type": "code",
   "execution_count": null,
   "id": "1095aad9",
   "metadata": {},
   "outputs": [],
   "source": []
  },
  {
   "cell_type": "code",
   "execution_count": null,
   "id": "2f4a5e76",
   "metadata": {},
   "outputs": [],
   "source": []
  },
  {
   "cell_type": "code",
   "execution_count": null,
   "id": "9dc0dddc",
   "metadata": {},
   "outputs": [],
   "source": []
  },
  {
   "cell_type": "code",
   "execution_count": null,
   "id": "6d80cfc6",
   "metadata": {},
   "outputs": [],
   "source": []
  },
  {
   "cell_type": "code",
   "execution_count": null,
   "id": "fc8ecd85",
   "metadata": {},
   "outputs": [],
   "source": []
  },
  {
   "cell_type": "code",
   "execution_count": null,
   "id": "7c33020b",
   "metadata": {},
   "outputs": [],
   "source": []
  }
 ],
 "metadata": {
  "kernelspec": {
   "display_name": "Python 3 (ipykernel)",
   "language": "python",
   "name": "python3"
  },
  "language_info": {
   "codemirror_mode": {
    "name": "ipython",
    "version": 3
   },
   "file_extension": ".py",
   "mimetype": "text/x-python",
   "name": "python",
   "nbconvert_exporter": "python",
   "pygments_lexer": "ipython3",
   "version": "3.10.9"
  },
  "toc": {
   "base_numbering": 1,
   "nav_menu": {},
   "number_sections": true,
   "sideBar": true,
   "skip_h1_title": false,
   "title_cell": "Table of Contents",
   "title_sidebar": "Contents",
   "toc_cell": false,
   "toc_position": {
    "height": "calc(100% - 180px)",
    "left": "10px",
    "top": "150px",
    "width": "165px"
   },
   "toc_section_display": true,
   "toc_window_display": true
  }
 },
 "nbformat": 4,
 "nbformat_minor": 5
}
