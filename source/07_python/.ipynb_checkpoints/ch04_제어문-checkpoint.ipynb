{
 "cells": [
  {
   "cell_type": "markdown",
   "id": "090eec8b",
   "metadata": {},
   "source": [
    "<b><font color=\"red\" size=\"6\">ch04. 제어문</font></b>\n",
    "- if문, for-in문, while문, 중첩가능, 중첩루프탈출"
   ]
  },
  {
   "cell_type": "markdown",
   "id": "fb67ea12",
   "metadata": {},
   "source": [
    "# 1절. 조건문(if)"
   ]
  },
  {
   "cell_type": "code",
   "execution_count": 3,
   "id": "2e5475c5",
   "metadata": {},
   "outputs": [
    {
     "name": "stdout",
     "output_type": "stream",
     "text": [
      "Enter your score >65\n",
      "분발하실거죠?\n",
      "뭐 그래도 고생했어요\n"
     ]
    }
   ],
   "source": [
    "score = int(input('Enter your score >'))\n",
    "if score>=90 :\n",
    "    print('참 잘했어요')\n",
    "    print('다음에도 기대할께요')\n",
    "elif score>=60 :\n",
    "    print('분발하실거죠?')\n",
    "    print('뭐 그래도 고생했어요')\n",
    "else:\n",
    "    print('재시험 응시하셔야 합니다')\n",
    "    print('화이팅')"
   ]
  },
  {
   "cell_type": "code",
   "execution_count": 4,
   "id": "978d738c",
   "metadata": {},
   "outputs": [
    {
     "name": "stdout",
     "output_type": "stream",
     "text": [
      "Enter your score >101\n",
      "입력하신 점수는 101점이고, 유효하지 않은 점수등급입니다\n"
     ]
    }
   ],
   "source": [
    "# 점수를 입력받아 학점출력(A, B, C, D, F, 유효하지 않은 점수)\n",
    "score = int(input('Enter your score >'))\n",
    "if 90 <= score <= 100: # if (90<=score) & (score<=100)할 필요 없음\n",
    "    grade = 'A'\n",
    "elif 80 <= score < 90:\n",
    "    grade = 'B'\n",
    "elif 70 <= score < 80:\n",
    "    grade = 'C'\n",
    "elif 60 <= score < 70:\n",
    "    grade = 'D'\n",
    "elif 0<= score < 60:\n",
    "    grade = 'F'\n",
    "else:\n",
    "    grade = '유효하지 않은 점수'\n",
    "print(\"입력하신 점수는 {}점이고, {}등급입니다\".format(score, grade))"
   ]
  },
  {
   "cell_type": "markdown",
   "id": "2c89c1d9",
   "metadata": {},
   "source": [
    "# 2절. 반복문\n",
    "## 2.1 for-in문\n",
    "```\n",
    "for 임시변수 in 나열가능한자료:\n",
    "    반복할문장1\n",
    "    반복할문장2\n",
    "else:\n",
    "    나열가능한자료를 다 소요하여 for블록을 다 수행한 후, 최종 한번만 실행할 문장(else선택사항)\n",
    "    for문안에 break가 있을 경우, else블럭은 수행되지 않음\n",
    "```"
   ]
  },
  {
   "cell_type": "code",
   "execution_count": 8,
   "id": "a24dc559",
   "metadata": {},
   "outputs": [
    {
     "name": "stdout",
     "output_type": "stream",
     "text": [
      "1\t3\t5\t7\t9\t\n",
      "DONE\n",
      "END\n"
     ]
    }
   ],
   "source": [
    "for i in range(1, 10, 2):\n",
    "    print(i, end='\\t')\n",
    "else:\n",
    "    print('\\nDONE')\n",
    "print(\"END\")"
   ]
  },
  {
   "cell_type": "code",
   "execution_count": 10,
   "id": "ef7340a8",
   "metadata": {},
   "outputs": [
    {
     "name": "stdout",
     "output_type": "stream",
     "text": [
      "1\t3\tEND\n"
     ]
    }
   ],
   "source": [
    "for i in range(1, 10, 2):\n",
    "    if i==5:\n",
    "        break\n",
    "    print(i, end='\\t')\n",
    "else:\n",
    "    print('\\nDONE')\n",
    "print(\"END\")"
   ]
  },
  {
   "cell_type": "code",
   "execution_count": 1,
   "id": "fd7a6cf0",
   "metadata": {},
   "outputs": [
    {
     "name": "stdout",
     "output_type": "stream",
     "text": [
      "1~100까지 짝수의 합은 : 2550\n"
     ]
    }
   ],
   "source": [
    "# 1~100까지 짝수의 합을 계산하고 출력하시오(for문)\n",
    "sum = 0 # 누적변수\n",
    "for i in range(1, 101):\n",
    "    if i%2==0:\n",
    "        sum += i\n",
    "else:\n",
    "    pass\n",
    "print(\"1~100까지 짝수의 합은 :\", sum)"
   ]
  },
  {
   "cell_type": "markdown",
   "id": "2949b433",
   "metadata": {},
   "source": [
    "## 2.2 while문\n",
    "```\n",
    "while (조건) :\n",
    "    조건이 참 일 경우 반복할 문장1\n",
    "    조건이 참 일 경우 반복할 문장2... 조건이 거짓일때까지 반복 가능함\n",
    "else:\n",
    "    조건이 거짓일 경우 딱 한번 실행할 문장 (else구문 은 선택 사항임)\n",
    "```"
   ]
  },
  {
   "cell_type": "code",
   "execution_count": 4,
   "id": "4f20064f",
   "metadata": {},
   "outputs": [
    {
     "name": "stdout",
     "output_type": "stream",
     "text": [
      "1~100까지 짝수의 합은 : 2550\n"
     ]
    }
   ],
   "source": [
    "# 1~100까지 짝수의 합을 계산하고 출력하시오(while)\n",
    "i = 1\n",
    "sum = 0 # 누적변수\n",
    "while i <= 100:\n",
    "    if i%2==0:\n",
    "        sum += i\n",
    "    i += 1 #  ++, -- 증감연산자가 파이썬에는 엄슴\n",
    "else:\n",
    "    pass\n",
    "print(\"1~100까지 짝수의 합은 :\", sum)"
   ]
  },
  {
   "cell_type": "code",
   "execution_count": 16,
   "id": "8d283d80",
   "metadata": {},
   "outputs": [
    {
     "name": "stdout",
     "output_type": "stream",
     "text": [
      "첫번째 숫자 입력 부탁드립니다10\n",
      "두번재 숫자 입력 부탁드립니다80\n",
      "10~80까지 홀수들의 합은 1575입니다\n"
     ]
    }
   ],
   "source": [
    "# ex.1 사용자에게 두 정수 입력 받아, 작은수부터 큰수까지 홀수의 합 누적해서 출력\n",
    "su1 = int(input(\"첫번째 숫자 입력 부탁드립니다\"))\n",
    "su2 = int(input(\"두번재 숫자 입력 부탁드립니다\"))\n",
    "if su1 >= su2 :\n",
    "    max = su1\n",
    "    min = su2\n",
    "else:\n",
    "    max = su2\n",
    "    min = su1\n",
    "sum = 0 # 누적변수\n",
    "# for i in range(min, max+1):\n",
    "#     #if (i%2!=0: | i%2==-1): \n",
    "#     if i%2!=0:\n",
    "#         sum += i\n",
    "# print(\"{}~{}까지 홀수들의 합은 {}입니다\".format(min, max, sum))\n",
    "i = min\n",
    "while i <= max :\n",
    "    if i%2!=0:\n",
    "        sum += i\n",
    "    i += 1\n",
    "print(\"{}~{}까지 홀수들의 합은 {}입니다\".format(min, max, sum))"
   ]
  },
  {
   "cell_type": "code",
   "execution_count": 196,
   "id": "34addfa4",
   "metadata": {},
   "outputs": [
    {
     "name": "stdout",
     "output_type": "stream",
     "text": [
      "로또번호 추출횟수 :9번\n",
      "정렬전 : [23, 33, 8, 12, 44, 16]\n",
      "정렬 후 : [8, 12, 16, 23, 33, 44]\n"
     ]
    }
   ],
   "source": [
    "# ex.2 로또 번호 6개를 추출하여 수 오름차순으로 정렬 출력 하라\n",
    "import random\n",
    "#random.seed(7) # seed값이 같으면 랜덤수가 똑같아짐\n",
    "lotto_lst = []\n",
    "cnt = 0  # 로또 번호 추출횟수 \n",
    "while len(lotto_lst) < 6:\n",
    "    temp = random.randint(1, 45) # 임의 수를 temp변수 에 할당\n",
    "    cnt += 1\n",
    "    if temp in lotto_lst:\n",
    "        pass\n",
    "    else:\n",
    "        lotto_lst.append(temp)\n",
    "print(\"로또번호 추출횟수 :{}번\".format(cnt))\n",
    "print(\"정렬전 :\", lotto_lst)\n",
    "# 정렬 알고리즘\n",
    "for i in range(len(lotto_lst) - 1):\n",
    "    for j in range(i+1, len(lotto_lst)):\n",
    "        if lotto_lst[i] > lotto_lst[j]:\n",
    "            lotto_lst[i], lotto_lst[j] = lotto_lst[j], lotto_lst[i]\n",
    "print(\"정렬 후 :\", lotto_lst)"
   ]
  },
  {
   "cell_type": "code",
   "execution_count": 240,
   "id": "ad799bb2",
   "metadata": {},
   "outputs": [
    {
     "name": "stdout",
     "output_type": "stream",
     "text": [
      "로또번호 추출횟수 :6번\n",
      "정렬전 : {4, 42, 12, 19, 24, 28}\n",
      "정렬 후 : [4, 12, 19, 24, 28, 42]\n"
     ]
    }
   ],
   "source": [
    "# ex.2-1 ex2 가동성있게\n",
    "import random\n",
    "#random.seed(7) # seed값이 같으면 랜덤수가 똑같아짐\n",
    "lotto_set = set()\n",
    "cnt = 0  # 로또 번호 추출횟수 \n",
    "while len(lotto_set) < 6:\n",
    "    lotto_set.add(random.randint(1, 45))\n",
    "    cnt += 1\n",
    "print(\"로또번호 추출횟수 :{}번\".format(cnt))\n",
    "print(\"정렬전 :\", lotto_set)\n",
    "print(\"정렬 후 :\", sorted(list(lotto_set)))"
   ]
  },
  {
   "cell_type": "code",
   "execution_count": 251,
   "id": "a08e1f1d",
   "metadata": {},
   "outputs": [
    {
     "data": {
      "text/plain": [
       "[1, 2, 7, 31, 39, 41]"
      ]
     },
     "execution_count": 251,
     "metadata": {},
     "output_type": "execute_result"
    }
   ],
   "source": [
    "# ex.2-2 1~45중에 6개 뽑기\n",
    "sorted(random.sample(range(1,46), 6))"
   ]
  },
  {
   "cell_type": "markdown",
   "id": "aa8c4d07",
   "metadata": {},
   "source": [
    "## 2.3 break, continue"
   ]
  },
  {
   "cell_type": "code",
   "execution_count": 254,
   "id": "258ad5c8",
   "metadata": {},
   "outputs": [
    {
     "name": "stdout",
     "output_type": "stream",
     "text": [
      "1 2 3 4 6 7 8 9 10 DONE\n"
     ]
    }
   ],
   "source": [
    "num = 0\n",
    "while num<10:\n",
    "    num += 1\n",
    "    if num == 5:\n",
    "        #break\n",
    "        continue\n",
    "    print(num, end=\" \")\n",
    "print('DONE')"
   ]
  },
  {
   "cell_type": "code",
   "execution_count": 10,
   "id": "28321ab3",
   "metadata": {},
   "outputs": [
    {
     "name": "stdout",
     "output_type": "stream",
     "text": [
      "컴퓨터가 발생한 임의 수 : 2\n",
      "1~100 사이의 숫자를 맞춰 보세요 : 50\n",
      "Down ↓\n",
      "1~100 사이의 숫자를 맞춰 보세요 : 25\n",
      "Down ↓\n",
      "1~100 사이의 숫자를 맞춰 보세요 : 20\n",
      "Down ↓\n",
      "1~100 사이의 숫자를 맞춰 보세요 : 1\n",
      "Up ↑\n",
      "1~100 사이의 숫자를 맞춰 보세요 : 2\n",
      "정답입니다\n",
      "Done\n"
     ]
    }
   ],
   "source": [
    "# 숫자 찾기 게임\n",
    "'''\n",
    "1~100 사이의 정수를 맞추는 프로그램\n",
    "(프로그램 안에서 random수가 만들어지고 그 random수 맞추기)\n",
    "1단계 : 숫자를 못맞추면 UP/DOWN 을 출력하고 , 맞추면 축하메세지\n",
    "2단계 : 숫자를 못맞추면 min~max를 조정, 맞추면 축하메세지\n",
    "3단계 : 2단계 의 기회를 5회 제한.(for문 사용) 5회의 기회가 지나면 실패 메세지 뿌리고 끝\n",
    "(연습문제 : 2~3단계)\n",
    "'''\n",
    "import random\n",
    "randomNum = random.randint(1, 100)\n",
    "print(\"컴퓨터가 발생한 임의 수 :\", randomNum)\n",
    "inputNum = 0 # 사용자가 맞출 수가 저장될 변수\n",
    "while True:\n",
    "    inputNum = int(input('1~100 사이의 숫자를 맞춰 보세요 : '))\n",
    "    if (inputNum<1) | (inputNum>100) :\n",
    "        print('똑바로 입력해주세요')\n",
    "    elif randomNum < inputNum :\n",
    "        print('Down ↓')\n",
    "    elif randomNum > inputNum :\n",
    "        print('Up ↑')\n",
    "    else :\n",
    "        print('정답입니다')\n",
    "        break\n",
    "print('Done')\n",
    "# while randomNum != inputNum:\n",
    "#     inputNum = int(input('1~100 사이의 숫자를 맞춰 보세요 : '))\n",
    "#     if (inputNum<1) | (inputNum>100) :\n",
    "#         print('똑바로 입력해주세요')\n",
    "#     elif randomNum < inputNum :\n",
    "#         print('Down ↓')\n",
    "#     elif randomNum > inputNum :\n",
    "#         print('Up ↑')\n",
    "#     else :\n",
    "#         print('정답입니다')\n",
    "# print('Done')"
   ]
  },
  {
   "cell_type": "markdown",
   "id": "24a99422",
   "metadata": {},
   "source": [
    "# 3절. 중첩루프\n",
    "(반복문 안에 반복문)"
   ]
  },
  {
   "cell_type": "code",
   "execution_count": 18,
   "id": "cbc925ab",
   "metadata": {},
   "outputs": [
    {
     "name": "stdout",
     "output_type": "stream",
     "text": [
      "  2단  \t  3단  \t  4단  \t  5단  \t  6단  \t  7단  \t  8단  \t  9단  \t\n",
      "2x1= 2\t3x1= 3\t4x1= 4\t5x1= 5\t6x1= 6\t7x1= 7\t8x1= 8\t9x1= 9\t\n",
      "2x2= 4\t3x2= 6\t4x2= 8\t5x2=10\t6x2=12\t7x2=14\t8x2=16\t9x2=18\t\n",
      "2x3= 6\t3x3= 9\t4x3=12\t5x3=15\t6x3=18\t7x3=21\t8x3=24\t9x3=27\t\n",
      "2x4= 8\t3x4=12\t4x4=16\t5x4=20\t6x4=24\t7x4=28\t8x4=32\t9x4=36\t\n",
      "2x5=10\t3x5=15\t4x5=20\t5x5=25\t6x5=30\t7x5=35\t8x5=40\t9x5=45\t\n",
      "2x6=12\t3x6=18\t4x6=24\t5x6=30\t6x6=36\t7x6=42\t8x6=48\t9x6=54\t\n",
      "2x7=14\t3x7=21\t4x7=28\t5x7=35\t6x7=42\t7x7=49\t8x7=56\t9x7=63\t\n",
      "2x8=16\t3x8=24\t4x8=32\t5x8=40\t6x8=48\t7x8=56\t8x8=64\t9x8=72\t\n",
      "2x9=18\t3x9=27\t4x9=36\t5x9=45\t6x9=54\t7x9=63\t8x9=72\t9x9=81\t\n"
     ]
    }
   ],
   "source": [
    "for i in range(2, 10):\n",
    "    print(\"{:^6}\".format(str(i)+\"단\"), end='\\t')\n",
    "print()\n",
    "for i in range(1, 10):\n",
    "    for j in range(2, 10):\n",
    "        print(\"{}x{}={:>2}\".format(j, i, i*j), end='\\t')\n",
    "    print()"
   ]
  },
  {
   "cell_type": "code",
   "execution_count": 39,
   "id": "75ada0e7",
   "metadata": {},
   "outputs": [
    {
     "name": "stdout",
     "output_type": "stream",
     "text": [
      "0:1\t1:2\t2:3\t\n",
      "데이터만 출력\n",
      "1\t2\t3\t"
     ]
    }
   ],
   "source": [
    "lst = [1,2,3]\n",
    "for i in range(len(lst)):\n",
    "    print(\"{}:{}\".format(i, lst[i]), end=\"\\t\")\n",
    "print('\\n데이터만 출력')\n",
    "for l in lst:\n",
    "    print(l, end='\\t')"
   ]
  },
  {
   "cell_type": "code",
   "execution_count": 41,
   "id": "328affc7",
   "metadata": {},
   "outputs": [
    {
     "name": "stdout",
     "output_type": "stream",
     "text": [
      "0행0열:1\t0행1열:2\t0행2열:3\t0행3열:4\t\n",
      "1행0열:5\t1행1열:6\t1행2열:7\t1행3열:8\t\n",
      "2행0열:1\t2행1열:2\t2행2열:3\t2행3열:4\t\n",
      "데이터만 출력\n",
      "1\t2\t3\t4\t\n",
      "5\t6\t7\t8\t\n",
      "1\t2\t3\t4\t\n"
     ]
    }
   ],
   "source": [
    "lst = [1,2,3]\n",
    "lst_2d = [[1,2,3,4],\n",
    "          [5,6,7,8],\n",
    "          [1,2,3,4],] # 논리적으로 3행 4열\n",
    "for i in range(len(lst_2d)):\n",
    "    for j in range(len(lst_2d[i])):\n",
    "        print(\"{}행{}열:{}\".format(i, j, lst_2d[i][j]), end=\"\\t\")\n",
    "    print()\n",
    "print('데이터만 출력')\n",
    "for row in lst_2d:\n",
    "    for data in row:\n",
    "        print(data, end='\\t')\n",
    "    print()"
   ]
  },
  {
   "cell_type": "code",
   "execution_count": 48,
   "id": "c3f61ad5",
   "metadata": {},
   "outputs": [
    {
     "name": "stdout",
     "output_type": "stream",
     "text": [
      "[0면][0행][0열]:1\t[0면][0행][1열]:2\t[0면][0행][2열]:3\t[0면][0행][3열]:4.0\t\n",
      "[0면][1행][0열]:5\t[0면][1행][1열]:6\t[0면][1행][2열]:7\t[0면][1행][3열]:8\t\n",
      "[0면][2행][0열]:1\t[0면][2행][1열]:2\t[0면][2행][2열]:3\t[0면][2행][3열]:4\t\n",
      "--------------------------------\n",
      "[1면][0행][0열]:1\t[1면][0행][1열]:2\t[1면][0행][2열]:3\t[1면][0행][3열]:4\t\n",
      "[1면][1행][0열]:5\t[1면][1행][1열]:6\t[1면][1행][2열]:7\t[1면][1행][3열]:8\t\n",
      "[1면][2행][0열]:1\t[1면][2행][1열]:2\t[1면][2행][2열]:3\t[1면][2행][3열]:4\t\n",
      "--------------------------------\n"
     ]
    }
   ],
   "source": [
    "lst_3d = [\n",
    "    [[1,2,3,4.0],\n",
    "     [5,6,7,8],\n",
    "     [1,2,3,4],],\n",
    "    [[1,2,3,4],\n",
    "     [5,6,7,8],\n",
    "     [1,2,3,4],] # 논리적으로 2면 3행 4열    \n",
    "]\n",
    "for i in range(len(lst_3d)):\n",
    "    for j in range(len(lst_3d[i])):\n",
    "        for k in range(len(lst_3d[i][j])):\n",
    "            print(\"[{}면][{}행][{}열]:{}\".format(i, j, k, lst_3d[i][j][k]), end='\\t')\n",
    "        print()\n",
    "    print('--------------------------------')\n"
   ]
  },
  {
   "cell_type": "code",
   "execution_count": 51,
   "id": "b2876216",
   "metadata": {},
   "outputs": [
    {
     "name": "stdout",
     "output_type": "stream",
     "text": [
      "데이터만\n",
      "1\t2\t3\t4.0\t\n",
      "5\t6\t7\t8\t\n",
      "1\t2\t3\t4\t\n",
      "--------------------------------\n",
      "1\t2\t3\t4\t\n",
      "5\t6\t7\t8\t\n",
      "1\t2\t3\t4\t\n",
      "--------------------------------\n"
     ]
    }
   ],
   "source": [
    "print('데이터만')\n",
    "for face in lst_3d:\n",
    "    for row in face:\n",
    "        for data in row:\n",
    "            print(data, end='\\t')\n",
    "        print() # 개행\n",
    "    print('--------------------------------')"
   ]
  },
  {
   "cell_type": "markdown",
   "id": "c162cf36",
   "metadata": {},
   "source": [
    "# 4절 중첩루프 탈출"
   ]
  },
  {
   "cell_type": "code",
   "execution_count": 52,
   "id": "c8dcec6f",
   "metadata": {},
   "outputs": [
    {
     "name": "stdout",
     "output_type": "stream",
     "text": [
      "0 1\n",
      "0 2\n",
      "2 1\n"
     ]
    }
   ],
   "source": [
    "for a in range(0, 3): # a <=0, 1, 2\n",
    "    for b in range(1, 3): # b<=1, 2\n",
    "        if a==b:\n",
    "            break\n",
    "        print(a,b)"
   ]
  },
  {
   "cell_type": "code",
   "execution_count": 53,
   "id": "90b92a73",
   "metadata": {},
   "outputs": [
    {
     "name": "stdout",
     "output_type": "stream",
     "text": [
      "0 1\n",
      "0 2\n",
      "Done\n"
     ]
    }
   ],
   "source": [
    "# 중첩 루프 탈출  : 방법1. 플래그 변수 이용\n",
    "flag = False # break 를 만나면 True\n",
    "for a in range(0, 3): # a <=0, 1, 2\n",
    "    for b in range(1, 3): # b<=1, 2\n",
    "        if a==b:\n",
    "            flag = True\n",
    "            break # break 를 만나면 안쪽 반복문 탈출\n",
    "        print(a,b)\n",
    "    if flag:\n",
    "        break\n",
    "print('Done')"
   ]
  },
  {
   "cell_type": "code",
   "execution_count": 54,
   "id": "85465011",
   "metadata": {},
   "outputs": [],
   "source": [
    "# 중첩 루프 탈출 : 방법2. Exception 이용"
   ]
  },
  {
   "cell_type": "code",
   "execution_count": 56,
   "id": "2c3d2e3c",
   "metadata": {},
   "outputs": [],
   "source": [
    "# Exception을 상속받은 BreakOutLoopException 클래스 생성\n",
    "class BreakOutLoopException(Exception):\n",
    "    pass"
   ]
  },
  {
   "cell_type": "code",
   "execution_count": null,
   "id": "ed55f564",
   "metadata": {},
   "outputs": [],
   "source": [
    "try:\n",
    "    for a in range(0, 3): # a <=0, 1, 2\n",
    "        for b in range(1, 3): # b<=1, 2\n",
    "            if a==b:\n",
    "                raise BreakOutLoopException # 강제 예외 발생\n",
    "            print(a,b)\n",
    "except Exception\n",
    "    print('Done')"
   ]
  },
  {
   "cell_type": "code",
   "execution_count": 86,
   "id": "0404c170",
   "metadata": {},
   "outputs": [
    {
     "name": "stdout",
     "output_type": "stream",
     "text": [
      "정수를 입력해 주세요 >2\n",
      "입력하신 2 숫자는 짝수입니다.\n"
     ]
    }
   ],
   "source": [
    "# 연습문제 1번 정수를 입력 받아 홀수인지 짝수인지 판별하는 프로그램 .\n",
    "# 음수가 입력되면 다시 숫자를 입력 받아야 합니다.\n",
    "\n",
    "su1 = int(input('정수를 입력해 주세요 >'))\n",
    "\n",
    "if su1 < 0:\n",
    "    print(\"음수가 아닌 정수로 입력해주세요\")\n",
    "\n",
    "if su1 % 2 == 0:\n",
    "    print(\"입력하신 {} 숫자는 짝수입니다.\".format(su1))\n",
    "else:\n",
    "    print(\"입력하신 {} 숫자는 홀수입니다.\".format(su1))"
   ]
  },
  {
   "cell_type": "code",
   "execution_count": 92,
   "id": "6814bcb3",
   "metadata": {},
   "outputs": [
    {
     "name": "stdout",
     "output_type": "stream",
     "text": [
      "★★★★★\n",
      "★★★★★\n",
      "★★★★★\n",
      "★★★★★\n",
      "★★★★★\n"
     ]
    }
   ],
   "source": [
    "# 연습문제 2번\n",
    "for i in range(5):\n",
    "    print('★' * 5)\n",
    "    \n",
    "    "
   ]
  },
  {
   "cell_type": "code",
   "execution_count": null,
   "id": "91ce6387",
   "metadata": {},
   "outputs": [],
   "source": [
    "# 연습문제 3번 빈칸 채우기 \n",
    "# 1부터 30 까지 자연수 중에서 3의 배수의 총 합을 출력\n",
    "sum = 0\n",
    "for i in ___________:\n",
    "    if _____________:\n",
    "        sum = sum + i\n",
    "    else:\n",
    "        pass\n",
    "print(sum)"
   ]
  },
  {
   "cell_type": "code",
   "execution_count": null,
   "id": "348ed8fe",
   "metadata": {},
   "outputs": [],
   "source": [
    "# 연습문제 4번  빈칸 채우기\n",
    "#다음 코드의 실행결과가 “1 3 5 7 \" 로 출력\n",
    "num = 0\n",
    "________ num <= 10 :\n",
    "    if num%2 == 1:\n",
    "        print(num, end=‘ ’)\n",
    "    num += 1"
   ]
  },
  {
   "cell_type": "code",
   "execution_count": null,
   "id": "da4c9110",
   "metadata": {},
   "outputs": [],
   "source": [
    "# 연습문제 5번 빈칸 채우기 \n",
    "#다음 2차원 리스트의 모든 값을 출력하는 코드  아래 결과 출력\n",
    "# 1 2 3\n",
    "# 4 5 6 7\n",
    "# 8 9\n",
    "list2d = [ [1,2,3],[4,5,6,7],[8,9]]\n",
    "for row in list2d:\n",
    "    _______________:\n",
    "    print(data, end=‘ ’)\n",
    "print()"
   ]
  },
  {
   "cell_type": "code",
   "execution_count": null,
   "id": "4589ef57",
   "metadata": {},
   "outputs": [],
   "source": [
    "#연습문제 6번 빈칸체우기 아래 결과 로 출력\n",
    "#0 apple\n",
    "#1 banana\n",
    "colors = {\"red\":\"apple\", \"yellow\":'banana'}\n",
    "for i , v in(colors.________ ()):\n",
    "print(i, v)"
   ]
  },
  {
   "cell_type": "code",
   "execution_count": 87,
   "id": "fe1d7217",
   "metadata": {},
   "outputs": [
    {
     "name": "stdout",
     "output_type": "stream",
     "text": [
      "3 0\n"
     ]
    }
   ],
   "source": [
    "# 연습문제 7번 다음 코드 실행 결과는 ?\n",
    "# 3 0\n",
    "for i in range(0,2):\n",
    "    for j in range(0,2):\n",
    "        if i==j:\n",
    "            break\n",
    "        print(l, j)"
   ]
  },
  {
   "cell_type": "code",
   "execution_count": null,
   "id": "ea48bb25",
   "metadata": {},
   "outputs": [],
   "source": [
    "# 연습문제 8번 다음 코드 실행 결과로 출력 될수 없는 것\n",
    "# ① 0 0 ② 0 1 ③ 1 0 ④ 1 1\n",
    "for i in range(0, 2):\n",
    "    for j in range(0,2):\n",
    "        print(i, j)\n",
    "        if i == j:\n",
    "            break"
   ]
  },
  {
   "cell_type": "code",
   "execution_count": null,
   "id": "de822c7f",
   "metadata": {},
   "outputs": [],
   "source": [
    "# 연습문제 9번 다음 코드 실행 결과는 ?\n",
    "L = [3, 4, 5, 6, 7, 8, 9, 10]\n",
    "for i, data in enumerate(L):\n",
    "    if(i%2==0):\n",
    "        print(data, end=\" \")"
   ]
  },
  {
   "cell_type": "code",
   "execution_count": null,
   "id": "86fd1eb9",
   "metadata": {},
   "outputs": [],
   "source": [
    "# 연습문제 10-2번 입력된 숫자가 틀리면 min~max 사이의 수라고 알려주고 \n",
    "# 숫자를 맞추면 축하 메세지와 함께 종료(맞출 때 까지 반복)\n",
    "import random\n",
    "randomNum = random.randint(1, 100)\n",
    "print(\"컴퓨터가 발생한 임의 수 :\", randomNum)\n",
    "inputNum = 0 # 사용자가 맞출 수가 저장될 변수\n",
    "while True:\n",
    "    inputNum = int(input('1~100 사이의 숫자를 맞춰 보세요 : '))\n",
    "    if (inputNum<1) | (inputNum>100) :\n",
    "        print('똑바로 입력해주세요')\n",
    "    elif randomNum < inputNum :\n",
    "        print('Down ↓')\n",
    "    elif randomNum > inputNum :\n",
    "        print('Up ↑')\n",
    "    else :\n",
    "        print('정답입니다')\n",
    "        break\n",
    "print('Done')"
   ]
  },
  {
   "cell_type": "code",
   "execution_count": null,
   "id": "dec68bb2",
   "metadata": {},
   "outputs": [],
   "source": [
    "# 연습문제 10-3번 숫자를 맞출수 있는 기회를 5회로 제한 하고 5회 이내에 맞추지 않으면\n",
    "# 실패 메세지 출력\n",
    "import random\n",
    "randomNum = random.randint(1, 100)\n",
    "print(\"컴퓨터가 발생한 임의 수 :\", randomNum)\n",
    "inputNum = 0 # 사용자가 맞출 수가 저장될 변수\n",
    "while True:\n",
    "    inputNum = int(input('1~100 사이의 숫자를 맞춰 보세요 : '))\n",
    "    if (inputNum<1) | (inputNum>100) :\n",
    "        print('똑바로 입력해주세요')\n",
    "    elif randomNum < inputNum :\n",
    "        print('Down ↓')\n",
    "    elif randomNum > inputNum :\n",
    "        print('Up ↑')\n",
    "    else :\n",
    "        print('정답입니다')\n",
    "        break\n",
    "print('Done')"
   ]
  }
 ],
 "metadata": {
  "kernelspec": {
   "display_name": "Python 3 (ipykernel)",
   "language": "python",
   "name": "python3"
  },
  "language_info": {
   "codemirror_mode": {
    "name": "ipython",
    "version": 3
   },
   "file_extension": ".py",
   "mimetype": "text/x-python",
   "name": "python",
   "nbconvert_exporter": "python",
   "pygments_lexer": "ipython3",
   "version": "3.10.9"
  },
  "toc": {
   "base_numbering": 1,
   "nav_menu": {},
   "number_sections": true,
   "sideBar": true,
   "skip_h1_title": false,
   "title_cell": "Table of Contents",
   "title_sidebar": "Contents",
   "toc_cell": false,
   "toc_position": {
    "height": "calc(100% - 180px)",
    "left": "10px",
    "top": "150px",
    "width": "165px"
   },
   "toc_section_display": true,
   "toc_window_display": true
  }
 },
 "nbformat": 4,
 "nbformat_minor": 5
}
