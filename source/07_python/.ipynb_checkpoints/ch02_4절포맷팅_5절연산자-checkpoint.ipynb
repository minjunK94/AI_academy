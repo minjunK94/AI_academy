{
 "cells": [
  {
   "cell_type": "markdown",
   "id": "65ad8743",
   "metadata": {},
   "source": [
    "   <b><font size=\"6\" color=\"red\">ch02. 자료형과 연산자</font></b>"
   ]
  },
  {
   "cell_type": "markdown",
   "id": "cf560442",
   "metadata": {},
   "source": [
    "# 4절. 포맷팅\n",
    "    - 포맷팅이란, 출력할 문자, 숫자, 날짜 데이터에 형식을 지정하는 것\n",
    "    - 변수와 텍스트를 결합해서 보기 좋은 형식의 새로운 텍스트를 만들 수도 있음"
   ]
  },
  {
   "cell_type": "markdown",
   "id": "37d8e779",
   "metadata": {},
   "source": [
    "## 4.1 문자열에 형식 지정"
   ]
  },
  {
   "cell_type": "code",
   "execution_count": 3,
   "id": "7918707a",
   "metadata": {},
   "outputs": [
    {
     "name": "stdout",
     "output_type": "stream",
     "text": [
      "홍길동님의 나이는 30살입니다\n"
     ]
    }
   ],
   "source": [
    "name = '홍길동'\n",
    "age = 30\n",
    "print(name, '님의 나이는 ', age, '살입니다', sep='')"
   ]
  },
  {
   "cell_type": "code",
   "execution_count": 8,
   "id": "70ee3721",
   "metadata": {},
   "outputs": [
    {
     "name": "stdout",
     "output_type": "stream",
     "text": [
      "홍길동님의 나이는 30살입니다\n",
      "홍길동님의 나이는 30살입니다\n"
     ]
    }
   ],
   "source": [
    "# %s 문자, %d 10진수정수, %f 실수  \n",
    "print('%s님의 나이는 %d살입니다'%(name, age))\n",
    "print(f'{name}님의 나이는 {age}살입니다')"
   ]
  },
  {
   "cell_type": "code",
   "execution_count": 12,
   "id": "0daaf330",
   "metadata": {},
   "outputs": [
    {
     "name": "stdout",
     "output_type": "stream",
     "text": [
      "홍길동님의 나이는 30살입니다\n",
      "홍길동님의 나이는 30살입니다\n",
      "30살 홍길동님 반갑습니다. 홍길동님 어서오세요\n"
     ]
    }
   ],
   "source": [
    "print(\"{}님의 나이는 {}살입니다\".format(name, age))\n",
    "print(\"{0}님의 나이는 {1}살입니다\".format(name, age))\n",
    "print(\"{1}살 {0}님 반갑습니다. {0}님 어서오세요\".format(name, age))"
   ]
  },
  {
   "cell_type": "markdown",
   "id": "ef9a0c7a",
   "metadata": {},
   "source": [
    "## 4.2 format() 문법"
   ]
  },
  {
   "cell_type": "code",
   "execution_count": 1,
   "id": "dccbddfc",
   "metadata": {},
   "outputs": [],
   "source": [
    "# \"{[인덱스]:[공백대체문자][정렬방법][자릿수][타입]}\".format(변수명)\n",
    "    # 인덱스 : format 함수안의 매개변수의 순서\n",
    "    # 정렬방법 : < : 왼쪽정렬, > : 오른쪽정렬, ^ : 가운데정렬\n",
    "    # 정수자릿수 : 출력할 자릿수를 지정. 변수내용 보다 작은 자릿수가 지정되면 자릿수 지정 무시\n",
    "    # 실수자릿수 : 전체출력자리수.변수정에출력할자리수\n",
    "    # 타입 : d(10진수), o(8진수), b(2진수), x(16진수), f(실수), s(문자)"
   ]
  },
  {
   "cell_type": "code",
   "execution_count": 1,
   "id": "9e5f297e",
   "metadata": {},
   "outputs": [
    {
     "name": "stdout",
     "output_type": "stream",
     "text": [
      "이름은?김민준\n",
      "나이는?31\n",
      "31살 김민준님 안녕하세요?\n",
      "*31**살 김민준_______님 안녕하세요?\n"
     ]
    }
   ],
   "source": [
    "name = input('이름은?')\n",
    "age = int(input('나이는?'))\n",
    "print('{}살 {}님 안녕하세요?'.format(age, name))\n",
    "# 공백 대체 문자를 쓸 경우 정렬방식을 꼭 기입후 사용해야함\n",
    "print('{0:*^5d}살 {1:_<10}님 안녕하세요?'.format(age, name))"
   ]
  },
  {
   "cell_type": "code",
   "execution_count": 2,
   "id": "20c0e32d",
   "metadata": {},
   "outputs": [
    {
     "name": "stdout",
     "output_type": "stream",
     "text": [
      "[12345],[     12345],[12345]\n",
      "[Hello], [Hello     ], [Hello]\n"
     ]
    }
   ],
   "source": [
    "# 숫자의 경우 오른쪽 정렬(기본값)\n",
    "# 문자의 경우 왼쪽 정렬(기본값)\n",
    "# 변수보다 작은 자리수를 지정하면 자릿수가 무시되고 다 출력( 정수 자릿수) \n",
    "a = 12345\n",
    "s = 'Hello'\n",
    "print(\"[{}],[{:10}],[{:3}]\".format(a,a,a))\n",
    "print(\"[{0}], [{0:10}], [{0:3}]\".format(s))"
   ]
  },
  {
   "cell_type": "code",
   "execution_count": 2,
   "id": "499c542a",
   "metadata": {},
   "outputs": [
    {
     "name": "stdout",
     "output_type": "stream",
     "text": [
      "[10  ], [ 20 ], [ 3  ]\n"
     ]
    }
   ],
   "source": [
    "# 정렬방법 : < ^ > {}\n",
    "a, b, c = 10, 20, 3\n",
    "print(\"[{:<4}], [{:^4}], [{:^4}]\".format(a, b, c))"
   ]
  },
  {
   "cell_type": "code",
   "execution_count": 1,
   "id": "9b0f78fb",
   "metadata": {},
   "outputs": [
    {
     "name": "stdout",
     "output_type": "stream",
     "text": [
      "[$$$$$$$$10], [     10.00], [     123.6], [He        ]\n"
     ]
    }
   ],
   "source": [
    "# 실수자리수 \n",
    "a = 10\n",
    "f = 123.56\n",
    "s = 'Hello'\n",
    "print('[{0:$>10}], [{0:10.2f}], [{1:10.1f}], [{2:10.2}]'.format(a, f, s))\n",
    "                            # 2번 매개변수를 10자리 확보하여 변수의 2자리만 출력"
   ]
  },
  {
   "cell_type": "code",
   "execution_count": null,
   "id": "1050f9da",
   "metadata": {},
   "outputs": [],
   "source": [
    "# 공백대체문자를 쓸 경우 반드시 정렬방식을 표현\n",
    "print(\"[{:$>10}]\".format(a))"
   ]
  },
  {
   "cell_type": "code",
   "execution_count": 11,
   "id": "8ce7b0b1",
   "metadata": {},
   "outputs": [
    {
     "name": "stdout",
     "output_type": "stream",
     "text": [
      "[-      123], [      +123], [       123]\n",
      "[-      123], [       123], [       123]\n",
      "[-      123], [+      123], [       123]\n",
      "[-000000123], [+000000123], [0000000123]\n",
      "[-●●●●●●123], [+◆◆◆◆◆◆123], [$$$123$$$$]\n"
     ]
    }
   ],
   "source": [
    "# 자리수앞에 +를 붙이면 양수의 경우도 부호를 붙여줌\n",
    "# 자리수앞에 =를 붙이면 부호가 자릿수 맨앞에 표시됨(음수의 경우)\n",
    "# 자리수앞에 =+를 붙이면 부호가 자릿수 맨앞에 표시됨(양수, 음수의 경우)\n",
    "# 자리수앞에 0을 채우면 빈자리에 0을 채움\n",
    "a, b = 123, -123\n",
    "print(\"[{:=+10}], [{:+10}], [{:10}]\".format(b, a, a))\n",
    "print(\"[{:=10}], [{:=10}], [{:10}]\".format(b, a, a))\n",
    "print(\"[{:=+10}], [{:=+10}], [{:10}]\".format(b, a, a))\n",
    "print(\"[{:=+010}], [{:=+010}], [{:010}]\".format(b, a, a))\n",
    "print(\"[{:●=+010}], [{:◆=+10}], [{:$^10}]\".format(b, a, a))"
   ]
  },
  {
   "cell_type": "code",
   "execution_count": 3,
   "id": "ee93675b",
   "metadata": {},
   "outputs": [
    {
     "name": "stdout",
     "output_type": "stream",
     "text": [
      "a = [       2.8]\n",
      "s = [he        ]\n"
     ]
    }
   ],
   "source": [
    "# 전체자리수. 표현될자리수\n",
    "a = 2.758\n",
    "s = \"hello\"\n",
    "print(\"a = [{:10.2}]\".format(a))\n",
    "print(\"s = [{:10.2}]\".format(s))"
   ]
  },
  {
   "cell_type": "code",
   "execution_count": 5,
   "id": "bc6cacda",
   "metadata": {},
   "outputs": [
    {
     "name": "stdout",
     "output_type": "stream",
     "text": [
      "a = [      2.76]\n"
     ]
    }
   ],
   "source": [
    "# 전체자리수. 표현될자리수f\n",
    "print(\"a = [{:10.2f}]\".format(a))"
   ]
  },
  {
   "cell_type": "code",
   "execution_count": null,
   "id": "f2d3a18a",
   "metadata": {},
   "outputs": [],
   "source": []
  },
  {
   "cell_type": "code",
   "execution_count": 2,
   "id": "79c3172e",
   "metadata": {},
   "outputs": [
    {
     "name": "stdout",
     "output_type": "stream",
     "text": [
      "10진수 : [   15]\n",
      "16진수 : [    f]\n",
      "8진수 : [   17]\n",
      "2진수 : [ 1111]\n"
     ]
    }
   ],
   "source": [
    "# 10진수, 8진수, 16진수, 2진수 출력\n",
    "a = 15\n",
    "print(\"10진수 : [{:5d}]\".format(a))\n",
    "print(\"16진수 : [{:5x}]\".format(a))\n",
    "print(\"8진수 : [{:5o}]\".format(a))\n",
    "print(\"2진수 : [{:5b}]\".format(a))"
   ]
  },
  {
   "cell_type": "code",
   "execution_count": 3,
   "id": "4ad0b9e8",
   "metadata": {},
   "outputs": [
    {
     "name": "stdout",
     "output_type": "stream",
     "text": [
      "[     +2.79]\n"
     ]
    }
   ],
   "source": [
    "a = 2.785\n",
    "print(\"[{:+10.3}]\".format(a))"
   ]
  },
  {
   "cell_type": "code",
   "execution_count": 5,
   "id": "3a3c2d9d",
   "metadata": {
    "scrolled": true
   },
   "outputs": [
    {
     "name": "stdout",
     "output_type": "stream",
     "text": [
      "[    +2.785]\n",
      "[    +2.785]\n"
     ]
    }
   ],
   "source": [
    "sign = '+'\n",
    "width = 10\n",
    "precision = 4\n",
    "print(\"[{:{sign}{width}.{precision}}]\".format(a, sign=sign, width=width, precision=precision))\n",
    "print(\"[{:{}{}.{}}]\".format(a, sign, width, precision))"
   ]
  },
  {
   "cell_type": "markdown",
   "id": "55be02c6",
   "metadata": {},
   "source": [
    "## 4.3 날짜출력"
   ]
  },
  {
   "cell_type": "code",
   "execution_count": 1,
   "id": "ad1e02a4",
   "metadata": {},
   "outputs": [
    {
     "data": {
      "text/plain": [
       "datetime.datetime(2024, 11, 5, 14, 42)"
      ]
     },
     "execution_count": 1,
     "metadata": {},
     "output_type": "execute_result"
    }
   ],
   "source": [
    "# format 이용\n",
    "# from 모듈 import 함수나 변수\n",
    "# from 패키지(폴더) import 모듈(파이썬 파일)\n",
    "# datetime 모듈(파이썬 파일 : datetime.py)안에 datetime이라는 함수 가져오기\n",
    "from datetime import datetime\n",
    "thatday = datetime(2024, 11, 5) # 24년 11월 4일 0시 0분 0초\n",
    "thatday = datetime(2024, 11, 5, 14, 42) # 24년 11월 5일 오후 2시 42분 0초\n",
    "thatday"
   ]
  },
  {
   "cell_type": "code",
   "execution_count": 4,
   "id": "fdbfca8c",
   "metadata": {},
   "outputs": [
    {
     "name": "stdout",
     "output_type": "stream",
     "text": [
      "2024년11월05일 14시 42분 00초\n",
      "2024년11월05일 PM 02시 42분 00초\n"
     ]
    }
   ],
   "source": [
    "print(\"{:%Y년%m월%d일 %H시 %M분 %S초}\".format(thatday))\n",
    "print(\"{:%Y년%m월%d일 %p %I시 %M분 %S초}\".format(thatday))"
   ]
  },
  {
   "cell_type": "code",
   "execution_count": 5,
   "id": "87ebe4b5",
   "metadata": {},
   "outputs": [
    {
     "data": {
      "text/plain": [
       "'2024년11월05일 PM 02시 50분'"
      ]
     },
     "execution_count": 5,
     "metadata": {},
     "output_type": "execute_result"
    }
   ],
   "source": [
    "# 날짜를 문자열로 전환하는 함수\n",
    "from time import strftime\n",
    "thatdayStr = strftime(\"%Y년%m월%d일 %p %I시 %M분\".format(thatday))\n",
    "thatdayStr"
   ]
  },
  {
   "cell_type": "code",
   "execution_count": 6,
   "id": "c1ac8d58",
   "metadata": {},
   "outputs": [
    {
     "data": {
      "text/plain": [
       "time.struct_time(tm_year=2024, tm_mon=11, tm_mday=5, tm_hour=14, tm_min=51, tm_sec=18, tm_wday=1, tm_yday=310, tm_isdst=0)"
      ]
     },
     "execution_count": 6,
     "metadata": {},
     "output_type": "execute_result"
    }
   ],
   "source": [
    "from time import localtime\n",
    "now = localtime() # 현재의 날짜와 시간\n",
    "now"
   ]
  },
  {
   "cell_type": "code",
   "execution_count": 7,
   "id": "e9424e58",
   "metadata": {},
   "outputs": [
    {
     "data": {
      "text/plain": [
       "'2024년11월05일 PM 02시 52분 58초'"
      ]
     },
     "execution_count": 7,
     "metadata": {},
     "output_type": "execute_result"
    }
   ],
   "source": [
    "strftime(\"%Y년%m월%d일 %p %I시 %M분 %S초\".format(now))"
   ]
  },
  {
   "cell_type": "code",
   "execution_count": 8,
   "id": "4d2050ef",
   "metadata": {},
   "outputs": [
    {
     "ename": "TypeError",
     "evalue": "unsupported format string passed to time.struct_time.__format__",
     "output_type": "error",
     "traceback": [
      "\u001b[1;31m---------------------------------------------------------------------------\u001b[0m",
      "\u001b[1;31mTypeError\u001b[0m                                 Traceback (most recent call last)",
      "Cell \u001b[1;32mIn[8], line 1\u001b[0m\n\u001b[1;32m----> 1\u001b[0m \u001b[38;5;28mprint\u001b[39m(\u001b[38;5;124;43m\"\u001b[39;49m\u001b[38;5;124;43m{\u001b[39;49m\u001b[38;5;124;43m:\u001b[39;49m\u001b[38;5;124;43m%\u001b[39;49m\u001b[38;5;124;43mY년\u001b[39;49m\u001b[38;5;124;43m%\u001b[39;49m\u001b[38;5;124;43mm월\u001b[39;49m\u001b[38;5;132;43;01m%d\u001b[39;49;00m\u001b[38;5;124;43m일 \u001b[39;49m\u001b[38;5;124;43m%\u001b[39;49m\u001b[38;5;124;43mp \u001b[39;49m\u001b[38;5;124;43m%\u001b[39;49m\u001b[38;5;124;43mI시 \u001b[39;49m\u001b[38;5;124;43m%\u001b[39;49m\u001b[38;5;124;43mM분 \u001b[39;49m\u001b[38;5;124;43m%\u001b[39;49m\u001b[38;5;124;43mS초}\u001b[39;49m\u001b[38;5;124;43m\"\u001b[39;49m\u001b[38;5;241;43m.\u001b[39;49m\u001b[43mformat\u001b[49m\u001b[43m(\u001b[49m\u001b[43mnow\u001b[49m\u001b[43m)\u001b[49m)\n",
      "\u001b[1;31mTypeError\u001b[0m: unsupported format string passed to time.struct_time.__format__"
     ]
    }
   ],
   "source": [
    "print(\"{:%Y년%m월%d일 %p %I시 %M분 %S초}\".format(now))"
   ]
  },
  {
   "cell_type": "markdown",
   "id": "2302c615",
   "metadata": {},
   "source": [
    "# 5절 연산자"
   ]
  },
  {
   "cell_type": "markdown",
   "id": "78d0bae5",
   "metadata": {},
   "source": [
    "## 5.1 산술연산자 : +, -, *, /, //(몫연산자), %(나머지), **(제곱)"
   ]
  },
  {
   "cell_type": "code",
   "execution_count": 1,
   "id": "37fbb740",
   "metadata": {},
   "outputs": [
    {
     "name": "stdout",
     "output_type": "stream",
     "text": [
      "100000\n"
     ]
    }
   ],
   "source": [
    "print(10**5) # 10의 5승"
   ]
  },
  {
   "cell_type": "markdown",
   "id": "f3cf3b2a",
   "metadata": {},
   "source": [
    "## 5.2 할당연산자 : =, +=, -=, *=, /=, //=, %="
   ]
  },
  {
   "cell_type": "code",
   "execution_count": 2,
   "id": "e594d364",
   "metadata": {},
   "outputs": [],
   "source": [
    "a = 10\n",
    "a //= 3 # a = a//3"
   ]
  },
  {
   "cell_type": "markdown",
   "id": "d5b6292f",
   "metadata": {},
   "source": [
    "## 5.3 논리연산자 : &, and, |, or, not"
   ]
  },
  {
   "cell_type": "code",
   "execution_count": 6,
   "id": "e7846bfb",
   "metadata": {},
   "outputs": [
    {
     "name": "stdout",
     "output_type": "stream",
     "text": [
      "True\n",
      "0\n"
     ]
    }
   ],
   "source": [
    "# & : 논리연산자, 비트연산자\n",
    "print( (10>3) & (10>5) ) # 논리연산 True & True\n",
    "print( 12 & 1 ) # 비트연산\n",
    "    # 1100 (12)\n",
    "    # 0001 (1)\n",
    "    # & 0000 (0)"
   ]
  },
  {
   "cell_type": "code",
   "execution_count": 10,
   "id": "676dd843",
   "metadata": {},
   "outputs": [
    {
     "name": "stdout",
     "output_type": "stream",
     "text": [
      "abc\n",
      "0\n",
      "None\n"
     ]
    }
   ],
   "source": [
    "# and : 거짓으로 판별되는 첫번째 항의 결과를 반환\n",
    "    #  모든 항이 참으로 판별되면 마지막항의 결과 반환\n",
    "print(True and True and 'abc')\n",
    "print(0 and False)\n",
    "print(True and None)"
   ]
  },
  {
   "cell_type": "code",
   "execution_count": 9,
   "id": "bb4a3dd0",
   "metadata": {},
   "outputs": [
    {
     "name": "stdout",
     "output_type": "stream",
     "text": [
      "True\n"
     ]
    }
   ],
   "source": [
    "print( (10>5) and (10>7))"
   ]
  },
  {
   "cell_type": "code",
   "execution_count": 11,
   "id": "1b9fbf45",
   "metadata": {},
   "outputs": [
    {
     "name": "stdout",
     "output_type": "stream",
     "text": [
      "논리연산(연산자 앞뒤에 논리형일때) : True\n"
     ]
    }
   ],
   "source": [
    "# | : 논리연산, 비트연산\n",
    "result = False | True\n",
    "print('논리연산(연산자 앞뒤에 논리형일때) :',result)\n",
    "result = False | 3 \n",
    "print('비트연산(연산자 앞뒤에 숫자일때) :',result)"
   ]
  },
  {
   "cell_type": "code",
   "execution_count": 2,
   "id": "ab5cedc4",
   "metadata": {},
   "outputs": [
    {
     "name": "stdout",
     "output_type": "stream",
     "text": [
      "[]\n",
      "HONG\n"
     ]
    }
   ],
   "source": [
    "# or : 참으로 판별되는 첫번째 항의 결과 반환\n",
    "    # 모든 항이 거짓이면, 마지막항의 결과 반환\n",
    "print(False or 0 or '' or None or [])\n",
    "print('HONG' or 0 or False)"
   ]
  },
  {
   "cell_type": "markdown",
   "id": "7f96632c",
   "metadata": {},
   "source": [
    "## 5.4 비교연산자 : >, >=, <, <=, ==, != "
   ]
  },
  {
   "cell_type": "code",
   "execution_count": 8,
   "id": "425c7214",
   "metadata": {},
   "outputs": [
    {
     "name": "stdout",
     "output_type": "stream",
     "text": [
      "True\n",
      "True\n",
      "True\n"
     ]
    }
   ],
   "source": [
    "# 비교연사자는 이항, 삼항, .... 다항 연산자\n",
    "x = 5\n",
    "print( (4 < x ) & (x < 10))\n",
    "print( 4 < x < 10 )\n",
    "print(1 < 2 < 4 < x < 10)"
   ]
  },
  {
   "cell_type": "code",
   "execution_count": 1,
   "id": "91c82cf8",
   "metadata": {},
   "outputs": [
    {
     "name": "stdout",
     "output_type": "stream",
     "text": [
      "True\n",
      "False\n",
      "False\n",
      "False\n"
     ]
    }
   ],
   "source": [
    "# 비교연산자의 우선 순위가 논리연산의 우선순위보다 낮다\n",
    "print( (10>5) & (10>7) )\n",
    "print( 10>5 & 10>7 ) # 괄호가 없으면 우선순위가 높은 논리연산부터 \n",
    "print ( 10>(5 & 10)>7 )\n",
    "print ( 10> 0 >7 )\n",
    "# 0101 (5)\n",
    "# 1010 (10)"
   ]
  },
  {
   "cell_type": "code",
   "execution_count": 1,
   "id": "0a212f98",
   "metadata": {},
   "outputs": [
    {
     "ename": "TypeError",
     "evalue": "unsupported operand type(s) for &: 'str' and 'int'",
     "output_type": "error",
     "traceback": [
      "\u001b[1;31m---------------------------------------------------------------------------\u001b[0m",
      "\u001b[1;31mTypeError\u001b[0m                                 Traceback (most recent call last)",
      "Cell \u001b[1;32mIn[1], line 3\u001b[0m\n\u001b[0;32m      1\u001b[0m address \u001b[38;5;241m=\u001b[39m \u001b[38;5;124m'\u001b[39m\u001b[38;5;124m서울\u001b[39m\u001b[38;5;124m'\u001b[39m\n\u001b[0;32m      2\u001b[0m age \u001b[38;5;241m=\u001b[39m \u001b[38;5;241m29\u001b[39m\n\u001b[1;32m----> 3\u001b[0m \u001b[38;5;28mprint\u001b[39m(address\u001b[38;5;241m=\u001b[39m\u001b[38;5;124;43m'\u001b[39;49m\u001b[38;5;124;43m서울\u001b[39;49m\u001b[38;5;124;43m'\u001b[39;49m\u001b[43m \u001b[49m\u001b[38;5;241;43m&\u001b[39;49m\u001b[43m \u001b[49m\u001b[43mage\u001b[49m\u001b[38;5;241m>\u001b[39m\u001b[38;5;241m=\u001b[39m\u001b[38;5;241m30\u001b[39m)\n",
      "\u001b[1;31mTypeError\u001b[0m: unsupported operand type(s) for &: 'str' and 'int'"
     ]
    }
   ],
   "source": [
    "address = '서울'\n",
    "age = 29\n",
    "print(address='서울' & age>=30)"
   ]
  },
  {
   "cell_type": "code",
   "execution_count": null,
   "id": "3cdca23b",
   "metadata": {},
   "outputs": [],
   "source": [
    "# 문자는 ASCII 코드 순으로 비교 : 특수문자가 < 숫자문자 < 대문자(ABC) < 소문자(abc) 순임\n",
    "'scott' < 'tiger'"
   ]
  },
  {
   "cell_type": "code",
   "execution_count": null,
   "id": "c5919d98",
   "metadata": {},
   "outputs": [],
   "source": [
    "'감우성'"
   ]
  },
  {
   "cell_type": "markdown",
   "id": "a7dd91a5",
   "metadata": {},
   "source": [
    "### 5.5 비트연산"
   ]
  },
  {
   "cell_type": "code",
   "execution_count": null,
   "id": "40903d42",
   "metadata": {},
   "outputs": [],
   "source": [
    "a = '''\n",
    "x   y   x&y   x|y   x^y(XOR) ~x  ~y\n",
    "0   0    0     1     0        1   1\n",
    "0   1    0     1     1        1   0\n",
    "1   0    0     1     1        0   1\n",
    "1   1    1     1     0        0   0\n",
    "'''"
   ]
  },
  {
   "cell_type": "code",
   "execution_count": 9,
   "id": "d3bc8747",
   "metadata": {},
   "outputs": [
    {
     "name": "stdout",
     "output_type": "stream",
     "text": [
      "  a = 15 : 1111\n",
      "  b =  2 : 0010\n",
      "a&b =  2 : 0010\n",
      "a|b = 15 : 1111\n",
      "a^b = 13 : 1101\n"
     ]
    }
   ],
   "source": [
    "a = 15\n",
    "b = 2\n",
    "print(\"  a = {0:2} : {0:4b}\".format(a))\n",
    "print(\"  b = {0:2} : {0:04b}\".format(b))\n",
    "print(\"a&b = {0:2} : {0:04b}\".format(a&b))\n",
    "print(\"a|b = {0:2} : {0:04b}\".format(a|b))\n",
    "print(\"a^b = {0:2} : {0:04b}\".format(a^b))"
   ]
  },
  {
   "cell_type": "markdown",
   "id": "1f67105b",
   "metadata": {},
   "source": [
    "## 5.6 isinstance"
   ]
  },
  {
   "cell_type": "code",
   "execution_count": 13,
   "id": "6fd0a42e",
   "metadata": {},
   "outputs": [
    {
     "data": {
      "text/plain": [
       "True"
      ]
     },
     "execution_count": 13,
     "metadata": {},
     "output_type": "execute_result"
    }
   ],
   "source": [
    "a = 15\n",
    "isinstance(a, float)\n",
    "isinstance(a, int)"
   ]
  },
  {
   "cell_type": "markdown",
   "id": "d895bdf2",
   "metadata": {},
   "source": [
    " - 포맷팅 : \"{[인덱스]:[공백대체문자][정렬방법][자릿수][타입]}\".format(변수명)\n",
    " - 연산자\n",
    "    * 산술연산 : + - * / // % **\n",
    "    * 할당연산 : = += -= *= /= //= %=\n",
    "    * 논리연산 : & and | or not\n",
    "    * 비트연산 : ^(XOR) &(and) |(or) ~(not)\n",
    "    * 논리연산자가 비교연산자보다 우선 순위가 높다"
   ]
  },
  {
   "cell_type": "code",
   "execution_count": null,
   "id": "56758a15",
   "metadata": {},
   "outputs": [],
   "source": []
  },
  {
   "cell_type": "code",
   "execution_count": null,
   "id": "ed0fea8f",
   "metadata": {},
   "outputs": [],
   "source": []
  },
  {
   "cell_type": "code",
   "execution_count": null,
   "id": "35782185",
   "metadata": {},
   "outputs": [],
   "source": []
  },
  {
   "cell_type": "code",
   "execution_count": null,
   "id": "b783709e",
   "metadata": {},
   "outputs": [],
   "source": []
  },
  {
   "cell_type": "code",
   "execution_count": null,
   "id": "b4d194ef",
   "metadata": {},
   "outputs": [],
   "source": []
  },
  {
   "cell_type": "code",
   "execution_count": null,
   "id": "09f4be96",
   "metadata": {},
   "outputs": [],
   "source": []
  },
  {
   "cell_type": "code",
   "execution_count": null,
   "id": "6856f13b",
   "metadata": {},
   "outputs": [],
   "source": []
  },
  {
   "cell_type": "code",
   "execution_count": null,
   "id": "db3011f5",
   "metadata": {},
   "outputs": [],
   "source": []
  },
  {
   "cell_type": "code",
   "execution_count": null,
   "id": "8b62a499",
   "metadata": {},
   "outputs": [],
   "source": []
  },
  {
   "cell_type": "code",
   "execution_count": null,
   "id": "ec4df560",
   "metadata": {},
   "outputs": [],
   "source": []
  },
  {
   "cell_type": "code",
   "execution_count": null,
   "id": "1d17292a",
   "metadata": {},
   "outputs": [],
   "source": []
  },
  {
   "cell_type": "code",
   "execution_count": null,
   "id": "96fef926",
   "metadata": {},
   "outputs": [],
   "source": []
  },
  {
   "cell_type": "code",
   "execution_count": null,
   "id": "aab2e017",
   "metadata": {},
   "outputs": [],
   "source": []
  },
  {
   "cell_type": "code",
   "execution_count": null,
   "id": "6e666223",
   "metadata": {},
   "outputs": [],
   "source": []
  },
  {
   "cell_type": "code",
   "execution_count": null,
   "id": "0a2c4432",
   "metadata": {},
   "outputs": [],
   "source": []
  },
  {
   "cell_type": "code",
   "execution_count": null,
   "id": "939a211e",
   "metadata": {},
   "outputs": [],
   "source": []
  },
  {
   "cell_type": "code",
   "execution_count": null,
   "id": "ba580737",
   "metadata": {},
   "outputs": [],
   "source": []
  },
  {
   "cell_type": "code",
   "execution_count": null,
   "id": "0dcbca1e",
   "metadata": {},
   "outputs": [],
   "source": []
  },
  {
   "cell_type": "code",
   "execution_count": null,
   "id": "bacbf0cd",
   "metadata": {},
   "outputs": [],
   "source": []
  },
  {
   "cell_type": "code",
   "execution_count": null,
   "id": "802ec7b1",
   "metadata": {},
   "outputs": [],
   "source": []
  },
  {
   "cell_type": "code",
   "execution_count": null,
   "id": "4a82c9cc",
   "metadata": {},
   "outputs": [],
   "source": []
  },
  {
   "cell_type": "code",
   "execution_count": null,
   "id": "0ea3a94a",
   "metadata": {},
   "outputs": [],
   "source": []
  },
  {
   "cell_type": "code",
   "execution_count": null,
   "id": "483f971b",
   "metadata": {},
   "outputs": [],
   "source": []
  },
  {
   "cell_type": "code",
   "execution_count": null,
   "id": "53c52d99",
   "metadata": {},
   "outputs": [],
   "source": []
  },
  {
   "cell_type": "code",
   "execution_count": null,
   "id": "624db157",
   "metadata": {},
   "outputs": [],
   "source": []
  },
  {
   "cell_type": "code",
   "execution_count": null,
   "id": "348072b4",
   "metadata": {},
   "outputs": [],
   "source": []
  },
  {
   "cell_type": "code",
   "execution_count": null,
   "id": "d2359e21",
   "metadata": {},
   "outputs": [],
   "source": []
  },
  {
   "cell_type": "code",
   "execution_count": null,
   "id": "50d35e9e",
   "metadata": {},
   "outputs": [],
   "source": []
  },
  {
   "cell_type": "code",
   "execution_count": null,
   "id": "a75f0b9c",
   "metadata": {},
   "outputs": [],
   "source": []
  },
  {
   "cell_type": "code",
   "execution_count": null,
   "id": "3f882fac",
   "metadata": {},
   "outputs": [],
   "source": []
  },
  {
   "cell_type": "code",
   "execution_count": null,
   "id": "6fd6873e",
   "metadata": {},
   "outputs": [],
   "source": []
  },
  {
   "cell_type": "code",
   "execution_count": null,
   "id": "0afa0c9f",
   "metadata": {},
   "outputs": [],
   "source": []
  },
  {
   "cell_type": "code",
   "execution_count": null,
   "id": "fc7d6093",
   "metadata": {},
   "outputs": [],
   "source": []
  },
  {
   "cell_type": "code",
   "execution_count": null,
   "id": "2b00bf3d",
   "metadata": {},
   "outputs": [],
   "source": []
  },
  {
   "cell_type": "code",
   "execution_count": null,
   "id": "0293610d",
   "metadata": {},
   "outputs": [],
   "source": []
  }
 ],
 "metadata": {
  "kernelspec": {
   "display_name": "Python 3 (ipykernel)",
   "language": "python",
   "name": "python3"
  },
  "language_info": {
   "codemirror_mode": {
    "name": "ipython",
    "version": 3
   },
   "file_extension": ".py",
   "mimetype": "text/x-python",
   "name": "python",
   "nbconvert_exporter": "python",
   "pygments_lexer": "ipython3",
   "version": "3.10.9"
  },
  "toc": {
   "base_numbering": 1,
   "nav_menu": {},
   "number_sections": true,
   "sideBar": true,
   "skip_h1_title": false,
   "title_cell": "Table of Contents",
   "title_sidebar": "Contents",
   "toc_cell": false,
   "toc_position": {
    "height": "calc(100% - 180px)",
    "left": "10px",
    "top": "150px",
    "width": "232.188px"
   },
   "toc_section_display": true,
   "toc_window_display": true
  }
 },
 "nbformat": 4,
 "nbformat_minor": 5
}
