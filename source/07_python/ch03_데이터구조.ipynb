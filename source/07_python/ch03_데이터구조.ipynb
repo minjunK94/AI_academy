{
 "cells": [
  {
   "cell_type": "markdown",
   "id": "db929395",
   "metadata": {},
   "source": [
    "<b><font color=\"red\" size=\"6\">ch03. 데이터 구조</font></b>\n",
    "- `리스트[]`, `튜플()`, `딕셔너리(hashMap과 유사)`, `셋`"
   ]
  },
  {
   "cell_type": "markdown",
   "id": "e9b75f13",
   "metadata": {},
   "source": [
    "# 1절. List"
   ]
  },
  {
   "cell_type": "markdown",
   "id": "5a56d7f3",
   "metadata": {},
   "source": [
    "## 1.1 List 만들기\n",
    "- `[]를 이용해서 만들며, 여러 개 값을 하나의 변수에 저장/관리할 수 있음`\n",
    "- list() 함수 이용도 가능\n",
    "- 인덱스: 각 요소의 위치. 인덱스는 0부터 시작. 맨 마지막 인덱스는 -1\n",
    "- 슬라이싱([from:to:by]): 부분 데이터셋을 추출\n",
    "- 인덱스와 슬라이싱을 이용해서 쓰기와 읽기를 지원"
   ]
  },
  {
   "cell_type": "code",
   "execution_count": 5,
   "id": "cec4341f",
   "metadata": {
    "ExecuteTime": {
     "end_time": "2024-11-06T03:03:42.081889Z",
     "start_time": "2024-11-06T03:03:42.075396Z"
    }
   },
   "outputs": [
    {
     "data": {
      "text/plain": [
       "list"
      ]
     },
     "execution_count": 5,
     "metadata": {},
     "output_type": "execute_result"
    }
   ],
   "source": [
    "fruits = ['banana', 'apple', 'orange', 'grape']\n",
    "type(fruits)"
   ]
  },
  {
   "cell_type": "code",
   "execution_count": 6,
   "id": "10a70dcb",
   "metadata": {
    "ExecuteTime": {
     "end_time": "2024-11-06T03:03:47.539541Z",
     "start_time": "2024-11-06T03:03:47.532559Z"
    }
   },
   "outputs": [
    {
     "name": "stdout",
     "output_type": "stream",
     "text": [
      "['banana', 'apple', 'orange', 'grape']\n"
     ]
    }
   ],
   "source": [
    "print(fruits)"
   ]
  },
  {
   "cell_type": "code",
   "execution_count": 7,
   "id": "525a99ea",
   "metadata": {
    "ExecuteTime": {
     "end_time": "2024-11-06T03:04:35.720852Z",
     "start_time": "2024-11-06T03:04:35.715478Z"
    }
   },
   "outputs": [
    {
     "name": "stdout",
     "output_type": "stream",
     "text": [
      "banana\n"
     ]
    }
   ],
   "source": [
    "print(fruits[0])"
   ]
  },
  {
   "cell_type": "code",
   "execution_count": 8,
   "id": "086b1794",
   "metadata": {
    "ExecuteTime": {
     "end_time": "2024-11-06T03:05:09.576611Z",
     "start_time": "2024-11-06T03:05:09.571645Z"
    }
   },
   "outputs": [
    {
     "name": "stdout",
     "output_type": "stream",
     "text": [
      "['mango', 'apple', 'orange', 'grape']\n"
     ]
    }
   ],
   "source": [
    "fruits[0] = 'mango'\n",
    "print(fruits)"
   ]
  },
  {
   "cell_type": "code",
   "execution_count": 10,
   "id": "8495aee5",
   "metadata": {
    "ExecuteTime": {
     "end_time": "2024-11-06T03:07:20.017738Z",
     "start_time": "2024-11-06T03:07:20.011734Z"
    }
   },
   "outputs": [
    {
     "name": "stdout",
     "output_type": "stream",
     "text": [
      "x = mango\n",
      "y = apple\n",
      "z = orange\n"
     ]
    }
   ],
   "source": [
    "fruits = ['mango', 'apple', 'orange']\n",
    "x, y, z = fruits\n",
    "print(\"x = {}\".format(x))\n",
    "print(\"y = {}\".format(y))\n",
    "print(\"z = {}\".format(z))"
   ]
  },
  {
   "cell_type": "code",
   "execution_count": 11,
   "id": "fb28d612",
   "metadata": {
    "ExecuteTime": {
     "end_time": "2024-11-06T03:09:04.954833Z",
     "start_time": "2024-11-06T03:09:04.948731Z"
    }
   },
   "outputs": [
    {
     "data": {
      "text/plain": [
       "range(0, 10)"
      ]
     },
     "execution_count": 11,
     "metadata": {},
     "output_type": "execute_result"
    }
   ],
   "source": [
    "# range(from, to, by): from부터 to앞까지 by씩 증가하면서 지정된 범위의 \n",
    "                    # 숫자를 순차적으로 사용할 수 있게 \n",
    "                    # from 생략 시 0, by 생략 시 1\n",
    "range(10)"
   ]
  },
  {
   "cell_type": "code",
   "execution_count": 12,
   "id": "cee7fa2e",
   "metadata": {
    "ExecuteTime": {
     "end_time": "2024-11-06T03:09:19.060918Z",
     "start_time": "2024-11-06T03:09:19.053936Z"
    }
   },
   "outputs": [
    {
     "data": {
      "text/plain": [
       "[0, 1, 2, 3, 4, 5, 6, 7, 8, 9]"
      ]
     },
     "execution_count": 12,
     "metadata": {},
     "output_type": "execute_result"
    }
   ],
   "source": [
    "list(range(10))"
   ]
  },
  {
   "cell_type": "code",
   "execution_count": 13,
   "id": "1d85cba2",
   "metadata": {
    "ExecuteTime": {
     "end_time": "2024-11-06T03:10:27.425888Z",
     "start_time": "2024-11-06T03:10:27.420709Z"
    }
   },
   "outputs": [
    {
     "data": {
      "text/plain": [
       "[0, 2, 4, 6, 8]"
      ]
     },
     "execution_count": 13,
     "metadata": {},
     "output_type": "execute_result"
    }
   ],
   "source": [
    "list(range(0, 10, 2))"
   ]
  },
  {
   "cell_type": "code",
   "execution_count": 16,
   "id": "a7447a2c",
   "metadata": {
    "ExecuteTime": {
     "end_time": "2024-11-06T03:11:24.362015Z",
     "start_time": "2024-11-06T03:11:24.355724Z"
    }
   },
   "outputs": [
    {
     "data": {
      "text/plain": [
       "[10, 8, 6, 4, 2, 0]"
      ]
     },
     "execution_count": 16,
     "metadata": {},
     "output_type": "execute_result"
    }
   ],
   "source": [
    "list(range(10, -1, -2))"
   ]
  },
  {
   "cell_type": "code",
   "execution_count": 17,
   "id": "b203a701",
   "metadata": {
    "ExecuteTime": {
     "end_time": "2024-11-06T03:13:32.113379Z",
     "start_time": "2024-11-06T03:13:32.108371Z"
    }
   },
   "outputs": [
    {
     "name": "stdout",
     "output_type": "stream",
     "text": [
      "0\n",
      "1\n",
      "2\n"
     ]
    }
   ],
   "source": [
    "for i in [0, 1, 2]: \n",
    "    print(i)"
   ]
  },
  {
   "cell_type": "code",
   "execution_count": 18,
   "id": "0b25952b",
   "metadata": {
    "ExecuteTime": {
     "end_time": "2024-11-06T03:14:53.282758Z",
     "start_time": "2024-11-06T03:14:53.276760Z"
    }
   },
   "outputs": [
    {
     "name": "stdout",
     "output_type": "stream",
     "text": [
      "0\n",
      "1\n",
      "2\n"
     ]
    }
   ],
   "source": [
    "for i in range(3): \n",
    "    print(i)# 0~2"
   ]
  },
  {
   "cell_type": "code",
   "execution_count": 19,
   "id": "43a9be15",
   "metadata": {
    "ExecuteTime": {
     "end_time": "2024-11-06T03:15:21.609762Z",
     "start_time": "2024-11-06T03:15:21.604319Z"
    }
   },
   "outputs": [
    {
     "name": "stdout",
     "output_type": "stream",
     "text": [
      "mango\n",
      "apple\n",
      "orange\n"
     ]
    }
   ],
   "source": [
    "# sol 1\n",
    "for fruit in fruits:\n",
    "    print(fruit)"
   ]
  },
  {
   "cell_type": "code",
   "execution_count": 21,
   "id": "a2824712",
   "metadata": {
    "ExecuteTime": {
     "end_time": "2024-11-06T03:32:14.930620Z",
     "start_time": "2024-11-06T03:32:14.926629Z"
    }
   },
   "outputs": [
    {
     "name": "stdout",
     "output_type": "stream",
     "text": [
      "0번째 과일은 mango\n",
      "1번째 과일은 apple\n",
      "2번째 과일은 orange\n",
      "3번째 과일은 banana\n"
     ]
    }
   ],
   "source": [
    "# sol 2\n",
    "fruits = ['mango', 'apple', 'orange', 'banana']\n",
    "for idx in range(len(fruits)):\n",
    "    print(\"{}번째 과일은 {}\".format(idx, fruits[idx]))"
   ]
  },
  {
   "cell_type": "code",
   "execution_count": 23,
   "id": "45c971a3",
   "metadata": {
    "ExecuteTime": {
     "end_time": "2024-11-06T03:34:43.149989Z",
     "start_time": "2024-11-06T03:34:43.134366Z"
    }
   },
   "outputs": [
    {
     "data": {
      "text/plain": [
       "[(0, 'mango'), (1, 'apple'), (2, 'orange'), (3, 'banana')]"
      ]
     },
     "execution_count": 23,
     "metadata": {},
     "output_type": "execute_result"
    }
   ],
   "source": [
    "list(enumerate(fruits))"
   ]
  },
  {
   "cell_type": "code",
   "execution_count": 27,
   "id": "e3002766",
   "metadata": {
    "ExecuteTime": {
     "end_time": "2024-11-06T03:36:45.587270Z",
     "start_time": "2024-11-06T03:36:45.582282Z"
    }
   },
   "outputs": [
    {
     "name": "stdout",
     "output_type": "stream",
     "text": [
      "0번째 과일은 mango\n",
      "1번째 과일은 apple\n",
      "2번째 과일은 orange\n",
      "3번째 과일은 banana\n"
     ]
    }
   ],
   "source": [
    "# sol 3\n",
    "for idx, value in enumerate(fruits):\n",
    "    print(\"{}번째 과일은 {}\".format(idx, value))"
   ]
  },
  {
   "cell_type": "code",
   "execution_count": 28,
   "id": "40274781",
   "metadata": {
    "ExecuteTime": {
     "end_time": "2024-11-06T03:38:39.473740Z",
     "start_time": "2024-11-06T03:38:39.468754Z"
    }
   },
   "outputs": [
    {
     "name": "stdout",
     "output_type": "stream",
     "text": [
      "0 mango\n",
      "1 apple\n",
      "2 orange\n",
      "3 banana\n"
     ]
    }
   ],
   "source": [
    "for idx, value in enumerate(fruits):\n",
    "    print(idx, value)"
   ]
  },
  {
   "cell_type": "code",
   "execution_count": 30,
   "id": "4f0ecfbd",
   "metadata": {
    "ExecuteTime": {
     "end_time": "2024-11-06T03:41:25.364291Z",
     "start_time": "2024-11-06T03:41:25.356845Z"
    }
   },
   "outputs": [
    {
     "data": {
      "text/plain": [
       "[1, 2, 3, '4', True, [1, 2, 3]]"
      ]
     },
     "execution_count": 30,
     "metadata": {},
     "output_type": "execute_result"
    }
   ],
   "source": [
    "numbers = [ 1, 2, 3, '4', True, [1, 2, 3] ]\n",
    "numbers"
   ]
  },
  {
   "cell_type": "code",
   "execution_count": 32,
   "id": "548e647d",
   "metadata": {
    "ExecuteTime": {
     "end_time": "2024-11-06T03:48:15.357663Z",
     "start_time": "2024-11-06T03:48:15.349882Z"
    }
   },
   "outputs": [
    {
     "data": {
      "text/plain": [
       "(3, 5)"
      ]
     },
     "execution_count": 32,
     "metadata": {},
     "output_type": "execute_result"
    }
   ],
   "source": [
    "# 2차원 리스트(list안의 list)\n",
    "numbers_2d = [ [1, 2, 3, 4, 5], \n",
    "               [11, 12, 13, 14, 15],\n",
    "               [91, 92, 93, 94, 95] ]\n",
    "len(numbers_2d), len(numbers_2d[0]) # 리스트 갯수"
   ]
  },
  {
   "cell_type": "code",
   "execution_count": 34,
   "id": "4fe6ff17",
   "metadata": {
    "ExecuteTime": {
     "end_time": "2024-11-06T03:49:34.643166Z",
     "start_time": "2024-11-06T03:49:34.636767Z"
    }
   },
   "outputs": [
    {
     "data": {
      "text/plain": [
       "12"
      ]
     },
     "execution_count": 34,
     "metadata": {},
     "output_type": "execute_result"
    }
   ],
   "source": [
    "numbers_2d[1][1]"
   ]
  },
  {
   "cell_type": "code",
   "execution_count": 43,
   "id": "b2bb66c7",
   "metadata": {
    "ExecuteTime": {
     "end_time": "2024-11-06T03:54:28.291739Z",
     "start_time": "2024-11-06T03:54:28.285755Z"
    }
   },
   "outputs": [
    {
     "name": "stdout",
     "output_type": "stream",
     "text": [
      "0행0열: 1\t0행1열: 2\t0행2열: 3\t0행3열: 4\t0행4열: 5\t\n",
      "1행0열: 11\t1행1열: 12\t1행2열: 13\t1행3열: 14\t1행4열: 15\t\n",
      "2행0열: 91\t2행1열: 92\t2행2열: 93\t2행3열: 94\t2행4열: 95\t\n"
     ]
    }
   ],
   "source": [
    "for i in range(len(numbers_2d)):\n",
    "    for j in range(len(numbers_2d[i])):\n",
    "        print(\"{}행{}열: {}\".format(i, j, numbers_2d[i][j]), end='\\t')\n",
    "    print() # 개행"
   ]
  },
  {
   "cell_type": "markdown",
   "id": "d0130ae8",
   "metadata": {},
   "source": [
    "## 1.2 기본 정보 조회"
   ]
  },
  {
   "cell_type": "code",
   "execution_count": 55,
   "id": "009ec1bb",
   "metadata": {
    "ExecuteTime": {
     "end_time": "2024-11-06T04:02:04.074216Z",
     "start_time": "2024-11-06T04:02:04.069071Z"
    }
   },
   "outputs": [],
   "source": [
    "numbers    = [ 1, 12, 3, 4, 5 ]\n",
    "numbers_2d = [ [100, 0, 1, 2, 3],\n",
    "               [9, 100, 110, 102, 130],\n",
    "               [59, 100, 130] ]"
   ]
  },
  {
   "cell_type": "code",
   "execution_count": 56,
   "id": "9f6ab296",
   "metadata": {
    "ExecuteTime": {
     "end_time": "2024-11-06T04:02:05.289751Z",
     "start_time": "2024-11-06T04:02:05.284764Z"
    }
   },
   "outputs": [
    {
     "name": "stdout",
     "output_type": "stream",
     "text": [
      "5 3\n"
     ]
    }
   ],
   "source": [
    "# 요소의 수\n",
    "print(len(numbers), len(numbers_2d))"
   ]
  },
  {
   "cell_type": "code",
   "execution_count": 57,
   "id": "7587c1d4",
   "metadata": {
    "ExecuteTime": {
     "end_time": "2024-11-06T04:02:06.827953Z",
     "start_time": "2024-11-06T04:02:06.820863Z"
    }
   },
   "outputs": [
    {
     "data": {
      "text/plain": [
       "(1, 12)"
      ]
     },
     "execution_count": 57,
     "metadata": {},
     "output_type": "execute_result"
    }
   ],
   "source": [
    "# 최솟값, 최댓값\n",
    "min(numbers), max(numbers)"
   ]
  },
  {
   "cell_type": "code",
   "execution_count": 59,
   "id": "81fbe31a",
   "metadata": {
    "ExecuteTime": {
     "end_time": "2024-11-06T04:02:46.707064Z",
     "start_time": "2024-11-06T04:02:46.701060Z"
    }
   },
   "outputs": [
    {
     "data": {
      "text/plain": [
       "([9, 100, 110, 102, 130], [100, 0, 1, 2, 3])"
      ]
     },
     "execution_count": 59,
     "metadata": {},
     "output_type": "execute_result"
    }
   ],
   "source": [
    "# 2차원 list의 min(): 부분 리스트 중에서 첫요소가 가장 작은 값\n",
    "#             max(): 부분 리스트 중에서 첫요소가 가장 큰 값\n",
    "min(numbers_2d), max(numbers_2d)"
   ]
  },
  {
   "cell_type": "code",
   "execution_count": 60,
   "id": "32a59a39",
   "metadata": {
    "ExecuteTime": {
     "end_time": "2024-11-06T04:03:58.980050Z",
     "start_time": "2024-11-06T04:03:58.973069Z"
    }
   },
   "outputs": [
    {
     "data": {
      "text/plain": [
       "('banana', 'orange')"
      ]
     },
     "execution_count": 60,
     "metadata": {},
     "output_type": "execute_result"
    }
   ],
   "source": [
    "# list의 데이터가 문자일 경우 ascii 코드값으로 min(), max() 적용\n",
    "fruits = ['mango', 'banana', 'orange']\n",
    "min(fruits), max(fruits)"
   ]
  },
  {
   "cell_type": "code",
   "execution_count": 69,
   "id": "de075140",
   "metadata": {
    "ExecuteTime": {
     "end_time": "2024-11-06T04:08:57.883184Z",
     "start_time": "2024-11-06T04:08:57.877216Z"
    }
   },
   "outputs": [
    {
     "name": "stdout",
     "output_type": "stream",
     "text": [
      "원 리스트    :  [1, 12, 3, 14, 5]\n",
      "오름차순 정렬:  [1, 3, 5, 12, 14]\n",
      "내림차순 정렬:  [14, 12, 5, 3, 1]\n",
      "합          :  35\n",
      "sorted 함수 사용시 리스트 내용이 바뀌지 않음:  [1, 12, 3, 14, 5]\n"
     ]
    }
   ],
   "source": [
    "# 정렬하기\n",
    "numbers = [1, 12, 3, 14, 5]\n",
    "print('원 리스트    : ', numbers)\n",
    "print('오름차순 정렬: ', sorted(numbers))\n",
    "print('내림차순 정렬: ', sorted(numbers, reverse=True))\n",
    "print('합          : ', sum(numbers))\n",
    "print('sorted 함수 사용시 리스트 내용이 바뀌지 않음: ', numbers)"
   ]
  },
  {
   "cell_type": "markdown",
   "id": "f84c37b2",
   "metadata": {},
   "source": [
    "## 1.3 요소 추가"
   ]
  },
  {
   "cell_type": "code",
   "execution_count": null,
   "id": "8c6810c2",
   "metadata": {},
   "outputs": [],
   "source": [
    "# +              : 두 리스트 연결\n",
    "# *              : 리스트를 곱한 수만큼 반복\n",
    "# append()       : 요소 맨 뒤에 추가\n",
    "# extend()       : 리스트를 요소별로 맨 뒤에 추가\n",
    "# insert(idx, 값): idx번째 인덱스 위치에 값 추가 "
   ]
  },
  {
   "cell_type": "code",
   "execution_count": 1,
   "id": "c499eaff",
   "metadata": {},
   "outputs": [
    {
     "data": {
      "text/plain": [
       "[1, 2, 3, 1, 2, 3]"
      ]
     },
     "execution_count": 1,
     "metadata": {},
     "output_type": "execute_result"
    }
   ],
   "source": [
    "numbers = [1,2,3]\n",
    "numbers = numbers + numbers #리스트 연결\n",
    "numbers"
   ]
  },
  {
   "cell_type": "code",
   "execution_count": 2,
   "id": "8fddd75c",
   "metadata": {},
   "outputs": [
    {
     "name": "stdout",
     "output_type": "stream",
     "text": [
      "[1, 2, 3, 1, 2, 3, 1, 2, 3]\n",
      "[1, 2, 3, 1, 2, 3, 1, 2, 3]\n"
     ]
    }
   ],
   "source": [
    "numbers = [1,2,3]\n",
    "print(3 * numbers) #곱한 수 만큼 list 반복\n",
    "print(numbers * 3)"
   ]
  },
  {
   "cell_type": "code",
   "execution_count": 3,
   "id": "a4f57ee1",
   "metadata": {},
   "outputs": [
    {
     "data": {
      "text/plain": [
       "[1, 2, 3, 4]"
      ]
     },
     "execution_count": 3,
     "metadata": {},
     "output_type": "execute_result"
    }
   ],
   "source": [
    "numbers.append(4) # 인덱스에 4를 추가\n",
    "numbers"
   ]
  },
  {
   "cell_type": "code",
   "execution_count": 4,
   "id": "6d773f6b",
   "metadata": {},
   "outputs": [
    {
     "data": {
      "text/plain": [
       "[1, 2, 3, 4, [5, 6, 7]]"
      ]
     },
     "execution_count": 4,
     "metadata": {},
     "output_type": "execute_result"
    }
   ],
   "source": [
    "numbers.append([5,6,7]) # 2중 인덱스 추가\n",
    "numbers"
   ]
  },
  {
   "cell_type": "code",
   "execution_count": 5,
   "id": "c94f5221",
   "metadata": {},
   "outputs": [
    {
     "data": {
      "text/plain": [
       "[1, 2, 3, 4, 5, 6]"
      ]
     },
     "execution_count": 5,
     "metadata": {},
     "output_type": "execute_result"
    }
   ],
   "source": [
    "num = [1, 2, 3]\n",
    "num.extend([4,5,6])\n",
    "num"
   ]
  },
  {
   "cell_type": "code",
   "execution_count": 6,
   "id": "a40b9dab",
   "metadata": {},
   "outputs": [
    {
     "data": {
      "text/plain": [
       "['a', 'b', 'c', 'd']"
      ]
     },
     "execution_count": 6,
     "metadata": {},
     "output_type": "execute_result"
    }
   ],
   "source": [
    "lst = ['a','b','c']\n",
    "lst.append('d')\n",
    "lst"
   ]
  },
  {
   "cell_type": "code",
   "execution_count": 8,
   "id": "5a91ba04",
   "metadata": {},
   "outputs": [
    {
     "data": {
      "text/plain": [
       "['a', 'b', 'c', 'd', 'hello']"
      ]
     },
     "execution_count": 8,
     "metadata": {},
     "output_type": "execute_result"
    }
   ],
   "source": [
    "lst.append('hello')\n",
    "lst"
   ]
  },
  {
   "cell_type": "code",
   "execution_count": 9,
   "id": "832225f0",
   "metadata": {},
   "outputs": [
    {
     "data": {
      "text/plain": [
       "['a', 'b', 'c', 'd', 'hello', 'h', 'e', 'l', 'l', 'o']"
      ]
     },
     "execution_count": 9,
     "metadata": {},
     "output_type": "execute_result"
    }
   ],
   "source": [
    "lst.extend('hello')\n",
    "lst"
   ]
  },
  {
   "cell_type": "code",
   "execution_count": 1,
   "id": "78031f2b",
   "metadata": {},
   "outputs": [
    {
     "data": {
      "text/plain": [
       "[1, 'xx', 2, 3, 4, 5]"
      ]
     },
     "execution_count": 1,
     "metadata": {},
     "output_type": "execute_result"
    }
   ],
   "source": [
    "numbers = [1,2,3,4,5]\n",
    "numbers.insert(1, 'xx')\n",
    "numbers"
   ]
  },
  {
   "cell_type": "markdown",
   "id": "052fadfd",
   "metadata": {},
   "source": [
    "## 1.4 인덱싱과 요소 갯수\n",
    "- 변수[index] : 인덱스를 이용한 접근\n",
    "- index(찾을데이터) : 해당 찾을 데이터가 있는 요소의 index를 반환\n",
    "- count(찾을데이터) : 리스트에서 데이터의 갯수 반환"
   ]
  },
  {
   "cell_type": "code",
   "execution_count": 2,
   "id": "32b7f1f6",
   "metadata": {},
   "outputs": [],
   "source": [
    "numbers = [1, 2, 3, [1,2,3,], 1, 2, 3]"
   ]
  },
  {
   "cell_type": "code",
   "execution_count": 3,
   "id": "ccdd7432",
   "metadata": {},
   "outputs": [
    {
     "data": {
      "text/plain": [
       "2"
      ]
     },
     "execution_count": 3,
     "metadata": {},
     "output_type": "execute_result"
    }
   ],
   "source": [
    "numbers.count(2)"
   ]
  },
  {
   "cell_type": "code",
   "execution_count": 4,
   "id": "25ca4070",
   "metadata": {},
   "outputs": [
    {
     "data": {
      "text/plain": [
       "0"
      ]
     },
     "execution_count": 4,
     "metadata": {},
     "output_type": "execute_result"
    }
   ],
   "source": [
    "numbers.count(9)"
   ]
  },
  {
   "cell_type": "code",
   "execution_count": 5,
   "id": "76f7cfa6",
   "metadata": {},
   "outputs": [
    {
     "data": {
      "text/plain": [
       "False"
      ]
     },
     "execution_count": 5,
     "metadata": {},
     "output_type": "execute_result"
    }
   ],
   "source": [
    "9 in numbers # 9가 numbers의 요소인지 여부"
   ]
  },
  {
   "cell_type": "code",
   "execution_count": 6,
   "id": "b5e3bd14",
   "metadata": {},
   "outputs": [
    {
     "data": {
      "text/plain": [
       "1"
      ]
     },
     "execution_count": 6,
     "metadata": {},
     "output_type": "execute_result"
    }
   ],
   "source": [
    "numbers = [1, 2, 3, [1,2,3,], 1, 2, 3]\n",
    "numbers.index(2) # 처음(0인덱스)부터 2가 나오는 인덱스 번호를 반환"
   ]
  },
  {
   "cell_type": "code",
   "execution_count": 7,
   "id": "1ba534d7",
   "metadata": {},
   "outputs": [
    {
     "data": {
      "text/plain": [
       "5"
      ]
     },
     "execution_count": 7,
     "metadata": {},
     "output_type": "execute_result"
    }
   ],
   "source": [
    "numbers.index(2, 2) # 2번 index 부터 value 값 2를 찾는다 (value, start값)"
   ]
  },
  {
   "cell_type": "code",
   "execution_count": 9,
   "id": "364f0c5e",
   "metadata": {},
   "outputs": [
    {
     "name": "stdout",
     "output_type": "stream",
     "text": [
      "0\n",
      "False\n"
     ]
    }
   ],
   "source": [
    "# 특정(numbers) index List 요소에 있는지 여부 검사 \n",
    "print(numbers.count(9))\n",
    "print(9 in numbers)"
   ]
  },
  {
   "cell_type": "code",
   "execution_count": 10,
   "id": "6075aeac",
   "metadata": {},
   "outputs": [
    {
     "ename": "ValueError",
     "evalue": "9 is not in list",
     "output_type": "error",
     "traceback": [
      "\u001b[1;31m---------------------------------------------------------------------------\u001b[0m",
      "\u001b[1;31mValueError\u001b[0m                                Traceback (most recent call last)",
      "Cell \u001b[1;32mIn[10], line 1\u001b[0m\n\u001b[1;32m----> 1\u001b[0m \u001b[43mnumbers\u001b[49m\u001b[38;5;241;43m.\u001b[39;49m\u001b[43mindex\u001b[49m\u001b[43m(\u001b[49m\u001b[38;5;241;43m9\u001b[39;49m\u001b[43m)\u001b[49m\n",
      "\u001b[1;31mValueError\u001b[0m: 9 is not in list"
     ]
    }
   ],
   "source": [
    "numbers.index(9)"
   ]
  },
  {
   "cell_type": "code",
   "execution_count": 11,
   "id": "fceb97e6",
   "metadata": {},
   "outputs": [
    {
     "name": "stdout",
     "output_type": "stream",
     "text": [
      "9가 요소에 포함되어있지 않습니다.\n"
     ]
    }
   ],
   "source": [
    "if 9 in numbers:\n",
    "    print(numbers.index(9))\n",
    "else:\n",
    "    print('9가 요소에 포함되어있지 않습니다.')"
   ]
  },
  {
   "cell_type": "code",
   "execution_count": 12,
   "id": "410c2579",
   "metadata": {},
   "outputs": [],
   "source": [
    "def safe_index(lst, item):\n",
    "    if item in lst:\n",
    "        return lst.index(item)\n",
    "    else:\n",
    "        return -1"
   ]
  },
  {
   "cell_type": "code",
   "execution_count": 15,
   "id": "4adf3fba",
   "metadata": {},
   "outputs": [],
   "source": [
    "def safe_index(lst, item):\n",
    "    return lst.index(item) if item in lst else -1"
   ]
  },
  {
   "cell_type": "code",
   "execution_count": 13,
   "id": "5ea3c091",
   "metadata": {},
   "outputs": [
    {
     "data": {
      "text/plain": [
       "-1"
      ]
     },
     "execution_count": 13,
     "metadata": {},
     "output_type": "execute_result"
    }
   ],
   "source": [
    "safe_index(numbers, 9)"
   ]
  },
  {
   "cell_type": "code",
   "execution_count": null,
   "id": "9bd8c67e",
   "metadata": {},
   "outputs": [],
   "source": [
    "numbers[20] # 벗어난 인덱싱시 에러 발생"
   ]
  },
  {
   "cell_type": "markdown",
   "id": "e4827a30",
   "metadata": {},
   "source": [
    "## 1.5 원하는 요소 추출\n",
    "1. 리스트 슬라이싱 : list 에서 원하는 index의 데이터를 추출 \n",
    "- `인덱스의 범위를 벗어난 값도 에러나지 않음`\n",
    "- [from:stop:step] from부터 stop 앞까지 step씩 증가하는 index값 추출\n",
    "- `from 생략 시 처음, stop 생략 시 끝, step 생략 시 1. 모두 생략 가능`\n",
    "- 인덱스는 음수 가능 <br>\n",
    "2. <b> `리스트 컴프리헨션`</b> : list에서 원하는 데이터 추출"
   ]
  },
  {
   "cell_type": "code",
   "execution_count": 22,
   "id": "2ae8524d",
   "metadata": {},
   "outputs": [
    {
     "name": "stdout",
     "output_type": "stream",
     "text": [
      "[20, 19, 18, 13, 12, 10, 9, 5, 3, 1]\n",
      "[1, 5, 10, 13, 19]\n",
      "[1, 3, 5, 9, 10, 12, 13, 18, 19, 20]\n"
     ]
    }
   ],
   "source": [
    "numbers = [1,3,5,9,10,12,13,18,19,20]\n",
    "# 반대로 출력\n",
    "print(numbers[::-1])\n",
    "print(numbers[0:10:2])\n",
    "print(numbers[0:100])"
   ]
  },
  {
   "cell_type": "code",
   "execution_count": 24,
   "id": "d709a1fa",
   "metadata": {},
   "outputs": [
    {
     "data": {
      "text/plain": [
       "[1, 3, 5, 9, 10, 12, 13, 18, 19, 20]"
      ]
     },
     "execution_count": 24,
     "metadata": {},
     "output_type": "execute_result"
    }
   ],
   "source": [
    "# 리스트 컴프리헨션을 이용해서 list의 원하는 데이터 액세스\n",
    "numbers = [1,3,5,9,10,12,13,18,19,20]\n",
    "# 모든 데이터 추출\n",
    "\n",
    "# for data in numbers:\n",
    "#    print(data, end='\\t')\n",
    "[data for data in numbers]"
   ]
  },
  {
   "cell_type": "code",
   "execution_count": 28,
   "id": "b0cf2bd8",
   "metadata": {},
   "outputs": [
    {
     "data": {
      "text/plain": [
       "[10, 12, 18, 20]"
      ]
     },
     "execution_count": 28,
     "metadata": {},
     "output_type": "execute_result"
    }
   ],
   "source": [
    "# 짝수 데이터 추출\n",
    "\n",
    "# for data in numbers:\n",
    "#     if data%2==0:\n",
    "#         print(data, end='\\t')\n",
    "[data for data in numbers if data%2==0]"
   ]
  },
  {
   "cell_type": "code",
   "execution_count": 47,
   "id": "51947d4d",
   "metadata": {},
   "outputs": [
    {
     "data": {
      "text/plain": [
       "[10, 12, 13, 18, 19, 20]"
      ]
     },
     "execution_count": 47,
     "metadata": {},
     "output_type": "execute_result"
    }
   ],
   "source": [
    "# ex1.numbers에서 10이상의 요소만 추출\n",
    "[i for i in numbers if i>=10]"
   ]
  },
  {
   "cell_type": "code",
   "execution_count": 50,
   "id": "c2534e9b",
   "metadata": {},
   "outputs": [
    {
     "data": {
      "text/plain": [
       "['orange', 'apple', 'mango']"
      ]
     },
     "execution_count": 50,
     "metadata": {},
     "output_type": "execute_result"
    }
   ],
   "source": [
    "#  ex2.fruits 에서 과일의 글자가 5글자 이상인 과일만 추출\n",
    "fruits = ['orange', 'apple', 'mango', 'kiwi']\n",
    "[fruit for fruit in fruits if len(fruit)>4]"
   ]
  },
  {
   "cell_type": "code",
   "execution_count": 51,
   "id": "51ffdc92",
   "metadata": {},
   "outputs": [
    {
     "data": {
      "text/plain": [
       "[6, 5, 5, 4]"
      ]
     },
     "execution_count": 51,
     "metadata": {},
     "output_type": "execute_result"
    }
   ],
   "source": [
    "# ex2-1. fruits 리스트의 과일 글자수\n",
    "[len(fruit) for fruit in fruits]"
   ]
  },
  {
   "cell_type": "code",
   "execution_count": 61,
   "id": "965966f9",
   "metadata": {},
   "outputs": [
    {
     "data": {
      "text/plain": [
       "[9, 16, 25]"
      ]
     },
     "execution_count": 61,
     "metadata": {},
     "output_type": "execute_result"
    }
   ],
   "source": [
    "# ex3.3이상의 요소들의 제곱을 추출\n",
    "L = [1,2,3,4,5]\n",
    "[l**2 for l in L if l>=3]"
   ]
  },
  {
   "cell_type": "code",
   "execution_count": 55,
   "id": "33842e6c",
   "metadata": {},
   "outputs": [
    {
     "data": {
      "text/plain": [
       "[2, 4, 6, 8, 10]"
      ]
     },
     "execution_count": 55,
     "metadata": {},
     "output_type": "execute_result"
    }
   ],
   "source": [
    "# ex4.리스트의 값이 두배로 추출\n",
    "L = [1,2,3,4,5]\n",
    "[l*2 for l in L]"
   ]
  },
  {
   "cell_type": "markdown",
   "id": "db6fa133",
   "metadata": {},
   "source": [
    "## 1.6 요소 수정하기"
   ]
  },
  {
   "cell_type": "code",
   "execution_count": 62,
   "id": "37d8e11b",
   "metadata": {},
   "outputs": [
    {
     "data": {
      "text/plain": [
       "[0, 1, 22, 3, 4, 5, 6, 7, 8, 9]"
      ]
     },
     "execution_count": 62,
     "metadata": {},
     "output_type": "execute_result"
    }
   ],
   "source": [
    "numbers = [0,1,2,3,4,5,6,7,8,9]\n",
    "numbers[2] = 22\n",
    "numbers"
   ]
  },
  {
   "cell_type": "code",
   "execution_count": 63,
   "id": "622bf6b6",
   "metadata": {},
   "outputs": [
    {
     "data": {
      "text/plain": [
       "['xx', 'xx', 'xx', 'xx', 'xx', 'xx', 'xx', 'xx', 22, 3, 4, 5, 6, 7, 8, 9]"
      ]
     },
     "execution_count": 63,
     "metadata": {},
     "output_type": "execute_result"
    }
   ],
   "source": [
    "# 슬라이싱(step부분 미포함)을 이용하여 부분리스트를 통째로 수정\n",
    "numbers[0:2] = ['xx','xx','xx','xx','xx','xx','xx','xx']\n",
    "numbers"
   ]
  },
  {
   "cell_type": "code",
   "execution_count": 65,
   "id": "594bf897",
   "metadata": {},
   "outputs": [
    {
     "name": "stdout",
     "output_type": "stream",
     "text": [
      "수정전 : [0, 0, 0, 0, 0, 0, 0, 0, 0, 0]\n",
      "수정후 : [1, 0, 2, 0, 3, 0, 4, 0, 5, 0]\n"
     ]
    }
   ],
   "source": [
    "# 슬라이싱(step부분 포함)을 이용하여 부분 수정 (단 수정하는부분이 5개면 5개를 입력 해줘야함)\n",
    "numbers = [0]*10\n",
    "print('수정전 :', numbers)\n",
    "numbers[::2] = [1,2,3,4,5]\n",
    "print('수정후 :', numbers)"
   ]
  },
  {
   "cell_type": "code",
   "execution_count": null,
   "id": "73ebc45e",
   "metadata": {},
   "outputs": [],
   "source": [
    "# 수정하려는 요소 갯수가 맞지 않으면 에러 발생\n",
    "numbers[::2] = [1,2,3,4,5,6,7,8] # <<에러"
   ]
  },
  {
   "cell_type": "markdown",
   "id": "e99e5124",
   "metadata": {},
   "source": [
    "## 1.7 요소 삭제\n",
    "- pop() : 가장 마지막 인덱스의 요소가 반환되고 삭제 \n",
    "- pop(idx) : idx번째 요소가 반환되고 삭제\n",
    "- remove(data) : List 안에 Data 가 삭제 \n",
    "- del 리스트변수[idx] : idx번재 요소가 삭제"
   ]
  },
  {
   "cell_type": "code",
   "execution_count": 68,
   "id": "e8e89013",
   "metadata": {},
   "outputs": [
    {
     "name": "stdout",
     "output_type": "stream",
     "text": [
      "삭제한 데이터 : 5\n"
     ]
    }
   ],
   "source": [
    "numbers = [1,2,3,4,5]\n",
    "print('삭제한 데이터 :', numbers.pop())"
   ]
  },
  {
   "cell_type": "code",
   "execution_count": 69,
   "id": "df2b01b5",
   "metadata": {},
   "outputs": [
    {
     "name": "stdout",
     "output_type": "stream",
     "text": [
      "[0, 1, 2, 4, 5]\n"
     ]
    }
   ],
   "source": [
    "numbers = [0,1,2,3,4,5]\n",
    "numbers.remove(3) # remove() 는 반환값이 없고, 해당 데이터 삭제만 함\n",
    "print(numbers)"
   ]
  },
  {
   "cell_type": "code",
   "execution_count": 70,
   "id": "2c54282e",
   "metadata": {},
   "outputs": [
    {
     "name": "stdout",
     "output_type": "stream",
     "text": [
      "해당 데이터는 없습니다\n"
     ]
    }
   ],
   "source": [
    "if 9 in numbers:\n",
    "    numbers.remove(9)\n",
    "else:\n",
    "    print('해당 데이터는 없습니다')"
   ]
  },
  {
   "cell_type": "code",
   "execution_count": 71,
   "id": "54f8e04f",
   "metadata": {},
   "outputs": [],
   "source": [
    "def safe_remove(lst, remove_item):\n",
    "    if remove_item in lst:\n",
    "        lst.remove(remove_item)\n",
    "    else:\n",
    "        print('해당 데이터는 없는 아이템 입니다')"
   ]
  },
  {
   "cell_type": "code",
   "execution_count": 72,
   "id": "a3399bb9",
   "metadata": {},
   "outputs": [
    {
     "name": "stdout",
     "output_type": "stream",
     "text": [
      "해당 데이터는 없는 아이템 입니다\n"
     ]
    }
   ],
   "source": [
    "safe_remove(numbers, 9)"
   ]
  },
  {
   "cell_type": "code",
   "execution_count": 75,
   "id": "03b476a0",
   "metadata": {},
   "outputs": [
    {
     "name": "stdout",
     "output_type": "stream",
     "text": [
      "삭제 후 : [0, 1, 3, 4, 5]\n"
     ]
    }
   ],
   "source": [
    "numbers = [0,1,2,3,4,5]\n",
    "del numbers[2]\n",
    "print('삭제 후 :', numbers)"
   ]
  },
  {
   "cell_type": "code",
   "execution_count": 77,
   "id": "ddb80048",
   "metadata": {},
   "outputs": [],
   "source": [
    "del numbers # 변수 삭제.."
   ]
  },
  {
   "cell_type": "markdown",
   "id": "45fe78e4",
   "metadata": {},
   "source": [
    "## 1.8 정렬하기"
   ]
  },
  {
   "cell_type": "code",
   "execution_count": 84,
   "id": "19f684ed",
   "metadata": {},
   "outputs": [
    {
     "data": {
      "text/plain": [
       "[1, 2, 3, 6, 9, 96]"
      ]
     },
     "execution_count": 84,
     "metadata": {},
     "output_type": "execute_result"
    }
   ],
   "source": [
    "numbers = [9, 1, 6, 3, 96, 2]\n",
    "numbers.sort() # numbers 자체가 정렬한 결과로 바뀜(기본은 오름차순으로 정렬)\n",
    "numbers"
   ]
  },
  {
   "cell_type": "code",
   "execution_count": 85,
   "id": "c4f5f3b0",
   "metadata": {},
   "outputs": [
    {
     "data": {
      "text/plain": [
       "[96, 9, 6, 3, 2, 1]"
      ]
     },
     "execution_count": 85,
     "metadata": {},
     "output_type": "execute_result"
    }
   ],
   "source": [
    "numbers = numbers[::-1] # 오름차순 결과를 내림차순으로 변경\n",
    "numbers"
   ]
  },
  {
   "cell_type": "code",
   "execution_count": 86,
   "id": "6de19d39",
   "metadata": {},
   "outputs": [
    {
     "data": {
      "text/plain": [
       "[1, 2, 3, 6, 9, 96]"
      ]
     },
     "execution_count": 86,
     "metadata": {},
     "output_type": "execute_result"
    }
   ],
   "source": [
    "numbers.reverse() # 리스트를 역순으로 변경 하는 함수\n",
    "numbers"
   ]
  },
  {
   "cell_type": "code",
   "execution_count": 87,
   "id": "afe02d02",
   "metadata": {},
   "outputs": [
    {
     "data": {
      "text/plain": [
       "[96, 9, 6, 3, 2, 1]"
      ]
     },
     "execution_count": 87,
     "metadata": {},
     "output_type": "execute_result"
    }
   ],
   "source": [
    "numbers.sort(reverse=True) # 내림차순 정렬\n",
    "numbers"
   ]
  },
  {
   "cell_type": "markdown",
   "id": "2aae6625",
   "metadata": {},
   "source": [
    "## 1.9 리스트 복제"
   ]
  },
  {
   "cell_type": "code",
   "execution_count": 90,
   "id": "302c2446",
   "metadata": {},
   "outputs": [
    {
     "name": "stdout",
     "output_type": "stream",
     "text": [
      "원본 : [1, 5, 6, 9]\n",
      "정렬본 : [1, 5, 6, 9]\n",
      "원본 주소 : 3030730404352\n",
      "정렬본 주소 : 3030730404352\n"
     ]
    }
   ],
   "source": [
    "# 얕은 복사\n",
    "numbers = [5, 6, 1, 9]\n",
    "new_numbers = numbers \n",
    "new_numbers.sort()\n",
    "print('원본 :', numbers)\n",
    "print('정렬본 :', new_numbers)\n",
    "print('원본 주소 :', id(numbers))\n",
    "print('정렬본 주소 :', id(new_numbers))"
   ]
  },
  {
   "cell_type": "code",
   "execution_count": 91,
   "id": "e5571c87",
   "metadata": {},
   "outputs": [
    {
     "name": "stdout",
     "output_type": "stream",
     "text": [
      "numbers : [5, 6, 1, 9]\n",
      "new_numbers : [9, 6, 5, 1]\n",
      "numbers 주소 : 3030728886208\n",
      "new_numbers 주소 : 3030730781760\n"
     ]
    }
   ],
   "source": [
    "# 깊은 복사 (복제)\n",
    "numbers = [5, 6, 1, 9]\n",
    "new_numbers = numbers.copy() # numbers를 복제(깊은 복사)\n",
    "new_numbers.sort(reverse=True) #내림차순 정렬\n",
    "print('numbers :', numbers)\n",
    "print('new_numbers :', new_numbers)\n",
    "print('numbers 주소 :', id(numbers))\n",
    "print('new_numbers 주소 :', id(new_numbers))"
   ]
  },
  {
   "cell_type": "code",
   "execution_count": 93,
   "id": "1099b1e8",
   "metadata": {},
   "outputs": [
    {
     "name": "stdout",
     "output_type": "stream",
     "text": [
      "정렬전 : 서울 부산 대전 대구 인천 광주 제주\n",
      "정렬후 : 광주,대구,대전,부산,서울,인천,제주\n"
     ]
    }
   ],
   "source": [
    "city = ['서울', '부산', '대전', '대구', '인천', '광주', '제주']\n",
    "temp = city.copy()\n",
    "temp.sort()\n",
    "print('정렬전 :', ' '.join(city))\n",
    "print('정렬후 :', ','.join(temp))"
   ]
  },
  {
   "cell_type": "markdown",
   "id": "07cb4b56",
   "metadata": {},
   "source": [
    "# 2절 튜플\n",
    "- 리스트([])와 오사하지만 읽기전용. 수정이 필요없는 데이터에서 사용\n",
    "- 수정이 불가하므로 튜플에 데이터 수정, 추가, 삭제 불가\n",
    "- 제공되는 함수도 많지 않음\n",
    "- () 이용해서 생성"
   ]
  },
  {
   "cell_type": "code",
   "execution_count": 94,
   "id": "bf722f02",
   "metadata": {},
   "outputs": [
    {
     "name": "stdout",
     "output_type": "stream",
     "text": [
      "<class 'tuple'>\n",
      "('서울', '부산', '인천', '울진')\n"
     ]
    }
   ],
   "source": [
    "city = ('서울', '부산', '인천', '울진')\n",
    "print(type(city))\n",
    "print(city)"
   ]
  },
  {
   "cell_type": "code",
   "execution_count": 96,
   "id": "73b3048a",
   "metadata": {},
   "outputs": [
    {
     "data": {
      "text/plain": [
       "'서울->부산->인천->울진'"
      ]
     },
     "execution_count": 96,
     "metadata": {},
     "output_type": "execute_result"
    }
   ],
   "source": [
    "'->'.join(city)"
   ]
  },
  {
   "cell_type": "code",
   "execution_count": 98,
   "id": "15fafd97",
   "metadata": {},
   "outputs": [
    {
     "name": "stdout",
     "output_type": "stream",
     "text": [
      "<class 'list'>\n",
      "['서울']\n",
      "1\n"
     ]
    }
   ],
   "source": [
    "l = ['서울']\n",
    "print(type(l))\n",
    "print(l)\n",
    "print(len(l))"
   ]
  },
  {
   "cell_type": "code",
   "execution_count": 99,
   "id": "186446c3",
   "metadata": {},
   "outputs": [
    {
     "name": "stdout",
     "output_type": "stream",
     "text": [
      "<class 'str'>\n",
      "서울\n"
     ]
    }
   ],
   "source": [
    "city = ('서울') # 요소가 하나 있는 튜플(x)\n",
    "print(type(city))\n",
    "print(city)"
   ]
  },
  {
   "cell_type": "code",
   "execution_count": 100,
   "id": "150946c9",
   "metadata": {},
   "outputs": [
    {
     "name": "stdout",
     "output_type": "stream",
     "text": [
      "<class 'tuple'>\n",
      "('서울',)\n",
      "1\n"
     ]
    }
   ],
   "source": [
    "city = ('서울', )# 요소가 하나 있는 튜플(o)\n",
    "print(type(city))\n",
    "print(city)\n",
    "print(len(city))"
   ]
  },
  {
   "cell_type": "code",
   "execution_count": null,
   "id": "4b26ff3f",
   "metadata": {},
   "outputs": [],
   "source": [
    "a, b = 10, 20\n",
    "# (a, b) = (10, 20)"
   ]
  },
  {
   "cell_type": "code",
   "execution_count": 101,
   "id": "b28a746f",
   "metadata": {},
   "outputs": [
    {
     "name": "stdout",
     "output_type": "stream",
     "text": [
      "<class 'tuple'>\n",
      "(1, 2, 3)\n"
     ]
    }
   ],
   "source": [
    "numbers = 1,2,3 #numbers = (1,2,3)\n",
    "print(type(numbers))\n",
    "print(numbers)"
   ]
  },
  {
   "cell_type": "code",
   "execution_count": 102,
   "id": "31b11e95",
   "metadata": {},
   "outputs": [],
   "source": [
    "# numbers.remove(3) 수정하기 위한 함수는 제공되지 않음"
   ]
  },
  {
   "cell_type": "code",
   "execution_count": 103,
   "id": "f699253f",
   "metadata": {},
   "outputs": [
    {
     "data": {
      "text/plain": [
       "(1, 3, 3)"
      ]
     },
     "execution_count": 103,
     "metadata": {},
     "output_type": "execute_result"
    }
   ],
   "source": [
    "min(numbers), max(numbers), len(numbers)"
   ]
  },
  {
   "cell_type": "code",
   "execution_count": 104,
   "id": "4e5a24cd",
   "metadata": {},
   "outputs": [
    {
     "data": {
      "text/plain": [
       "2"
      ]
     },
     "execution_count": 104,
     "metadata": {},
     "output_type": "execute_result"
    }
   ],
   "source": [
    "numbers = (0, 1, 2, (1, 2), 0, 1, 2)\n",
    "numbers.count(2)"
   ]
  },
  {
   "cell_type": "code",
   "execution_count": 106,
   "id": "d45b7627",
   "metadata": {},
   "outputs": [
    {
     "data": {
      "text/plain": [
       "(0, 1, 2)"
      ]
     },
     "execution_count": 106,
     "metadata": {},
     "output_type": "execute_result"
    }
   ],
   "source": [
    "numbers[0:3]"
   ]
  },
  {
   "cell_type": "code",
   "execution_count": 107,
   "id": "bbd647d8",
   "metadata": {},
   "outputs": [
    {
     "data": {
      "text/plain": [
       "2"
      ]
     },
     "execution_count": 107,
     "metadata": {},
     "output_type": "execute_result"
    }
   ],
   "source": [
    "numbers.index(2) # 처음부터 2가 있는 곳의 index"
   ]
  },
  {
   "cell_type": "code",
   "execution_count": 108,
   "id": "c6b765d2",
   "metadata": {},
   "outputs": [
    {
     "data": {
      "text/plain": [
       "6"
      ]
     },
     "execution_count": 108,
     "metadata": {},
     "output_type": "execute_result"
    }
   ],
   "source": [
    "numbers.index(2, 3) #3번째 부터 2가 나오는 index"
   ]
  },
  {
   "cell_type": "code",
   "execution_count": 109,
   "id": "723fbb2d",
   "metadata": {},
   "outputs": [
    {
     "name": "stdout",
     "output_type": "stream",
     "text": [
      "0\n",
      "False\n"
     ]
    }
   ],
   "source": [
    "# numbers 안에 9 요소가 있는 여부\n",
    "print(numbers.count(9))\n",
    "print(9 in numbers)"
   ]
  },
  {
   "cell_type": "code",
   "execution_count": null,
   "id": "a20d6559",
   "metadata": {},
   "outputs": [],
   "source": []
  },
  {
   "cell_type": "code",
   "execution_count": 110,
   "id": "2a15d815",
   "metadata": {},
   "outputs": [],
   "source": [
    "def safe_index(lst, item):\n",
    "    if item in lst:\n",
    "        return lst.index(item)\n",
    "    else:\n",
    "        return -1\n",
    "def safe_index(lst, item):\n",
    "    return lst.index(item) if item in lst else -1"
   ]
  },
  {
   "cell_type": "code",
   "execution_count": 111,
   "id": "03bb4d0a",
   "metadata": {},
   "outputs": [
    {
     "data": {
      "text/plain": [
       "-1"
      ]
     },
     "execution_count": 111,
     "metadata": {},
     "output_type": "execute_result"
    }
   ],
   "source": [
    "safe_index(numbers, 9)"
   ]
  },
  {
   "cell_type": "code",
   "execution_count": 112,
   "id": "8d381def",
   "metadata": {},
   "outputs": [
    {
     "data": {
      "text/plain": [
       "(1, 2, 3, 1, 2, 3)"
      ]
     },
     "execution_count": 112,
     "metadata": {},
     "output_type": "execute_result"
    }
   ],
   "source": [
    "numbers = (1, 2, 3)\n",
    "numbers + numbers # 더하기를 하면 연결"
   ]
  },
  {
   "cell_type": "code",
   "execution_count": 113,
   "id": "a9c0b54d",
   "metadata": {},
   "outputs": [
    {
     "data": {
      "text/plain": [
       "(1, 2, 3, 1, 2, 3, 1, 2, 3)"
      ]
     },
     "execution_count": 113,
     "metadata": {},
     "output_type": "execute_result"
    }
   ],
   "source": [
    "numbers * 3 # 곱하기를 하면 반복"
   ]
  },
  {
   "cell_type": "code",
   "execution_count": 114,
   "id": "99fdb3c2",
   "metadata": {},
   "outputs": [
    {
     "data": {
      "text/plain": [
       "[4, 16, 36]"
      ]
     },
     "execution_count": 114,
     "metadata": {},
     "output_type": "execute_result"
    }
   ],
   "source": [
    "# ex. 짝수 요소들을 추출하여 제곱한 리스트를 출력하시오\n",
    "numbers = (1, 2, 3, 4, 5, 6)\n",
    "[x**2 for x in numbers if x%2==0]"
   ]
  },
  {
   "cell_type": "markdown",
   "id": "a603e659",
   "metadata": {},
   "source": [
    "# 3절. 딕셔너리\n",
    "cf. 자바에서의 hashMap\n",
    "- 중괄호({})를 이용해서 딕셔너리 생성. 키(key)-값(value)쌍으로 구성된 자료구조\n",
    "- 키는 유일한 값(중복허용안함). 키에 list는 사용불가. 키에 tuple은 사용 가능\n",
    "- 값은 중복 가능. 모든 데이터 타입이 가능\n",
    "- 인덱스를 이용한 참조는 지원 안함"
   ]
  },
  {
   "cell_type": "code",
   "execution_count": 115,
   "id": "242d2105",
   "metadata": {},
   "outputs": [
    {
     "name": "stdout",
     "output_type": "stream",
     "text": [
      "<class 'dict'>\n",
      "{'name': '홍길동', 1: 22, (1, 2): [1, 2]}\n"
     ]
    }
   ],
   "source": [
    "dic = {'name':'홍길동', 1:22, (1,2):[1,2]}\n",
    "print(type(dic))\n",
    "print(dic)"
   ]
  },
  {
   "cell_type": "code",
   "execution_count": 116,
   "id": "2801d160",
   "metadata": {},
   "outputs": [
    {
     "data": {
      "text/plain": [
       "3"
      ]
     },
     "execution_count": 116,
     "metadata": {},
     "output_type": "execute_result"
    }
   ],
   "source": [
    "len(dic) # 데이터 요소 갯수"
   ]
  },
  {
   "cell_type": "code",
   "execution_count": 117,
   "id": "701b46b1",
   "metadata": {},
   "outputs": [
    {
     "data": {
      "text/plain": [
       "{'fruit': 'apple', 'number': 12, 'sport': 'golf'}"
      ]
     },
     "execution_count": 117,
     "metadata": {},
     "output_type": "execute_result"
    }
   ],
   "source": [
    "my_favorite = {'fruit':'apple', 'number':12, 'sport':'golf'}\n",
    "my_favorite"
   ]
  },
  {
   "cell_type": "code",
   "execution_count": 118,
   "id": "64808e5a",
   "metadata": {},
   "outputs": [
    {
     "data": {
      "text/plain": [
       "'apple'"
      ]
     },
     "execution_count": 118,
     "metadata": {},
     "output_type": "execute_result"
    }
   ],
   "source": [
    "my_favorite['fruit']"
   ]
  },
  {
   "cell_type": "code",
   "execution_count": 119,
   "id": "20c8fe06",
   "metadata": {},
   "outputs": [
    {
     "data": {
      "text/plain": [
       "'apple'"
      ]
     },
     "execution_count": 119,
     "metadata": {},
     "output_type": "execute_result"
    }
   ],
   "source": [
    "my_favorite.get('fruit')"
   ]
  },
  {
   "cell_type": "code",
   "execution_count": 120,
   "id": "dc9e888c",
   "metadata": {},
   "outputs": [
    {
     "name": "stdout",
     "output_type": "stream",
     "text": [
      "None\n"
     ]
    }
   ],
   "source": [
    "# print(my_favorite['people']) # 키목록에 없는 데이터를 인덱스로 참조시 에러\n",
    "print(my_favorite.get('people'))# 없는 키를 get함수로 참조시 None 으로 출력"
   ]
  },
  {
   "cell_type": "code",
   "execution_count": 123,
   "id": "fa6b0022",
   "metadata": {},
   "outputs": [
    {
     "name": "stdout",
     "output_type": "stream",
     "text": [
      "fruit 수정 후 : {'fruit': 'mango', 'number': 12, 'sport': 'golf'}\n",
      "people 키 추가 후 : {'fruit': 'mango', 'number': 12, 'sport': 'golf', 'people': '김형진'}\n"
     ]
    }
   ],
   "source": [
    "# 딕셔너리 수정\n",
    "my_favorite = {'fruit':'apple', 'number':12, 'sport':'golf'}\n",
    "my_favorite['fruit'] = 'mango'\n",
    "print('fruit 수정 후 :', my_favorite)\n",
    "my_favorite['people'] = '김형진'\n",
    "print('people 키 추가 후 :', my_favorite)\n",
    "print('데이터 갯수 :', len(my_favorite))\n",
    "# del my_favorite['sport'] \n",
    "#del(my_favorite['sport'])\n",
    "my_favorite.pop('sport')\n",
    "print('sport 제거 후 :', my_favorite)"
   ]
  },
  {
   "cell_type": "code",
   "execution_count": 124,
   "id": "ffa9ad61",
   "metadata": {},
   "outputs": [],
   "source": [
    "# for문을 이용한 튜플 출력\n",
    "my_tuple = ('김형진', 30, '010-5659-3068')"
   ]
  },
  {
   "cell_type": "code",
   "execution_count": 128,
   "id": "f5618063",
   "metadata": {},
   "outputs": [
    {
     "name": "stdout",
     "output_type": "stream",
     "text": [
      "김형진\t30\t010-5659-3068\t\n",
      "0번째 : 김형진\t1번째 : 30\t2번째 : 010-5659-3068\t\n",
      "0번째 : 김형진\t1번째 : 30\t2번째 : 010-5659-3068\t"
     ]
    }
   ],
   "source": [
    "for data in my_tuple:\n",
    "    print(data, end='\\t')\n",
    "print()\n",
    "for idx in range(len(my_tuple)):\n",
    "    print(\"{}번째 : {}\\t\".format(idx, my_tuple[idx]), end=\"\")\n",
    "print()\n",
    "for idx, value in enumerate(my_tuple):\n",
    "    print('{}번째 : {}'.format(idx,value), end=\"\\t\")"
   ]
  },
  {
   "cell_type": "code",
   "execution_count": 130,
   "id": "e905576d",
   "metadata": {},
   "outputs": [],
   "source": [
    "# for문을 이용한 딕셔너리 출력\n",
    "my_dic = {'name':'김형진', 'age':30, 'tel':'010-5659-3068'}"
   ]
  },
  {
   "cell_type": "code",
   "execution_count": 134,
   "id": "b153af50",
   "metadata": {},
   "outputs": [
    {
     "name": "stdout",
     "output_type": "stream",
     "text": [
      "name:김형진\tage:30\ttel:010-5659-3068\t"
     ]
    }
   ],
   "source": [
    "# 사용을 권하지 않음\n",
    "for key in my_dic:\n",
    "    print(\"{}:{}\".format(key, my_dic[key]), end='\\t')"
   ]
  },
  {
   "cell_type": "code",
   "execution_count": 135,
   "id": "19d915bc",
   "metadata": {},
   "outputs": [
    {
     "name": "stdout",
     "output_type": "stream",
     "text": [
      "0 : name\n",
      "1 : age\n",
      "2 : tel\n"
     ]
    }
   ],
   "source": [
    "# 딕셔너리에서는 enumerate 사용에 의미가 없음\n",
    "for idx, value in enumerate(my_dic):\n",
    "    print('{} : {}'.format(idx, value))"
   ]
  },
  {
   "cell_type": "code",
   "execution_count": 136,
   "id": "b949ef06",
   "metadata": {},
   "outputs": [
    {
     "data": {
      "text/plain": [
       "dict_keys(['name', 'age', 'tel'])"
      ]
     },
     "execution_count": 136,
     "metadata": {},
     "output_type": "execute_result"
    }
   ],
   "source": [
    "my_dic.keys() # 키 목록"
   ]
  },
  {
   "cell_type": "code",
   "execution_count": 137,
   "id": "02975480",
   "metadata": {},
   "outputs": [
    {
     "data": {
      "text/plain": [
       "dict_values(['김형진', 30, '010-5659-3068'])"
      ]
     },
     "execution_count": 137,
     "metadata": {},
     "output_type": "execute_result"
    }
   ],
   "source": [
    "my_dic.values() # 값들의 목록"
   ]
  },
  {
   "cell_type": "code",
   "execution_count": 138,
   "id": "e107f47b",
   "metadata": {},
   "outputs": [
    {
     "data": {
      "text/plain": [
       "dict_items([('name', '김형진'), ('age', 30), ('tel', '010-5659-3068')])"
      ]
     },
     "execution_count": 138,
     "metadata": {},
     "output_type": "execute_result"
    }
   ],
   "source": [
    "my_dic.items() # 키,값 의 목록"
   ]
  },
  {
   "cell_type": "code",
   "execution_count": 139,
   "id": "c46a61c3",
   "metadata": {},
   "outputs": [
    {
     "name": "stdout",
     "output_type": "stream",
     "text": [
      "김형진\t30\t010-5659-3068\t"
     ]
    }
   ],
   "source": [
    "for value in my_dic.values():\n",
    "    print(value, end='\\t')"
   ]
  },
  {
   "cell_type": "code",
   "execution_count": 142,
   "id": "19dbb52b",
   "metadata": {},
   "outputs": [
    {
     "name": "stdout",
     "output_type": "stream",
     "text": [
      "name : 김형진\tage : 30\ttel : 010-5659-3068\t"
     ]
    }
   ],
   "source": [
    "# 강추??....\n",
    "for key, value in my_dic.items():\n",
    "    print(\"{} : {}\\t\".format(key,value), end='')"
   ]
  },
  {
   "cell_type": "code",
   "execution_count": 143,
   "id": "9346d318",
   "metadata": {},
   "outputs": [
    {
     "data": {
      "text/plain": [
       "True"
      ]
     },
     "execution_count": 143,
     "metadata": {},
     "output_type": "execute_result"
    }
   ],
   "source": [
    "# in 연산자\n",
    "t = (10, 20 ,30)\n",
    "30 in t\n",
    "# list, tuple, set에서의 in연산자는 요소가 있는 여부를 반환"
   ]
  },
  {
   "cell_type": "code",
   "execution_count": 144,
   "id": "edf825c4",
   "metadata": {},
   "outputs": [
    {
     "data": {
      "text/plain": [
       "True"
      ]
     },
     "execution_count": 144,
     "metadata": {},
     "output_type": "execute_result"
    }
   ],
   "source": [
    "my_dic = {'name':'김형진', 'age':30, 'tel':'010-5659-3068'}\n",
    "'name' in my_dic\n",
    "# 딕셔너리에서의 in 연산자는 키가 있는 여부 반환"
   ]
  },
  {
   "cell_type": "code",
   "execution_count": 145,
   "id": "e57c6d78",
   "metadata": {},
   "outputs": [
    {
     "data": {
      "text/plain": [
       "False"
      ]
     },
     "execution_count": 145,
     "metadata": {},
     "output_type": "execute_result"
    }
   ],
   "source": [
    "'홍길동' in my_dic"
   ]
  },
  {
   "cell_type": "code",
   "execution_count": 147,
   "id": "f08eeaa1",
   "metadata": {},
   "outputs": [
    {
     "name": "stdout",
     "output_type": "stream",
     "text": [
      "my_favorite 주소 3030729302016\n",
      "new_favorite 주소 3030729302016\n"
     ]
    }
   ],
   "source": [
    "# 얕은 복사\n",
    "my_favorite = {'fruit':'apple','number':12}\n",
    "new_favorite = my_favorite # 얕은 복사(할당)\n",
    "print(\"my_favorite 주소\", id(my_favorite))\n",
    "print(\"new_favorite 주소\", id(new_favorite))"
   ]
  },
  {
   "cell_type": "code",
   "execution_count": 150,
   "id": "fc1e4645",
   "metadata": {},
   "outputs": [
    {
     "name": "stdout",
     "output_type": "stream",
     "text": [
      "{'fruit': '과일 맛있다', 'number': 12, 'people': '홍홍홍'}\n",
      "{'fruit': '과일 맛있다', 'number': 12, 'people': '홍홍홍'}\n"
     ]
    }
   ],
   "source": [
    "new_favorite['fruit'] = '과일 맛있다'\n",
    "new_favorite['people'] = '홍홍홍'\n",
    "print(my_favorite)\n",
    "print(new_favorite)"
   ]
  },
  {
   "cell_type": "code",
   "execution_count": 151,
   "id": "d28a71f6",
   "metadata": {},
   "outputs": [
    {
     "name": "stdout",
     "output_type": "stream",
     "text": [
      "my_favorite 주소 3030730499840\n",
      "new_favorite 주소 3030730500224\n"
     ]
    }
   ],
   "source": [
    "# 깊은 복사\n",
    "my_favorite = {'fruit':'apple','number':12}\n",
    "new_favorite = my_favorite.copy() # 깊은 복사(복제)\n",
    "print(\"my_favorite 주소\", id(my_favorite))\n",
    "print(\"new_favorite 주소\", id(new_favorite))"
   ]
  },
  {
   "cell_type": "code",
   "execution_count": 152,
   "id": "a55185ae",
   "metadata": {},
   "outputs": [
    {
     "name": "stdout",
     "output_type": "stream",
     "text": [
      "{'fruit': 'apple', 'number': 12}\n",
      "{'fruit': '과일 맛있다', 'number': 12, 'people': '홍홍홍'}\n"
     ]
    }
   ],
   "source": [
    "new_favorite['fruit'] = '과일 맛있다'\n",
    "new_favorite['people'] = '홍홍홍'\n",
    "print(my_favorite)\n",
    "print(new_favorite)"
   ]
  },
  {
   "cell_type": "markdown",
   "id": "d7ec3c1b",
   "metadata": {},
   "source": [
    "# 4절 . 셋\n",
    "- 중복을 허용하지 않는 집합(순서x)\n",
    "- 중괄호 ({})나 set()함수를 이용해서 셋 생성 : set([1,2]), set({'name':'홍'})\n",
    "- 추가 : add(), update()\n",
    "- 집합연산자 : &교집합, |합집합, -차집합\n",
    "- 삭제 : remove()"
   ]
  },
  {
   "cell_type": "code",
   "execution_count": 3,
   "id": "7470818f",
   "metadata": {},
   "outputs": [
    {
     "data": {
      "text/plain": [
       "{'apple', 'banana', 'orange'}"
      ]
     },
     "execution_count": 3,
     "metadata": {},
     "output_type": "execute_result"
    }
   ],
   "source": [
    "fruits = {'banana', 'orange', 'apple', 'apple' }\n",
    "fruits"
   ]
  },
  {
   "cell_type": "code",
   "execution_count": 2,
   "id": "742ab12e",
   "metadata": {},
   "outputs": [
    {
     "data": {
      "text/plain": [
       "{1, 2, 3}"
      ]
     },
     "execution_count": 2,
     "metadata": {},
     "output_type": "execute_result"
    }
   ],
   "source": [
    "s1 = set([1, 2, 3, 1])\n",
    "s1"
   ]
  },
  {
   "cell_type": "code",
   "execution_count": 4,
   "id": "79b8d2e5",
   "metadata": {},
   "outputs": [
    {
     "data": {
      "text/plain": [
       "{1, 2, 3}"
      ]
     },
     "execution_count": 4,
     "metadata": {},
     "output_type": "execute_result"
    }
   ],
   "source": [
    "s2 = set((1, 2, 3, 1))\n",
    "s2"
   ]
  },
  {
   "cell_type": "code",
   "execution_count": 5,
   "id": "b6853bd4",
   "metadata": {},
   "outputs": [
    {
     "data": {
      "text/plain": [
       "{'add', 'age', 'name'}"
      ]
     },
     "execution_count": 5,
     "metadata": {},
     "output_type": "execute_result"
    }
   ],
   "source": [
    "# set함수를 이용해서 딕셔너리를 셋으로 전환할때는 key만 적용\n",
    "s3 = set({'name':'홍', 'age':32, 'add':'서울'})\n",
    "s3"
   ]
  },
  {
   "cell_type": "markdown",
   "id": "c9994bfa",
   "metadata": {},
   "source": [
    "##  4-1추가하기\n",
    "- add() : 기본자료형, 튜플 데이터 하나 추가. list, dic, set유형은 add()함수를 사용 불가\n",
    "- update() : 리스트, 튜플, 딕셔너리, 셋 요소를 하나씩 따로 추가. dic사용시 key만 적용\n",
    "     - cf. list의 extend()"
   ]
  },
  {
   "cell_type": "code",
   "execution_count": 7,
   "id": "9c41a141",
   "metadata": {},
   "outputs": [
    {
     "data": {
      "text/plain": [
       "{(6, 7, 8), 1, 2, 3, 4, 5}"
      ]
     },
     "execution_count": 7,
     "metadata": {},
     "output_type": "execute_result"
    }
   ],
   "source": [
    "s2.add(4)\n",
    "s2.add(5)\n",
    "s2.add((6, 7, 8))\n",
    "s2"
   ]
  },
  {
   "cell_type": "code",
   "execution_count": 8,
   "id": "bbb0967f",
   "metadata": {},
   "outputs": [
    {
     "data": {
      "text/plain": [
       "{(6, 7, 8), 0, 1, 2, 3, 4, 5}"
      ]
     },
     "execution_count": 8,
     "metadata": {},
     "output_type": "execute_result"
    }
   ],
   "source": [
    "s2.add(0)\n",
    "s2"
   ]
  },
  {
   "cell_type": "code",
   "execution_count": 10,
   "id": "eafdf105",
   "metadata": {},
   "outputs": [
    {
     "data": {
      "text/plain": [
       "{False, 1, 2, 3}"
      ]
     },
     "execution_count": 10,
     "metadata": {},
     "output_type": "execute_result"
    }
   ],
   "source": [
    "s2 = {1,2,3}\n",
    "s2.add(False)\n",
    "s2"
   ]
  },
  {
   "cell_type": "code",
   "execution_count": 11,
   "id": "2b8a0527",
   "metadata": {},
   "outputs": [
    {
     "data": {
      "text/plain": [
       "{False, 1, 2, 3}"
      ]
     },
     "execution_count": 11,
     "metadata": {},
     "output_type": "execute_result"
    }
   ],
   "source": [
    "s2.add(True)\n",
    "s2"
   ]
  },
  {
   "cell_type": "markdown",
   "id": "8e566fcf",
   "metadata": {},
   "source": [
    "### update"
   ]
  },
  {
   "cell_type": "code",
   "execution_count": 12,
   "id": "3ddf0cba",
   "metadata": {},
   "outputs": [
    {
     "data": {
      "text/plain": [
       "{False, 1, 2, 3, 4, 5, 6}"
      ]
     },
     "execution_count": 12,
     "metadata": {},
     "output_type": "execute_result"
    }
   ],
   "source": [
    "s2.update((4,5,6))\n",
    "s2"
   ]
  },
  {
   "cell_type": "code",
   "execution_count": 14,
   "id": "e07f8b05",
   "metadata": {},
   "outputs": [
    {
     "data": {
      "text/plain": [
       "{1, 2, 3, 4, 5, 6, False, 'age', 'name'}"
      ]
     },
     "execution_count": 14,
     "metadata": {},
     "output_type": "execute_result"
    }
   ],
   "source": [
    "s2.update({'name':'홍', 'age':30}) # 딕셔너리는 키값만 추가 됨\n",
    "s2"
   ]
  },
  {
   "cell_type": "markdown",
   "id": "bda306ed",
   "metadata": {},
   "source": [
    "### 삭제 : remove()"
   ]
  },
  {
   "cell_type": "code",
   "execution_count": 15,
   "id": "f4e9fe22",
   "metadata": {},
   "outputs": [
    {
     "data": {
      "text/plain": [
       "{1, 2, 3, 4}"
      ]
     },
     "execution_count": 15,
     "metadata": {},
     "output_type": "execute_result"
    }
   ],
   "source": [
    "s1 = {1, 2, 3, 4, 1, 1}\n",
    "s1"
   ]
  },
  {
   "cell_type": "code",
   "execution_count": 17,
   "id": "6f6703b3",
   "metadata": {},
   "outputs": [
    {
     "name": "stdout",
     "output_type": "stream",
     "text": [
      "없는 요소\n"
     ]
    }
   ],
   "source": [
    "if 9 in s1:\n",
    "    s1.remove(9)\n",
    "else:\n",
    "    print('없는 요소')"
   ]
  },
  {
   "cell_type": "code",
   "execution_count": 19,
   "id": "e2f0e228",
   "metadata": {},
   "outputs": [],
   "source": [
    "def safe_remove(data, remove_item): # data : List, set\n",
    "    if remove_item in data:\n",
    "        data.remove(remove_item)\n",
    "    else:\n",
    "        print('해당 데이터는 없는 아이템 입니다')"
   ]
  },
  {
   "cell_type": "code",
   "execution_count": 20,
   "id": "f2066e78",
   "metadata": {},
   "outputs": [
    {
     "name": "stdout",
     "output_type": "stream",
     "text": [
      "해당 데이터는 없는 아이템 입니다\n"
     ]
    }
   ],
   "source": [
    "safe_remove(s1, 9)"
   ]
  },
  {
   "cell_type": "code",
   "execution_count": 21,
   "id": "db383ac5",
   "metadata": {},
   "outputs": [
    {
     "data": {
      "text/plain": [
       "{1, 2, 3, 4}"
      ]
     },
     "execution_count": 21,
     "metadata": {},
     "output_type": "execute_result"
    }
   ],
   "source": [
    "s1"
   ]
  },
  {
   "cell_type": "code",
   "execution_count": 22,
   "id": "3e9616bd",
   "metadata": {},
   "outputs": [
    {
     "data": {
      "text/plain": [
       "{2, 3, 4}"
      ]
     },
     "execution_count": 22,
     "metadata": {},
     "output_type": "execute_result"
    }
   ],
   "source": [
    "# 논리값 False는 0으로도 삭제 할수 있고 , True는 1로 삭제할수 있습니다\n",
    "# 논리값 0는 False으로도 삭제 할수 있고 , 1는 True로 삭제할수 있습니다\n",
    "s1.remove(True)\n",
    "s1"
   ]
  },
  {
   "cell_type": "markdown",
   "id": "33736663",
   "metadata": {},
   "source": [
    "## 4-2 합집합(|), 교집합(&), 차집합(-)"
   ]
  },
  {
   "cell_type": "code",
   "execution_count": 25,
   "id": "48525d3c",
   "metadata": {},
   "outputs": [
    {
     "name": "stdout",
     "output_type": "stream",
     "text": [
      "s1 = {1, 2, 3, 4, 5}\n",
      "s2 = {3, 4, 5, 6, 7}\n",
      "s1|s2 = {1, 2, 3, 4, 5, 6, 7}\n",
      "s1&s2 = {3, 4, 5}\n",
      "s1-s2 = {1, 2}\n"
     ]
    }
   ],
   "source": [
    "s1 = {1, 2, 3, 4, 5}\n",
    "s2 = {3, 4, 5, 6, 7}\n",
    "print('s1 =', s1)\n",
    "print('s2 =', s2)\n",
    "print('s1|s2 =', s1|s2) #  &, | : 집합연산자, 논리연산자, 비트연산자\n",
    "print('s1&s2 =', s1&s2)\n",
    "print('s1-s2 =', s1-s2)"
   ]
  },
  {
   "cell_type": "code",
   "execution_count": 26,
   "id": "6efff3ec",
   "metadata": {},
   "outputs": [
    {
     "name": "stdout",
     "output_type": "stream",
     "text": [
      "{'순자', '길동', '길자'}\n"
     ]
    }
   ],
   "source": [
    "names = {'길자', '순자', '길동'}\n",
    "print(names)"
   ]
  },
  {
   "cell_type": "code",
   "execution_count": 27,
   "id": "91ceb2db",
   "metadata": {},
   "outputs": [
    {
     "name": "stdout",
     "output_type": "stream",
     "text": [
      "순자\t길동\t길자\t"
     ]
    }
   ],
   "source": [
    "for name in names:\n",
    "    print(name, end='\\t')"
   ]
  },
  {
   "cell_type": "markdown",
   "id": "e858ccec",
   "metadata": {},
   "source": [
    "# 5절. enumerate\n",
    "- 반복자 또는 순서 객체로 반복문을 처리할 때 사용하는 함수 \n",
    "- 리스트, 튜플, 셋(for문) 사용 가능함"
   ]
  },
  {
   "cell_type": "code",
   "execution_count": 29,
   "id": "43c398ce",
   "metadata": {},
   "outputs": [
    {
     "data": {
      "text/plain": [
       "[(0, '순자'), (1, '길동'), (2, '길자')]"
      ]
     },
     "execution_count": 29,
     "metadata": {},
     "output_type": "execute_result"
    }
   ],
   "source": [
    "list(enumerate(names))"
   ]
  },
  {
   "cell_type": "code",
   "execution_count": 30,
   "id": "bd03edab",
   "metadata": {},
   "outputs": [
    {
     "name": "stdout",
     "output_type": "stream",
     "text": [
      "0.순자\t1.길동\t2.길자\t"
     ]
    }
   ],
   "source": [
    "for no, name in enumerate(names):\n",
    "    print(\"{}.{}\".format(no, name), end=\"\\t\")"
   ]
  },
  {
   "cell_type": "code",
   "execution_count": 31,
   "id": "3e0a185e",
   "metadata": {},
   "outputs": [
    {
     "name": "stdout",
     "output_type": "stream",
     "text": [
      "1.순자\t2.길동\t3.길자\t"
     ]
    }
   ],
   "source": [
    "names = ['순자', '길동', '길자']\n",
    "\n",
    "for idx, name in enumerate(names):\n",
    "    print(\"{}.{}\".format(idx+1, name), end=\"\\t\")"
   ]
  },
  {
   "cell_type": "code",
   "execution_count": 35,
   "id": "1c2702ef",
   "metadata": {},
   "outputs": [
    {
     "name": "stdout",
     "output_type": "stream",
     "text": [
      "1.순자의 연락처는 010-9999-9999이고 서울 살아요\n",
      "2.길동의 연락처는 010-1351-4563이고 인천 살아요\n",
      "3.길자의 연락처는 010-5431-7451이고 판교 살아요\n"
     ]
    }
   ],
   "source": [
    "names = ['순자', '길동', '길자']\n",
    "tels = ['010-9999-9999', '010-1351-4563', '010-5431-7451']\n",
    "adds = ['서울', '인천', '판교']\n",
    "\n",
    "for idx in range(len(names)):\n",
    "    print(\"{}.{}의 연락처는 {}이고 {} 살아요\".format(idx+1, names[idx], tels[idx], adds[idx]))"
   ]
  },
  {
   "cell_type": "code",
   "execution_count": 40,
   "id": "63da2bfe",
   "metadata": {},
   "outputs": [
    {
     "name": "stdout",
     "output_type": "stream",
     "text": [
      "홍\n",
      "33\n",
      "신림\n",
      "name.홍\tage.33\tadds.신림\t"
     ]
    }
   ],
   "source": [
    "my_dic = {'name':'홍', 'age':33, 'adds':'신림'}\n",
    "for data in my_dic.values(): # value 값들만 추출\n",
    "    print(data)\n",
    "for key, value in my_dic.items(): # key, value 값 추출\n",
    "    print(\"{}.{}\".format(key, value), end=\"\\t\")    "
   ]
  },
  {
   "cell_type": "code",
   "execution_count": 42,
   "id": "eae708a9",
   "metadata": {},
   "outputs": [
    {
     "data": {
      "text/plain": [
       "[(0, ('name', '홍')), (1, ('age', 33)), (2, ('adds', '신림'))]"
      ]
     },
     "execution_count": 42,
     "metadata": {},
     "output_type": "execute_result"
    }
   ],
   "source": [
    "list(enumerate(my_dic.items()))"
   ]
  },
  {
   "cell_type": "code",
   "execution_count": 43,
   "id": "abcaee61",
   "metadata": {},
   "outputs": [
    {
     "name": "stdout",
     "output_type": "stream",
     "text": [
      "1.name : 홍\n",
      "2.age : 33\n",
      "3.adds : 신림\n"
     ]
    }
   ],
   "source": [
    "for idx, (key, value) in enumerate(my_dic.items()):\n",
    "    print(\"{}.{} : {}\".format(idx+1 , key, value))"
   ]
  },
  {
   "cell_type": "code",
   "execution_count": 45,
   "id": "a3083a3e",
   "metadata": {},
   "outputs": [
    {
     "data": {
      "text/plain": [
       "[1, 2, 3, 4, 5, 6, 7, 8, 9, 10]"
      ]
     },
     "execution_count": 45,
     "metadata": {},
     "output_type": "execute_result"
    }
   ],
   "source": [
    "numbers = [1, 2, 3, 4, 5, 6, 7, 8, 9, 10]\n",
    "numbers"
   ]
  },
  {
   "cell_type": "code",
   "execution_count": 46,
   "id": "7c866401",
   "metadata": {},
   "outputs": [
    {
     "data": {
      "text/plain": [
       "[1, 2, 3, 4, 5, 6, 7, 8, 9, 10, 100]"
      ]
     },
     "execution_count": 46,
     "metadata": {},
     "output_type": "execute_result"
    }
   ],
   "source": [
    "#1\n",
    "numbers.append(100)\n",
    "numbers"
   ]
  },
  {
   "cell_type": "code",
   "execution_count": 49,
   "id": "226efe41",
   "metadata": {},
   "outputs": [
    {
     "data": {
      "text/plain": [
       "[1, 2, 3, 4, 5, 6, 7, 8, 9, 10, 100, 200, 300, 400, 500, 200, 300, 400, 500]"
      ]
     },
     "execution_count": 49,
     "metadata": {},
     "output_type": "execute_result"
    }
   ],
   "source": [
    "#2\n",
    "numbers.extend([200,300,400,500])\n",
    "numbers"
   ]
  },
  {
   "cell_type": "code",
   "execution_count": 56,
   "id": "26ac11cb",
   "metadata": {},
   "outputs": [
    {
     "name": "stdout",
     "output_type": "stream",
     "text": [
      "[1, 2, 3, 4, 5]\n"
     ]
    }
   ],
   "source": [
    "#3\n",
    "print(numbers[:5])"
   ]
  },
  {
   "cell_type": "code",
   "execution_count": 59,
   "id": "a2238a95",
   "metadata": {},
   "outputs": [
    {
     "data": {
      "text/plain": [
       "[2, 4, 6, 8, 10, 100, 200, 300, 400, 500, 200, 300, 400, 500]"
      ]
     },
     "execution_count": 59,
     "metadata": {},
     "output_type": "execute_result"
    }
   ],
   "source": [
    "#4\n",
    "[data for data in numbers if data%2==0]"
   ]
  },
  {
   "cell_type": "code",
   "execution_count": 68,
   "id": "335d482e",
   "metadata": {},
   "outputs": [
    {
     "data": {
      "text/plain": [
       "[1, 0, 3, 0, 5, 0, 7, 0, 9, 0, 100, 0, 300, 0, 500, 0, 300, 0, 500]"
      ]
     },
     "execution_count": 68,
     "metadata": {},
     "output_type": "execute_result"
    }
   ],
   "source": [
    "#5\n",
    "for i in range(1, len(numbers), 2):\n",
    "    numbers[i] = 0\n",
    "\n",
    "numbers"
   ]
  },
  {
   "cell_type": "code",
   "execution_count": 69,
   "id": "ef626c10",
   "metadata": {},
   "outputs": [
    {
     "data": {
      "text/plain": [
       "[500, 0, 300, 0, 500, 0, 300, 0, 100, 0, 9, 0, 7, 0, 5, 0, 3, 0, 1]"
      ]
     },
     "execution_count": 69,
     "metadata": {},
     "output_type": "execute_result"
    }
   ],
   "source": [
    "#6\n",
    "numbers.reverse()\n",
    "numbers"
   ]
  },
  {
   "cell_type": "code",
   "execution_count": 77,
   "id": "12b58077",
   "metadata": {},
   "outputs": [],
   "source": [
    "member_info={\"name\":\"홍길동\", \"age\":20, \"address\":\"서울시 마포구\", \"score\":90}"
   ]
  },
  {
   "cell_type": "code",
   "execution_count": 100,
   "id": "1ffa67c4",
   "metadata": {},
   "outputs": [
    {
     "name": "stdout",
     "output_type": "stream",
     "text": [
      "address: 서울시 서대문구\n",
      "7번결과 : 서울시 서대문구\n"
     ]
    }
   ],
   "source": [
    "#7\n",
    "print(\"address:\", member_info[\"address\"])\n",
    "print(\"7번결과 :\", member_info.get('address'))"
   ]
  },
  {
   "cell_type": "code",
   "execution_count": 79,
   "id": "44e5b5d6",
   "metadata": {},
   "outputs": [
    {
     "name": "stdout",
     "output_type": "stream",
     "text": [
      "score: 90\n"
     ]
    }
   ],
   "source": [
    "#8\n",
    "print(\"score:\", member_info[\"score\"])\n",
    "del member_info[\"score\"]"
   ]
  },
  {
   "cell_type": "code",
   "execution_count": 82,
   "id": "5fc2c888",
   "metadata": {},
   "outputs": [
    {
     "name": "stdout",
     "output_type": "stream",
     "text": [
      "{'name': '홍길동', 'age': 20, 'address': '서울시 서대문구'}\n"
     ]
    }
   ],
   "source": [
    "#9\n",
    "member_info[\"address\"] = \"서울시 서대문구\"\n",
    "print(member_info)"
   ]
  },
  {
   "cell_type": "code",
   "execution_count": 80,
   "id": "f5e44f9b",
   "metadata": {},
   "outputs": [
    {
     "data": {
      "text/plain": [
       "[(0, 'name'), (1, 'age'), (2, 'address')]"
      ]
     },
     "execution_count": 80,
     "metadata": {},
     "output_type": "execute_result"
    }
   ],
   "source": [
    "#10\n",
    "list(enumerate(member_info))"
   ]
  },
  {
   "cell_type": "code",
   "execution_count": null,
   "id": "c1b4a730",
   "metadata": {},
   "outputs": [],
   "source": [
    "# 서술형\n",
    "# 1번  orange , banana\n",
    "# 2번  2번 [10, 9, 8, 7, 6, 5, 4, 3, 2, 1]\n",
    "# 3번  1\n",
    "# 4번  extend \n",
    "# 5번 [0, 1, 0, 3, 0, 5, 0, 7, 0, 9]\n",
    "# 6번 [5, 1, 6, 3, 7, 5, 8, 7, 9, 9]\n",
    "# 7번 [0, 1, 1, 3, 2, 5, 3, 7, 4, 9]\n",
    "# 8번 5번이요\n",
    "# 9번 순서대로 apple banana orange 가 나옵니다\n",
    "# 10번  3\n",
    "# 11번 def"
   ]
  },
  {
   "cell_type": "code",
   "execution_count": null,
   "id": "907323da",
   "metadata": {},
   "outputs": [],
   "source": []
  },
  {
   "cell_type": "code",
   "execution_count": null,
   "id": "9ad19b13",
   "metadata": {},
   "outputs": [],
   "source": []
  }
 ],
 "metadata": {
  "kernelspec": {
   "display_name": "Python 3 (ipykernel)",
   "language": "python",
   "name": "python3"
  },
  "language_info": {
   "codemirror_mode": {
    "name": "ipython",
    "version": 3
   },
   "file_extension": ".py",
   "mimetype": "text/x-python",
   "name": "python",
   "nbconvert_exporter": "python",
   "pygments_lexer": "ipython3",
   "version": "3.10.9"
  },
  "toc": {
   "base_numbering": 1,
   "nav_menu": {},
   "number_sections": true,
   "sideBar": true,
   "skip_h1_title": false,
   "title_cell": "Table of Contents",
   "title_sidebar": "Contents",
   "toc_cell": false,
   "toc_position": {
    "height": "calc(100% - 180px)",
    "left": "10px",
    "top": "150px",
    "width": "167px"
   },
   "toc_section_display": true,
   "toc_window_display": true
  }
 },
 "nbformat": 4,
 "nbformat_minor": 5
}
